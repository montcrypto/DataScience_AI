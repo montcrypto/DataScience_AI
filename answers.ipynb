{
 "cells": [
  {
   "cell_type": "markdown",
   "metadata": {
    "tags": []
   },
   "source": [
    "### ２−３　練習"
   ]
  },
  {
   "cell_type": "markdown",
   "metadata": {},
   "source": [
    "- １）9時00分00秒から3333秒後は、何時何分何秒ですか？\n",
    "\n",
    "- ２）1)を計算する関数を作りなさい。"
   ]
  },
  {
   "cell_type": "code",
   "execution_count": 1,
   "metadata": {},
   "outputs": [
    {
     "name": "stdout",
     "output_type": "stream",
     "text": [
      "9時55分33秒\n"
     ]
    }
   ],
   "source": [
    "fun=3333//60\n",
    "byo=3333%60\n",
    "jikan=3333//3600\n",
    "print(str(9+jikan)+'時'+str(fun)+'分'+str(byo)+'秒')"
   ]
  },
  {
   "cell_type": "code",
   "execution_count": 2,
   "metadata": {},
   "outputs": [
    {
     "data": {
      "text/plain": [
       "'12時20分50秒'"
      ]
     },
     "execution_count": 2,
     "metadata": {},
     "output_type": "execute_result"
    }
   ],
   "source": [
    "def imananji(x):\n",
    "    jikan=x//3600\n",
    "    fun=(x-jikan*3600)//60\n",
    "    byo=(x-jikan*3600)%60\n",
    "    result=str(9+jikan)+'時'+str(fun)+'分'+str(byo)+'秒'\n",
    "    return result\n",
    "\n",
    "imananji(12050)"
   ]
  },
  {
   "cell_type": "markdown",
   "metadata": {},
   "source": [
    "### ３−４ 練習"
   ]
  },
  {
   "cell_type": "markdown",
   "metadata": {},
   "source": [
    "- １）近畿地区の国立大学の名称と緯度・経度の辞書を作成しなさい。"
   ]
  },
  {
   "cell_type": "code",
   "execution_count": 3,
   "metadata": {},
   "outputs": [
    {
     "name": "stdout",
     "output_type": "stream",
     "text": [
      "京都教育大学の場所は (34.950215, 135.773187)\n"
     ]
    }
   ],
   "source": [
    "univ_dic={'Kyoto University':(35.026244,135.780822),'Kyoto University of Education':(34.950215,135.773187),'Kyoto Institute of Technology':(35.049664,135.782046)}\n",
    "print('京都教育大学の場所は',univ_dic['Kyoto University of Education'])"
   ]
  },
  {
   "cell_type": "markdown",
   "metadata": {},
   "source": [
    "### ４−５　練習\n",
    "\n",
    "- １）　2022年元旦から12月末まで木曜日の日付を出力しなさい。"
   ]
  },
  {
   "cell_type": "code",
   "execution_count": 4,
   "metadata": {},
   "outputs": [
    {
     "name": "stdout",
     "output_type": "stream",
     "text": [
      "1月 6日\n",
      "1月 13日\n",
      "1月 20日\n",
      "1月 27日\n",
      "2月 3日\n",
      "2月 10日\n",
      "2月 17日\n",
      "2月 24日\n",
      "3月 3日\n",
      "3月 10日\n",
      "3月 17日\n",
      "3月 24日\n",
      "3月 31日\n",
      "4月 7日\n",
      "4月 14日\n",
      "4月 21日\n",
      "4月 28日\n",
      "5月 5日\n",
      "5月 12日\n",
      "5月 19日\n",
      "5月 26日\n",
      "6月 2日\n",
      "6月 9日\n",
      "6月 16日\n",
      "6月 23日\n",
      "6月 30日\n",
      "7月 7日\n",
      "7月 14日\n",
      "7月 21日\n",
      "7月 28日\n",
      "8月 4日\n",
      "8月 11日\n",
      "8月 18日\n",
      "8月 25日\n",
      "9月 1日\n",
      "9月 8日\n",
      "9月 15日\n",
      "9月 22日\n",
      "9月 29日\n",
      "10月 6日\n",
      "10月 13日\n",
      "10月 20日\n",
      "10月 27日\n",
      "11月 3日\n",
      "11月 10日\n",
      "11月 17日\n",
      "11月 24日\n",
      "12月 1日\n",
      "12月 8日\n",
      "12月 15日\n",
      "12月 22日\n",
      "12月 29日\n"
     ]
    }
   ],
   "source": [
    "month=[1,2,3,4,5,6,7,8,9,10,11,12]\n",
    "day=[31,28,31,30,31,30,31,31,30,31,30,31]\n",
    "\n",
    "months=[]\n",
    "days=[]\n",
    "for i,j in zip(month,day):\n",
    "    months.extend([i]*day[i-1])\n",
    "    days.extend(list(range(1,j+1)))\n",
    "\n",
    "Thursdays=[(x,y)for x,y in zip(months[5::7],days[5::7])]\n",
    "    \n",
    "for p in Thursdays:\n",
    "    print(str(p[0])+'月 '+str(p[1])+'日')"
   ]
  },
  {
   "cell_type": "code",
   "execution_count": 5,
   "metadata": {},
   "outputs": [
    {
     "name": "stdout",
     "output_type": "stream",
     "text": [
      "                                  2022\n",
      "\n",
      "      January                   February                   March\n",
      "Mo Tu We Th Fr Sa Su      Mo Tu We Th Fr Sa Su      Mo Tu We Th Fr Sa Su\n",
      "                1  2          1  2  3  4  5  6          1  2  3  4  5  6\n",
      " 3  4  5  6  7  8  9       7  8  9 10 11 12 13       7  8  9 10 11 12 13\n",
      "10 11 12 13 14 15 16      14 15 16 17 18 19 20      14 15 16 17 18 19 20\n",
      "17 18 19 20 21 22 23      21 22 23 24 25 26 27      21 22 23 24 25 26 27\n",
      "24 25 26 27 28 29 30      28                        28 29 30 31\n",
      "31\n",
      "\n",
      "       April                      May                       June\n",
      "Mo Tu We Th Fr Sa Su      Mo Tu We Th Fr Sa Su      Mo Tu We Th Fr Sa Su\n",
      "             1  2  3                         1             1  2  3  4  5\n",
      " 4  5  6  7  8  9 10       2  3  4  5  6  7  8       6  7  8  9 10 11 12\n",
      "11 12 13 14 15 16 17       9 10 11 12 13 14 15      13 14 15 16 17 18 19\n",
      "18 19 20 21 22 23 24      16 17 18 19 20 21 22      20 21 22 23 24 25 26\n",
      "25 26 27 28 29 30         23 24 25 26 27 28 29      27 28 29 30\n",
      "                          30 31\n",
      "\n",
      "        July                     August                  September\n",
      "Mo Tu We Th Fr Sa Su      Mo Tu We Th Fr Sa Su      Mo Tu We Th Fr Sa Su\n",
      "             1  2  3       1  2  3  4  5  6  7                1  2  3  4\n",
      " 4  5  6  7  8  9 10       8  9 10 11 12 13 14       5  6  7  8  9 10 11\n",
      "11 12 13 14 15 16 17      15 16 17 18 19 20 21      12 13 14 15 16 17 18\n",
      "18 19 20 21 22 23 24      22 23 24 25 26 27 28      19 20 21 22 23 24 25\n",
      "25 26 27 28 29 30 31      29 30 31                  26 27 28 29 30\n",
      "\n",
      "      October                   November                  December\n",
      "Mo Tu We Th Fr Sa Su      Mo Tu We Th Fr Sa Su      Mo Tu We Th Fr Sa Su\n",
      "                1  2          1  2  3  4  5  6                1  2  3  4\n",
      " 3  4  5  6  7  8  9       7  8  9 10 11 12 13       5  6  7  8  9 10 11\n",
      "10 11 12 13 14 15 16      14 15 16 17 18 19 20      12 13 14 15 16 17 18\n",
      "17 18 19 20 21 22 23      21 22 23 24 25 26 27      19 20 21 22 23 24 25\n",
      "24 25 26 27 28 29 30      28 29 30                  26 27 28 29 30 31\n",
      "31\n",
      "\n"
     ]
    }
   ],
   "source": [
    "# モジュールを使うと最も簡単に表示できる。\n",
    "import calendar as cal\n",
    "print(cal.calendar(2022))"
   ]
  },
  {
   "cell_type": "markdown",
   "metadata": {},
   "source": [
    "### 5−５　練習\n",
    "\n",
    "- １）　2022年元旦から12月末まで木曜日の日付を出力しなさい。"
   ]
  },
  {
   "cell_type": "code",
   "execution_count": null,
   "metadata": {},
   "outputs": [],
   "source": []
  }
 ],
 "metadata": {
  "kernelspec": {
   "display_name": "Python 3",
   "language": "python",
   "name": "python3"
  },
  "language_info": {
   "codemirror_mode": {
    "name": "ipython",
    "version": 3
   },
   "file_extension": ".py",
   "mimetype": "text/x-python",
   "name": "python",
   "nbconvert_exporter": "python",
   "pygments_lexer": "ipython3",
   "version": "3.8.9"
  }
 },
 "nbformat": 4,
 "nbformat_minor": 4
}
