{
 "cells": [
  {
   "cell_type": "markdown",
   "metadata": {},
   "source": [
    "# 主成分分析（Principal Component Analysis）"
   ]
  },
  {
   "cell_type": "markdown",
   "metadata": {},
   "source": [
    "### 2組の数値８個のデータを作って、第一主成分をもとめる\n",
    "\n",
    "Calculate 1st Principal Component using a test dataset"
   ]
  },
  {
   "cell_type": "code",
   "execution_count": null,
   "metadata": {},
   "outputs": [],
   "source": [
    "import numpy as np\n",
    "import matplotlib.pyplot as plt\n",
    "import pandas as pd\n",
    "%matplotlib inline\n",
    "\n",
    "data0=[[-5,2],[-2,1],[2,0],[4,-2],[5,-1],[-3,2],[3,-3],[5,2]]\n",
    "data0=np.array(data0)\n",
    "plt.scatter(data0[:,0],data0[:,1])\n",
    "plt.show()\n",
    "\n",
    "df=pd.DataFrame(data0)\n",
    "df"
   ]
  },
  {
   "cell_type": "code",
   "execution_count": null,
   "metadata": {},
   "outputs": [],
   "source": [
    "import numpy as np\n",
    "# np.random.normal()は、平均loc、標準偏差scaleの正規分布に従う乱数を返す。\n",
    "x=np.random.normal(1,2,(2,10))\n",
    "y=np.random.normal(-2,2,(2,10))\n",
    "plt.scatter(x[0],x[1])\n",
    "plt.scatter(y[0],y[1])\n",
    "plt.show()\n",
    "z=np.hstack((x,y))\n",
    "plt.scatter(z[0],z[1])\n",
    "data=z"
   ]
  },
  {
   "cell_type": "markdown",
   "metadata": {},
   "source": [
    "分散共分散行列をもとめて、固有値、固有ベクトルを計算する。\n",
    "\n",
    "Firstly, we calculate variance covariance matrix and then its eigenvalues and eigenvectors."
   ]
  },
  {
   "cell_type": "code",
   "execution_count": null,
   "metadata": {},
   "outputs": [],
   "source": [
    "mat_cov=np.cov(data)\n",
    "# 分散共分散行列を表示\n",
    "#print(\"分散共分散行列 variance-covariance matrix \\n{}\".format(mat_cov))\n",
    "#print(\"\\n\")\n",
    "wei, vec = np.linalg.eig(mat_cov)\n",
    "\n",
    "# 固有値を表示\n",
    "#print(\"固有値 eigenvalue {}\\n\".format(m_eig[0]))\n",
    "\n",
    "# 固有ベクトルを表示\n",
    "#print(\"固有ベクトル eigenvector \\n{}\".format(m_eig[1]))\n",
    "\n",
    "plt.scatter(data[0],data[1])\n",
    "plt.plot(x,x/0.9458*-0.3246)\n",
    "plt.plot(x1,x1/0.3246*0.9558)\n",
    "# plt.xlim(-10,10)\n",
    "# plt.ylim(-10,10)\n",
    "plt.axis('equal')\n",
    "\n",
    "plt.show()"
   ]
  },
  {
   "cell_type": "markdown",
   "metadata": {},
   "source": [
    "それぞれのデータの第一主成分に対するスコアを内積で計算する\n",
    "\n",
    "inner products of each data by with 1st PC  eigenvector gives 1st PC 'Score'. "
   ]
  },
  {
   "cell_type": "code",
   "execution_count": null,
   "metadata": {},
   "outputs": [],
   "source": [
    "data"
   ]
  },
  {
   "cell_type": "code",
   "execution_count": null,
   "metadata": {},
   "outputs": [],
   "source": [
    "pd.DataFrame(data.T)"
   ]
  },
  {
   "cell_type": "code",
   "execution_count": null,
   "metadata": {},
   "outputs": [],
   "source": [
    "# 固有値14の軸上でのスコアは？\n",
    "np.dot(data,m_eig[0])\n",
    "print(\"第一主成分のスコア　Scores of 1st PC \\n{}\".format(np.dot(data,m_eig[1][:,0])))"
   ]
  },
  {
   "cell_type": "markdown",
   "metadata": {},
   "source": [
    "###  celluloseの面間隔のデータを読み込んで同じ操作をやってみる。データは４次元\n",
    "\n",
    "Next we extend above process to see Cellulose d-spacings data. Now data has 4 variables."
   ]
  },
  {
   "cell_type": "code",
   "execution_count": null,
   "metadata": {},
   "outputs": [],
   "source": [
    "# load data from excel file エクセルファイルからデータを読む\n",
    "import pandas as pd\n",
    "\n",
    "df = pd.read_excel('wada_MG1995_xraydata.xlsx', index_col=0)\n",
    "df.head(10)"
   ]
  },
  {
   "cell_type": "code",
   "execution_count": null,
   "metadata": {},
   "outputs": [],
   "source": [
    "# 分散共分散行列　（variance-covariance matrix）\n",
    "import numpy as np\n",
    "df.cov()"
   ]
  },
  {
   "cell_type": "code",
   "execution_count": null,
   "metadata": {},
   "outputs": [],
   "source": [
    "# 固有値と固有ベクトル　eigenvalue and eigen vectors\n",
    "res=df.cov()\n",
    "# \n",
    "a_eig = np.linalg.eig(res)\n",
    "# 固有値を表示　eigenvalue\n",
    "print(\"固有値 eigenvalues {}\\n\".format(a_eig[0]))\n",
    "# 固有ベクトルを表示 eigenvector\n",
    "print(\"固有ベクトル eigenvectors \\n{}\".format(a_eig[1]))"
   ]
  },
  {
   "cell_type": "code",
   "execution_count": null,
   "metadata": {},
   "outputs": [],
   "source": [
    "# 第一主成分から成分まで計算　score of 1st to 3rd principal components\n",
    "pc1=np.dot(df.iloc[:,2:],a_eig[1][:,0])\n",
    "pc2=np.dot(df.iloc[:,2:],a_eig[1][:,1])\n",
    "pc3=np.dot(df.iloc[:,2:],a_eig[1][:,2])\n",
    "df['pc1']=pc1\n",
    "df['pc2']=pc2\n",
    "df['pc3']=pc3"
   ]
  },
  {
   "cell_type": "code",
   "execution_count": null,
   "metadata": {},
   "outputs": [],
   "source": [
    "import matplotlib.pyplot as plt\n",
    "import seaborn as sns\n",
    "sns.pairplot(df,hue='mark',vars=['pc1', 'pc2'])\n",
    "plt.show()"
   ]
  },
  {
   "cell_type": "markdown",
   "metadata": {},
   "source": [
    "## すべて scikit-learn でやってみる"
   ]
  },
  {
   "cell_type": "markdown",
   "metadata": {},
   "source": [
    "### 2組の数値８個のデータを作って、２次元の平面にプロットする。"
   ]
  },
  {
   "cell_type": "code",
   "execution_count": null,
   "metadata": {},
   "outputs": [],
   "source": [
    "import numpy as np\n",
    "import matplotlib.pyplot as plt\n",
    "import pandas as pd\n",
    "%matplotlib inline\n",
    "\n",
    "data=[[-5,2],[-2,1],[2,0],[4,-2],[5,-1],[-3,2],[3,-3],[5,2]]\n",
    "data=np.array(data)\n",
    "df=pd.DataFrame(data)\n",
    "plt.scatter(data[:,0],data[:,1])\n",
    "plt.show()\n",
    "df"
   ]
  },
  {
   "cell_type": "code",
   "execution_count": null,
   "metadata": {},
   "outputs": [],
   "source": [
    "# 行列の標準化\n",
    "# 標準化してない\n",
    "from sklearn.decomposition import PCA   #主成分分析器\n",
    "from sklearn.preprocessing import StandardScaler\n",
    "\n",
    "\n",
    "#主成分分析の実行\n",
    "pca = PCA()\n",
    "pca.fit(df)\n",
    "# データを主成分空間に写像\n",
    "pca_cor = pca.transform(df)\n",
    "\n",
    "# 固有ベクトルのマトリックス表示\n",
    "eig_vec = pd.DataFrame(pca.components_.T, index = df.columns, \\\n",
    "                          columns = [\"PC{}\".format(x + 1) for x in range(len(df.columns))])\n",
    "display(eig_vec)\n",
    "\n",
    "# 固有値\n",
    "eig = pd.DataFrame(pca.explained_variance_, index=[\"PC{}\".format(x + 1) for x in range(len(df.columns))], columns=['固有値']).T\n",
    "display(eig)\n",
    "\n",
    "# Rによるソースコードだと、固有値（分散）ではなく標準偏差を求めている。\n",
    "# 主成分の標準偏差\n",
    "dv = np.sqrt(eig)\n",
    "dv = dv.rename(index = {'固有値':'主成分の標準偏差'})\n",
    "display(dv)\n",
    "\n",
    "# 寄与率\n",
    "ev = pd.DataFrame(pca.explained_variance_ratio_, index=[\"PC{}\".format(x + 1) for x in range(len(df.columns))], columns=['寄与率']).T\n",
    "display(ev)\n",
    "\n",
    "# 累積寄与率\n",
    "t_ev = pd.DataFrame(pca.explained_variance_ratio_.cumsum(), index=[\"PC{}\".format(x + 1) for x in range(len(df.columns))], columns=['累積寄与率']).T\n",
    "display(t_ev)\n",
    "\n",
    "# 主成分得点\n",
    "print('主成分得点')\n",
    "cor = pd.DataFrame(pca_cor, columns=[\"PC{}\".format(x + 1) for x in range(len(df.columns))])\n",
    "display(cor)\n"
   ]
  },
  {
   "cell_type": "code",
   "execution_count": null,
   "metadata": {},
   "outputs": [],
   "source": []
  },
  {
   "cell_type": "markdown",
   "metadata": {},
   "source": [
    "###  celluloseの面間隔のデータを読み込んで同じ操作をやってみる。データは４次元"
   ]
  },
  {
   "cell_type": "code",
   "execution_count": null,
   "metadata": {},
   "outputs": [],
   "source": [
    "# load data from excel file エクセルファイルからデータを読む\n",
    "import pandas as pd\n",
    "\n",
    "df = pd.read_excel('wada_MG1995_xraydata.xlsx', index_col=0)\n",
    "df.head(10)"
   ]
  },
  {
   "cell_type": "code",
   "execution_count": null,
   "metadata": {},
   "outputs": [],
   "source": [
    "#主成分分析の実行\n",
    "pca = PCA()\n",
    "pca.fit(df.iloc[:,2:])\n",
    "# データを主成分空間に写像\n",
    "pca_cor = pca.transform(df.iloc[:,2:])\n",
    "\n",
    "#eigen values　（固有値）\n",
    "eig = pd.DataFrame(pca.explained_variance_, index=[\"PC{}\".format(x + 1) \\\n",
    "                                                   for x in range(len(df.iloc[:,2:].columns))], columns=['固有値']).T\n",
    "display(eig)\n",
    "\n",
    "# eigenvectors　（固有ベクトル）\n",
    "eig_vec = pd.DataFrame(pca.components_.T, index = df.iloc[:,2:].columns, \\\n",
    "                          columns = [\"PC{}\".format(x + 1) for x in range(len(df.iloc[:,2:].columns))])\n",
    "display(eig_vec)\n",
    "\n",
    "# proportion of the variance　(寄与率）\n",
    "pv = pd.DataFrame(pca.explained_variance_ratio_, index=[\"PC{}\".format(x + 1)\\\n",
    "                                                        for x in range(len(df.iloc[:,2:].columns))], columns=['寄与率']).T\n",
    "display(pv)\n",
    "\n",
    "# score plots\n",
    "cor = pd.DataFrame(pca_cor, columns=[\"PC{}\".format(x + 1) for x in range(len(df.iloc[:,2:].T))])\n",
    "#display(cor)\n",
    "\n",
    "cor['mark']=df['mark'].values\n",
    "import seaborn as sns\n",
    "sns.pairplot(cor, hue='mark')  # 1,2 components only\n",
    "\n",
    "plt.show()\n",
    "\n"
   ]
  }
 ],
 "metadata": {
  "kernelspec": {
   "display_name": "Python 3",
   "language": "python",
   "name": "python3"
  },
  "language_info": {
   "codemirror_mode": {
    "name": "ipython",
    "version": 3
   },
   "file_extension": ".py",
   "mimetype": "text/x-python",
   "name": "python",
   "nbconvert_exporter": "python",
   "pygments_lexer": "ipython3",
   "version": "3.8.9"
  }
 },
 "nbformat": 4,
 "nbformat_minor": 4
}
