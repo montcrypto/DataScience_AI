{
 "cells": [
  {
   "cell_type": "markdown",
   "metadata": {
    "tags": []
   },
   "source": [
    "### ２−３　練習"
   ]
  },
  {
   "cell_type": "markdown",
   "metadata": {},
   "source": [
    "- １）9時00分00秒から3333秒後は、何時何分何秒ですか？\n",
    "\n",
    "- ２）1)を計算する関数を作りなさい。"
   ]
  },
  {
   "cell_type": "code",
   "execution_count": 6,
   "metadata": {},
   "outputs": [
    {
     "name": "stdout",
     "output_type": "stream",
     "text": [
      "9時55分33秒\n"
     ]
    }
   ],
   "source": [
    "fun=3333//60\n",
    "byo=3333%60\n",
    "jikan=3333//3600\n",
    "print(str(9+jikan)+'時'+str(fun)+'分'+str(byo)+'秒')"
   ]
  },
  {
   "cell_type": "code",
   "execution_count": 67,
   "metadata": {},
   "outputs": [
    {
     "data": {
      "text/plain": [
       "'12時20分50秒'"
      ]
     },
     "execution_count": 67,
     "metadata": {},
     "output_type": "execute_result"
    }
   ],
   "source": [
    "def imananji(x):\n",
    "    jikan=x//3600\n",
    "    fun=(x-jikan*3600)//60\n",
    "    byo=(x-jikan*3600)%60\n",
    "    result=str(9+jikan)+'時'+str(fun)+'分'+str(byo)+'秒'\n",
    "    return result\n",
    "\n",
    "imananji(12050)"
   ]
  },
  {
   "cell_type": "markdown",
   "metadata": {},
   "source": [
    "### ３−４ 練習"
   ]
  },
  {
   "cell_type": "markdown",
   "metadata": {},
   "source": [
    "- １）近畿地区の国立大学の名称と緯度・経度の辞書を作成しなさい。"
   ]
  },
  {
   "cell_type": "code",
   "execution_count": 68,
   "metadata": {},
   "outputs": [
    {
     "name": "stdout",
     "output_type": "stream",
     "text": [
      "京都教育大学の場所は (34.950215, 135.773187)\n"
     ]
    }
   ],
   "source": [
    "univ_dic={'Kyoto University':(35.026244,135.780822),'Kyoto University of Education':(34.950215,135.773187),'Kyoto Institute of Technology':(35.049664,135.782046)}\n",
    "print('京都教育大学の場所は',univ_dic['Kyoto University of Education'])"
   ]
  },
  {
   "cell_type": "markdown",
   "metadata": {},
   "source": [
    "### ４−５　練習\n",
    "\n",
    "- １）　2022年元旦から12月末まで木曜日の日付を出力しなさい。"
   ]
  },
  {
   "cell_type": "code",
   "execution_count": 88,
   "metadata": {},
   "outputs": [
    {
     "name": "stdout",
     "output_type": "stream",
     "text": [
      "[(1, 6), (1, 13), (1, 20), (1, 27), (2, 3), (2, 10), (2, 17), (2, 24), (3, 3), (3, 10), (3, 17), (3, 24), (3, 31), (4, 7), (4, 14), (4, 21), (4, 28), (5, 5), (5, 12), (5, 19), (5, 26), (6, 2), (6, 9), (6, 16), (6, 23), (6, 30), (7, 7), (7, 14), (7, 21), (7, 28), (8, 4), (8, 11), (8, 18), (8, 25), (9, 1), (9, 8), (9, 15), (9, 22), (9, 29), (10, 6), (10, 13), (10, 20), (10, 27), (11, 3), (11, 10), (11, 17), (11, 24), (12, 1), (12, 8), (12, 15), (12, 22), (12, 29)]\n"
     ]
    }
   ],
   "source": [
    "month=[1,2,3,4,5,6,7,8,9,10,11,12]\n",
    "day=[31,28,31,30,31,30,31,31,30,31,30,31]\n",
    "\n",
    "months=[]\n",
    "days=[]\n",
    "for i,j in zip(month,day):\n",
    "    months.extend([i]*day[i-1])\n",
    "    days.extend(list(range(1,j+1)))\n",
    "\n",
    "p=[(x,y)for x,y in zip(months[5::7],days[5::7])]\n",
    "    \n",
    "print(p)"
   ]
  },
  {
   "cell_type": "code",
   "execution_count": 85,
   "metadata": {},
   "outputs": [
    {
     "name": "stdout",
     "output_type": "stream",
     "text": [
      "                                             2022\n",
      "\n",
      "          January                          February                          March\n",
      "Mon Tue Wed Thu Fri Sat Sun      Mon Tue Wed Thu Fri Sat Sun      Mon Tue Wed Thu Fri Sat Sun\n",
      "                      1   2            1   2   3   4   5   6            1   2   3   4   5   6\n",
      "  3   4   5   6   7   8   9        7   8   9  10  11  12  13        7   8   9  10  11  12  13\n",
      " 10  11  12  13  14  15  16       14  15  16  17  18  19  20       14  15  16  17  18  19  20\n",
      " 17  18  19  20  21  22  23       21  22  23  24  25  26  27       21  22  23  24  25  26  27\n",
      " 24  25  26  27  28  29  30       28                               28  29  30  31\n",
      " 31\n",
      "\n",
      "           April                             May                              June\n",
      "Mon Tue Wed Thu Fri Sat Sun      Mon Tue Wed Thu Fri Sat Sun      Mon Tue Wed Thu Fri Sat Sun\n",
      "                  1   2   3                                1                1   2   3   4   5\n",
      "  4   5   6   7   8   9  10        2   3   4   5   6   7   8        6   7   8   9  10  11  12\n",
      " 11  12  13  14  15  16  17        9  10  11  12  13  14  15       13  14  15  16  17  18  19\n",
      " 18  19  20  21  22  23  24       16  17  18  19  20  21  22       20  21  22  23  24  25  26\n",
      " 25  26  27  28  29  30           23  24  25  26  27  28  29       27  28  29  30\n",
      "                                  30  31\n",
      "\n",
      "            July                            August                         September\n",
      "Mon Tue Wed Thu Fri Sat Sun      Mon Tue Wed Thu Fri Sat Sun      Mon Tue Wed Thu Fri Sat Sun\n",
      "                  1   2   3        1   2   3   4   5   6   7                    1   2   3   4\n",
      "  4   5   6   7   8   9  10        8   9  10  11  12  13  14        5   6   7   8   9  10  11\n",
      " 11  12  13  14  15  16  17       15  16  17  18  19  20  21       12  13  14  15  16  17  18\n",
      " 18  19  20  21  22  23  24       22  23  24  25  26  27  28       19  20  21  22  23  24  25\n",
      " 25  26  27  28  29  30  31       29  30  31                       26  27  28  29  30\n",
      "\n",
      "          October                          November                         December\n",
      "Mon Tue Wed Thu Fri Sat Sun      Mon Tue Wed Thu Fri Sat Sun      Mon Tue Wed Thu Fri Sat Sun\n",
      "                      1   2            1   2   3   4   5   6                    1   2   3   4\n",
      "  3   4   5   6   7   8   9        7   8   9  10  11  12  13        5   6   7   8   9  10  11\n",
      " 10  11  12  13  14  15  16       14  15  16  17  18  19  20       12  13  14  15  16  17  18\n",
      " 17  18  19  20  21  22  23       21  22  23  24  25  26  27       19  20  21  22  23  24  25\n",
      " 24  25  26  27  28  29  30       28  29  30                       26  27  28  29  30  31\n",
      " 31\n",
      "\n"
     ]
    }
   ],
   "source": [
    "import calendar as cal\n",
    "print(cal.calendar(2022,3))"
   ]
  },
  {
   "cell_type": "code",
   "execution_count": null,
   "metadata": {},
   "outputs": [],
   "source": []
  }
 ],
 "metadata": {
  "kernelspec": {
   "display_name": "Python 3",
   "language": "python",
   "name": "python3"
  },
  "language_info": {
   "codemirror_mode": {
    "name": "ipython",
    "version": 3
   },
   "file_extension": ".py",
   "mimetype": "text/x-python",
   "name": "python",
   "nbconvert_exporter": "python",
   "pygments_lexer": "ipython3",
   "version": "3.8.9"
  }
 },
 "nbformat": 4,
 "nbformat_minor": 4
}
