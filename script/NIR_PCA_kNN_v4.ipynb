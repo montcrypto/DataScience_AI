{
 "cells": [
  {
   "cell_type": "markdown",
   "metadata": {},
   "source": [
    "### NIR spectroscopy and PCA"
   ]
  },
  {
   "cell_type": "code",
   "execution_count": null,
   "metadata": {},
   "outputs": [],
   "source": [
    "# NIR data from Spectrum 100N\n",
    "import os, sys\n",
    "import pandas as pd\n",
    "import cv2\n",
    "import numpy as np\n",
    "pd .options.display.max_rows = 10\n",
    "df = pd.read_csv('../../../GitHubData/DataScience_AI/data/Spectroscopy/Data_of_4_Meranti species.csv')"
   ]
  },
  {
   "cell_type": "markdown",
   "metadata": {},
   "source": [
    "Firstly, plotting all the data to see their visual appearence."
   ]
  },
  {
   "cell_type": "code",
   "execution_count": null,
   "metadata": {},
   "outputs": [],
   "source": [
    "import matplotlib.pyplot as plt\n",
    "%matplotlib inline\n",
    "\n",
    "wavnum = np.flip(df.axes[1][1:])\n",
    "wvnm= wavnum.astype(float)\n",
    "sp_data=np.flip(df.values[:,1:],axis=1)\n",
    "plt.figure(figsize=(12,6))\n",
    "plt.plot(wvnm,sp_data[2:32].T)\n",
    "plt.title(\"Whole spectra\", fontsize=16)\n",
    "plt.xlabel(\"wavenumber cm-1\", fontsize=16)\n",
    "plt.grid(which=\"both\")\n",
    "plt.gca().invert_xaxis()\n",
    "plt.tick_params(labelsize=14) \n",
    "\n",
    "plt.show()"
   ]
  },
  {
   "cell_type": "markdown",
   "metadata": {},
   "source": [
    "- Fig. Calculate 2nd derivative spectra by Savitzky-Golay algorithm. Window-size = 35, fitting function order = 3, seems reasonable. Window-size more than 41 seems to spoil the small peaks around 4000 cm-1. Spectral region 9000 - 10000 should be negrected."
   ]
  },
  {
   "cell_type": "code",
   "execution_count": null,
   "metadata": {},
   "outputs": [],
   "source": [
    "def savitzky_golay(y, window_size, order, deriv=0, rate=1):\n",
    "    \"\"\"\n",
    "    .. [1] A. Savitzky, M. J. E. Golay, Smoothing and Differentiation of\n",
    "       Data by Simplified Least Squares Procedures. Analytical\n",
    "       Chemistry, 1964, 36 (8), pp 1627-1639.\n",
    "    .. [2] Numerical Recipes 3rd Edition: The Art of Scientific Computing\n",
    "       W.H. Press, S.A. Teukolsky, W.T. Vetterling, B.P. Flannery\n",
    "       Cambridge University Press ISBN-13: 9780521880688\n",
    "    \"\"\"\n",
    "    import numpy as np\n",
    "    from math import factorial\n",
    "    \n",
    "    try:\n",
    "        window_size = np.abs(np.int(window_size))\n",
    "        order = np.abs(np.int(order))\n",
    "    except ValueError :\n",
    "        raise ValueError(\"window_size and order have to be of type int\")\n",
    "    if window_size % 2 != 1 or window_size < 1:\n",
    "        raise TypeError(\"window_size size must be a positive odd number\")\n",
    "    if window_size < order + 2:\n",
    "        raise TypeError(\"window_size is too small for the polynomials order\")\n",
    "    order_range = range(order+1)\n",
    "    half_window = (window_size -1) // 2\n",
    "    # precompute coefficients\n",
    "    b = np.mat([[k**i for i in order_range] for k in range(-half_window, half_window+1)])\n",
    "    m = np.linalg.pinv(b).A[deriv] * rate**deriv * factorial(deriv)\n",
    "    # pad the signal at the extremes with\n",
    "    # values taken from the signal itself\n",
    "    firstvals = y[0] - np.abs( y[1:half_window+1][::-1] - y[0] )\n",
    "    lastvals = y[-1] + np.abs(y[-half_window-1:-1][::-1] - y[-1])\n",
    "    y = np.concatenate((firstvals, y, lastvals))\n",
    "    return np.convolve( m[::-1], y, mode='valid')"
   ]
  },
  {
   "cell_type": "code",
   "execution_count": null,
   "metadata": {},
   "outputs": [],
   "source": [
    "plt.figure(figsize=(12,6))\n",
    "y1 = sp_data[10,:]\n",
    "y2 = savitzky_golay(y1,35,3,2)\n",
    "plt.plot(wvnm,y2*500+0.5)\n",
    "plt.plot(wvnm,y1.T+0.6)\n",
    "plt.title(\"Whole and 2nd derivative spectra\", fontsize=16)\n",
    "plt.xlabel(\"wavenumber cm-1\", fontsize=16)\n",
    "plt.grid()\n",
    "plt.tick_params(labelsize=14) \n",
    "plt.gca().invert_xaxis()"
   ]
  },
  {
   "cell_type": "code",
   "execution_count": null,
   "metadata": {},
   "outputs": [],
   "source": [
    "df_2nd = []\n",
    "for n in list(range(len(df.axes[0]))):\n",
    "    x = df.values[n,1:]\n",
    "    df_2nd.append(savitzky_golay(x,35,3,2))\n",
    "X_data = np.flip(np.asarray(df_2nd),axis=1)\n",
    "target_names=np.unique(df.values[:,0])\n",
    "tmp = pd.get_dummies(df.values[:,0])\n",
    "X_category = tmp.values.argmax(1) # make strings into numbers 0,1,2,...\n",
    "sp_names = df.values[:,0]"
   ]
  },
  {
   "cell_type": "code",
   "execution_count": null,
   "metadata": {},
   "outputs": [],
   "source": [
    "df=pd.read_excel('../../../GitHubData/Datascience_AI/data/Spectroscopy/2nd_Meranti.xlsx', index_col=0)\n",
    "df.head() # DataFrameの最初の5行を書き出します"
   ]
  },
  {
   "cell_type": "code",
   "execution_count": null,
   "metadata": {},
   "outputs": [],
   "source": [
    "df.shape\n",
    "target_names=np.unique(df.index)\n",
    "tmp = pd.get_dummies(df.index)\n",
    "X_category = tmp.values.argmax(1) # make strings into numbers 0,1,2,...\n",
    "sp_names = df.index\n",
    "sp_names"
   ]
  },
  {
   "cell_type": "markdown",
   "metadata": {},
   "source": [
    "##  ここから下のスクリプトがテキストにあるものと同じ、データは二次微分データから使うように変更したもの。"
   ]
  },
  {
   "cell_type": "code",
   "execution_count": null,
   "metadata": {},
   "outputs": [],
   "source": [
    "# PCA analyses : wavenuber range  8000-4000 cm-1\n",
    "import pandas as pd\n",
    "import numpy as np\n",
    "from sklearn.decomposition import PCA\n",
    "from mpl_toolkits.mplot3d import Axes3D\n",
    "import matplotlib.pyplot as plt\n",
    "%matplotlib inline\n",
    "\n",
    "df=pd.read_excel('../../../GitHubData/Datascience_AI/data/Spectroscopy/2nd_Meranti.xlsx', index_col=0)\n",
    "\n",
    "target_names=np.unique(df.index)\n",
    "tmp = pd.get_dummies(df.index)\n",
    "X_category = tmp.values.argmax(1) # make strings into numbers 0,1,2,...\n",
    "sp_names = df.index\n",
    "\n",
    "\n",
    "X = df\n",
    "X = X*10e3  # \n",
    "title = \"PCA from 8000-4000 cm-1 region\"\n",
    "\n",
    "pca = PCA(n_components=10)\n",
    "X_r = pca.fit(X).transform(X)\n",
    "        \n",
    "\n",
    "fig, axes = plt.subplots(nrows=3, figsize=(10,15))\n",
    "#　寄与率\n",
    "axes[0].bar(np.arange(1,11,1), pca.explained_variance_ratio_, align = \"center\")\n",
    "axes[0].set_title(\"Screeplot of \"+title)\n",
    "axes[0].set_xlabel(\"components\")\n",
    "axes[0].set_ylabel(\"contribution\")\n",
    "# ２次微分曲線\n",
    "axes[1].plot(df.columns,X.T,linewidth = 2 ) ## x 10e3 \n",
    "axes[1].set_title(\"2nd dev spectra of \"+title)\n",
    "axes[1].invert_xaxis()\n",
    "# 因子付加量\n",
    "loadings = pca.components_*np.c_[np.sqrt(pca.explained_variance_)]\n",
    "axes[2].plot(df.columns,loadings[0],linewidth = 2, label='PC1 loading')\n",
    "axes[2].plot(df.columns,loadings[1],linewidth = 2, label='PC2 loading' )\n",
    "axes[2].plot(df.columns,loadings[2],linewidth = 2, label='PC3 loading' )\n",
    "axes[2].set_title(\"Loading of \"+title)\n",
    "axes[2].invert_xaxis()\n",
    "axes[2].legend()\n",
    "plt.show()\n",
    "\n",
    "\n",
    "        \n",
    "#PCA 3D plot\n",
    "colors = ['r', 'g', 'b','y' ]\n",
    "fig = plt.figure(1, figsize=(8, 6))\n",
    "plt.clf()\n",
    "ax = Axes3D(fig, rect=[0, 0, .95, 1], elev=48, azim=134)\n",
    "plt.cla()\n",
    "lw=5\n",
    "for color, i, target_name in zip(colors, list(range(max(X_category)+1)), target_names):\n",
    "    ax.scatter(X_r[X_category==i, 0], X_r[X_category==i, 1], X_r[X_category==i, 2], color=color, lw=lw, label=target_name) \n",
    "ax.set_xlabel('PC1')\n",
    "ax.set_ylabel('PC2')\n",
    "ax.set_zlabel('PC3')\n",
    "ax.set_title(title, fontsize=20)\n",
    "ax.legend(bbox_to_anchor=(1.1, 0.8), shadow=False, scatterpoints=1)\n",
    "         \n",
    "# PCA\n",
    "fig, axes = plt.subplots(ncols=2,figsize=(10,4))\n",
    "lw = 2 # line width\n",
    "for color, i, target_name in zip(colors, list(range(max(X_category)+1)), target_names):\n",
    "    axes[0].scatter(X_r[X_category == i, 0], X_r[X_category == i, 1], color=color,lw=lw,label=target_name)\n",
    "axes[0].set_title(title)\n",
    "axes[0].set_xlabel('PC1')\n",
    "axes[0].set_ylabel('PC2')\n",
    "\n",
    "for color, i, target_name in zip(colors, list(range(max(X_category)+1)), target_names):\n",
    "    axes[1].scatter(X_r[X_category == i, 1], X_r[X_category == i, 2], color=color, lw=lw,label=target_name)\n",
    "axes[1].legend(bbox_to_anchor=(1.4, 1.1), shadow=False, scatterpoints=1)\n",
    "axes[1].set_title(title)\n",
    "axes[1].set_xlabel('PC2')\n",
    "axes[1].set_ylabel('PC3')\n",
    "plt.show()\n"
   ]
  },
  {
   "cell_type": "markdown",
   "metadata": {},
   "source": [
    "#### End of program"
   ]
  },
  {
   "cell_type": "code",
   "execution_count": null,
   "metadata": {},
   "outputs": [],
   "source": []
  }
 ],
 "metadata": {
  "kernelspec": {
   "display_name": "Python 3",
   "language": "python",
   "name": "python3"
  },
  "language_info": {
   "codemirror_mode": {
    "name": "ipython",
    "version": 3
   },
   "file_extension": ".py",
   "mimetype": "text/x-python",
   "name": "python",
   "nbconvert_exporter": "python",
   "pygments_lexer": "ipython3",
   "version": "3.8.9"
  }
 },
 "nbformat": 4,
 "nbformat_minor": 4
}
