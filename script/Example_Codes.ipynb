{
 "cells": [
  {
   "cell_type": "markdown",
   "id": "2ebaf1a6-b6f4-498b-b6cb-cd932552f49c",
   "metadata": {
    "tags": []
   },
   "source": [
    "# 「環境データサイエンスとAI」テキスト掲載コード"
   ]
  },
  {
   "cell_type": "markdown",
   "id": "d842b994-6a8d-4724-953a-b5d6236a5503",
   "metadata": {},
   "source": [
    "## 2-3"
   ]
  },
  {
   "cell_type": "code",
   "execution_count": null,
   "id": "730c6555-c168-4dad-90c3-b6738da9be1a",
   "metadata": {},
   "outputs": [],
   "source": [
    ">>> a=5.0      # .0 をつけて浮動小数点数と定義する\n",
    ">>> b=23.0\n",
    ">>> b/a        #結果を浮動小数点数で表示\n",
    ">>> b//a       #商は\n",
    "4.0\n",
    ">>> b          #余は\n",
    "3.0\n",
    ">>> def warizan(x,y):  # 商と余を同時に計算する自分の関数\n",
    "...     sho=x//y\n",
    "...     amari=x%y\n",
    "...     return sho,amari\n",
    "...\n",
    ">>> s,a = warizan(34,6)\n",
    ">>> print('sho',  s, ' amari ', a)"
   ]
  },
  {
   "cell_type": "markdown",
   "id": "98d887c6-b27c-4d9d-aca1-fa671f4284ef",
   "metadata": {},
   "source": [
    "## 3"
   ]
  },
  {
   "cell_type": "code",
   "execution_count": null,
   "id": "adc1f5f2-86ae-4bf0-aab0-bf2ce2d1044f",
   "metadata": {},
   "outputs": [],
   "source": [
    ">>> word='university'\n",
    ">>> print(len(word), word[2])"
   ]
  },
  {
   "cell_type": "markdown",
   "id": "be7b26da-cfea-4092-90c5-590255713a51",
   "metadata": {},
   "source": [
    "## 3-1"
   ]
  },
  {
   "cell_type": "code",
   "execution_count": null,
   "id": "16065ec5-f41f-4448-94a3-9388390accbd",
   "metadata": {},
   "outputs": [],
   "source": [
    ">>> subjects=['physics', 'chemistry', 'biology', 'history']"
   ]
  },
  {
   "cell_type": "code",
   "execution_count": null,
   "id": "256c1cbe-45c9-439b-8702-98451b9d9bfb",
   "metadata": {},
   "outputs": [],
   "source": [
    ">>> score=[88,75,87,92]\n",
    ">>> subjects[2],score[2]"
   ]
  },
  {
   "cell_type": "code",
   "execution_count": null,
   "id": "2e65261e-1da4-4f0e-8d37-b0f3268da339",
   "metadata": {},
   "outputs": [],
   "source": [
    ">>> subjects[0:2]"
   ]
  },
  {
   "cell_type": "code",
   "execution_count": null,
   "id": "a000ec15-2492-4000-bec7-8203b267a690",
   "metadata": {},
   "outputs": [],
   "source": [
    ">>> subjects[::2]"
   ]
  },
  {
   "cell_type": "code",
   "execution_count": null,
   "id": "76fd0339-6011-4599-9c14-259e65655867",
   "metadata": {},
   "outputs": [],
   "source": [
    ">>> subjects[::-1]"
   ]
  },
  {
   "cell_type": "code",
   "execution_count": null,
   "id": "91b2e4e9-5ab1-440b-96d0-3f2b513ab35f",
   "metadata": {},
   "outputs": [],
   "source": [
    ">>> list('university')"
   ]
  },
  {
   "cell_type": "code",
   "execution_count": null,
   "id": "9874e678-902a-4339-9de7-55b6d094a66c",
   "metadata": {},
   "outputs": [],
   "source": [
    ">>> word='university'\n",
    ">>> word.split('r')"
   ]
  },
  {
   "cell_type": "markdown",
   "id": "3331c85d-59f6-45a0-ab9d-e3ee0460dbbe",
   "metadata": {},
   "source": [
    "## 3-2"
   ]
  },
  {
   "cell_type": "code",
   "execution_count": null,
   "id": "e54c905a-4be6-4ea3-91c2-cfc50353dcf7",
   "metadata": {},
   "outputs": [],
   "source": [
    ">>> word='university students'\n",
    ">>> list(word) # 単語をアルファベットに分解してリストの要素にする"
   ]
  },
  {
   "cell_type": "code",
   "execution_count": null,
   "id": "7b43abed-78a6-4186-bdea-229afecc4a17",
   "metadata": {},
   "outputs": [],
   "source": [
    ">>> lw=list(word)\n",
    ">>> set(lw)          # 使われている文字の要素を書き出す. 元々のデータの並びの順番とどうか？"
   ]
  },
  {
   "cell_type": "code",
   "execution_count": null,
   "id": "b0d124e3-b630-45f4-9d9f-04d016964e92",
   "metadata": {},
   "outputs": [],
   "source": [
    ">>> sorted(set(lw),key=lw.index) # 使われている文字の要素をリストの順番に書き出す"
   ]
  },
  {
   "cell_type": "code",
   "execution_count": null,
   "id": "4d61b7b5-b4c6-4aeb-b100-79c1a34899b9",
   "metadata": {},
   "outputs": [],
   "source": [
    "#　同じ事を{ }を使うと\n",
    ">>> wordset={'u', 'n', 'i', 'v', 'e', 'r', 's', 'i', 't', 'y', ' ', 's', 't', 'u', 'd', 'e', 'n', 't'}\n",
    ">>> wordset"
   ]
  },
  {
   "cell_type": "code",
   "execution_count": null,
   "id": "a0ae1073-59e6-4bfc-aa89-1be3c8bd3e11",
   "metadata": {},
   "outputs": [],
   "source": [
    ">>> a=set(list('university'));b=set(list('student'))\n",
    ">>> a | b\n",
    "{'n', 'r', 'd', 'e', 'u', 's', 't', 'y', 'i', 'v'}"
   ]
  },
  {
   "cell_type": "code",
   "execution_count": null,
   "id": "7279b3d5-899b-49b9-8d18-9f81c7de01c6",
   "metadata": {},
   "outputs": [],
   "source": [
    ">>> a & b\n",
    "{'n', 'e', 's', 'u', 't'}"
   ]
  },
  {
   "cell_type": "code",
   "execution_count": null,
   "id": "aa0d347c-4db3-4c4f-98e5-d2f74e8226db",
   "metadata": {},
   "outputs": [],
   "source": [
    ">>> a - b\n",
    "{'i', 'r', 'v', 'y'}"
   ]
  },
  {
   "cell_type": "code",
   "execution_count": null,
   "id": "1f4f1e4b-db1e-4c35-b38d-1fdc080ec5b0",
   "metadata": {},
   "outputs": [],
   "source": [
    ">>> a ^ b\n",
    "{'r', 'd', 'y', 'i', 'v'}"
   ]
  },
  {
   "cell_type": "markdown",
   "id": "77c9f8e9-a395-40ea-9d63-1f2287642982",
   "metadata": {},
   "source": [
    "## 3-3"
   ]
  },
  {
   "cell_type": "code",
   "execution_count": null,
   "id": "b4d5e321-81aa-480a-8d6f-83d011bcf341",
   "metadata": {},
   "outputs": [],
   "source": [
    ">>> kyoto=35.02139,135.75556 # 例えば 京都の市役所\n",
    ">>> kyoto\n",
    "(35.02139, 135.75556)        # （　）括りになりました"
   ]
  },
  {
   "cell_type": "code",
   "execution_count": null,
   "id": "e07f5515-69e8-49b8-9f3b-3b90bebdfbe5",
   "metadata": {},
   "outputs": [],
   "source": [
    ">>> osaka=34.68639,135.52  # 大阪の市役所\n",
    ">>> kyoto == osaka         # 同じ位置かどうかの判定"
   ]
  },
  {
   "cell_type": "code",
   "execution_count": null,
   "id": "4e401ebd-58ec-4337-85fa-1d7db94987ed",
   "metadata": {},
   "outputs": [],
   "source": [
    ">>> print('京都の緯度は',kyoto[0],'経度は',kyoto[1]) # 個別に値を取り出す"
   ]
  },
  {
   "cell_type": "code",
   "execution_count": null,
   "id": "6623df28-2d39-4cc3-954d-a81b628c9aff",
   "metadata": {},
   "outputs": [],
   "source": [
    ">>> list(kyoto) # 型の変換"
   ]
  },
  {
   "cell_type": "code",
   "execution_count": null,
   "id": "aca60a3f-46c0-46f4-855d-2daedab69ec5",
   "metadata": {},
   "outputs": [],
   "source": [
    ">>> yakusho_dic={'大阪':osaka,'京都':kyoto}\n",
    ">>> yakusho_dic"
   ]
  },
  {
   "cell_type": "markdown",
   "id": "947473d4-6f6f-484b-84b9-4cf1930046cd",
   "metadata": {},
   "source": [
    "## 4-1"
   ]
  },
  {
   "cell_type": "code",
   "execution_count": null,
   "id": "151193ea-1f7f-4b23-b69f-24928fd425c5",
   "metadata": {},
   "outputs": [],
   "source": [
    ">>> import os\n",
    ">>> os.getcwd()    # get current working directory"
   ]
  },
  {
   "cell_type": "code",
   "execution_count": null,
   "id": "d53e2479-06d7-4078-89e1-9b9a21d04b85",
   "metadata": {},
   "outputs": [],
   "source": [
    ">>> os.listdir()  # list directory"
   ]
  },
  {
   "cell_type": "code",
   "execution_count": null,
   "id": "0b2b2b79-e205-47e9-b31a-5e550a7e46fe",
   "metadata": {},
   "outputs": [],
   "source": [
    ">>> My_dirs=os.listdir()\n",
    ">>> mydirs= [my_dir for my_dir in My_dirs if not my_dir.startswith('.') and not my_dir.endswith('ipynb')]\n",
    ">>> for my_dir in mydirs:\n",
    "...     number_of_files=len(os.listdir(my_dir))\n",
    "...     print('ディレクトリ'+my_dir+'のファイル数は'+str(number_of_files))"
   ]
  },
  {
   "cell_type": "code",
   "execution_count": null,
   "id": "d327877f-9855-4fe1-a53c-4857333c1f3e",
   "metadata": {},
   "outputs": [],
   "source": [
    ">>> list(range(10)) # range(0,10,1) と同じ"
   ]
  },
  {
   "cell_type": "code",
   "execution_count": null,
   "id": "3536a00e-77e9-47db-9121-5a82980ec293",
   "metadata": {},
   "outputs": [],
   "source": [
    ">>> list(range(1,10,3))"
   ]
  },
  {
   "cell_type": "code",
   "execution_count": null,
   "id": "772d901d-d3ee-41cb-b296-67a38f75f205",
   "metadata": {},
   "outputs": [],
   "source": [
    ">>> prefecture=['滋賀','京都','大阪','兵庫','奈良','和歌山']\n",
    ">>> city=['大津市','京都市','大阪市','神戸市','奈良市','和歌山市']\n",
    ">>> tree=['モミジ','北山スギ','イチョウ','クスノキ','スギ','ウバメガシ']\n",
    ">>> for i,p in enumerate(zip(prefecture,city,tree)):\n",
    "...     print(str(i+1)+'番'+' 都道府県名 '+p[0]+' 県庁所在地 '+p[1]+' 県の木 '+p[2])"
   ]
  },
  {
   "cell_type": "code",
   "execution_count": null,
   "id": "279f208a-9ac6-4df4-952c-97cc185e18ea",
   "metadata": {},
   "outputs": [],
   "source": [
    ">>> My_png_list=[]\n",
    ">>> My_list=os.listdir('_data/CV')\n",
    ">>> for filename in My_list:\n",
    "...     if filename.endswith('.png'):\n",
    "...         My_png_list.append(filename)\n",
    "...     else:\n",
    "...         print(filename+'is not a png file !')\n",
    ">>> My_png_list"
   ]
  },
  {
   "cell_type": "code",
   "execution_count": null,
   "id": "4bc06f28-dd3f-41f3-a8a3-e7bfe95f09f0",
   "metadata": {},
   "outputs": [],
   "source": [
    ">>> testdata=[1,2,3,4,5,6,7,8,9,0]\n",
    ">>> for i in testdata:\n",
    "...   if i > 4 and i<7:\n",
    "...       print(i)"
   ]
  },
  {
   "cell_type": "markdown",
   "id": "7da14b6a-4f59-4cb5-a474-159beb96733e",
   "metadata": {},
   "source": [
    "## 4-3"
   ]
  },
  {
   "cell_type": "code",
   "execution_count": null,
   "id": "c5f9338f-95d8-45bf-8bac-cb0f490d6ad5",
   "metadata": {},
   "outputs": [],
   "source": [
    "my_target_dir='_data/GIS'\n",
    "[fl for fl in os.listdir(my_target_dir) if fl.endswith('.csv')]   #例えばcsvのファイル"
   ]
  },
  {
   "cell_type": "code",
   "execution_count": null,
   "id": "7c924882-0c6a-4a57-a04b-d20b6eaf9803",
   "metadata": {},
   "outputs": [],
   "source": [
    "[fl for fl in os.listdir(my_target_dir) if fl.startswith('.')] #例えば不可視ファイル"
   ]
  },
  {
   "cell_type": "markdown",
   "id": "4a6dc35e-c56c-42b7-bf1e-bafb41cee6e7",
   "metadata": {},
   "source": [
    "## 4-4"
   ]
  },
  {
   "cell_type": "code",
   "execution_count": null,
   "id": "9b7be2d4-0d8b-4596-a4c1-d0be0ec9c09c",
   "metadata": {},
   "outputs": [],
   "source": [
    ">>> def generator(input):\n",
    "...     for x in input:\n",
    "...         if x%7==0:  #### ７で割り切れたらその都度支出力\n",
    "...             yield x\n",
    ">>> input=list(range(1,100,3))\n",
    ">>> mygen=generator(input)\n",
    ">>> next(mygen)"
   ]
  },
  {
   "cell_type": "code",
   "execution_count": null,
   "id": "6f5e5037-c7c0-4d37-b177-cf7584592a56",
   "metadata": {},
   "outputs": [],
   "source": [
    "next(mygen)"
   ]
  },
  {
   "cell_type": "markdown",
   "id": "2c384a9e-4c9a-4438-a907-409805d48952",
   "metadata": {},
   "source": [
    "## 5-1-1"
   ]
  },
  {
   "cell_type": "code",
   "execution_count": null,
   "id": "1f6ebc2a-cb08-4697-ac40-0c0d18932179",
   "metadata": {},
   "outputs": [],
   "source": [
    ">>> import numpy as np\n",
    ">>> a_list=[1,2,3,4,5]\n",
    ">>> a_list*3"
   ]
  },
  {
   "cell_type": "code",
   "execution_count": null,
   "id": "edfe5dd4-c408-4b75-89b9-32c47ef973a2",
   "metadata": {},
   "outputs": [],
   "source": [
    ">>> a_array=np.array(a_list)\n",
    ">>> a_array*5"
   ]
  },
  {
   "cell_type": "code",
   "execution_count": null,
   "id": "abc9b543-6ec5-4aec-a0c5-d4365f59e716",
   "metadata": {},
   "outputs": [],
   "source": [
    ">>> x=np.array(a_list*3).reshape(5,3)\n",
    ">>> x"
   ]
  },
  {
   "cell_type": "code",
   "execution_count": null,
   "id": "8b6291a2-c5b5-4e2d-8011-72e5ca9c9512",
   "metadata": {},
   "outputs": [],
   "source": [
    ">>> 3*np.log(x)"
   ]
  },
  {
   "cell_type": "code",
   "execution_count": null,
   "id": "2fc02020-4c41-4777-ae37-473280950cdc",
   "metadata": {},
   "outputs": [],
   "source": [
    ">>> y=3*np.log(x)\n",
    ">>> y"
   ]
  },
  {
   "cell_type": "code",
   "execution_count": null,
   "id": "7aa75867-9dd9-493e-a832-ee06522aaaa2",
   "metadata": {},
   "outputs": [],
   "source": [
    ">>> print(y.dtype)"
   ]
  },
  {
   "cell_type": "code",
   "execution_count": null,
   "id": "bb962f22-386b-40bf-a93a-b39cf3727c84",
   "metadata": {},
   "outputs": [],
   "source": [
    ">>> print(y.shape)"
   ]
  },
  {
   "cell_type": "code",
   "execution_count": null,
   "id": "08622ddf-f2d4-4102-b1a4-716cf1f96925",
   "metadata": {},
   "outputs": [],
   "source": [
    ">>> print(y.size)"
   ]
  },
  {
   "cell_type": "code",
   "execution_count": null,
   "id": "7b6c5960-2adc-4b4f-ab90-56241191fc9d",
   "metadata": {},
   "outputs": [],
   "source": [
    ">>> print(y.T)"
   ]
  },
  {
   "cell_type": "markdown",
   "id": "7de903cf-5172-4da6-b051-d661972faeca",
   "metadata": {},
   "source": [
    "## 5-1-3"
   ]
  },
  {
   "cell_type": "code",
   "execution_count": null,
   "id": "96b53fe7-b2fd-432c-a9fd-dc7a97e79a50",
   "metadata": {},
   "outputs": [],
   "source": [
    ">>> mat=np.random.rand(5,5)\n",
    ">>> mat"
   ]
  },
  {
   "cell_type": "code",
   "execution_count": null,
   "id": "c8e6c725-15d4-4c69-b301-b635451f6163",
   "metadata": {},
   "outputs": [],
   "source": [
    ">>> mat[1:3,2:4]"
   ]
  },
  {
   "cell_type": "code",
   "execution_count": null,
   "id": "6cba9578-a2cf-41d8-8662-6827da9c753e",
   "metadata": {},
   "outputs": [],
   "source": [
    ">>> mat[1:3,2:4]=0\n",
    ">>> mat"
   ]
  },
  {
   "cell_type": "markdown",
   "id": "e1f1be7c-6957-4209-b411-f070e3eb0407",
   "metadata": {},
   "source": [
    "## 5-2"
   ]
  },
  {
   "cell_type": "code",
   "execution_count": null,
   "id": "7ccc7550-cbd8-4a89-a403-a05e90ffcc26",
   "metadata": {},
   "outputs": [],
   "source": [
    ">>> import numpy as np\n",
    ">>> x= np.arange(-3,3,0.1)\n",
    ">>> y=x**3\n",
    "\n",
    ">>> import matplotlib.pyplot as plt\n",
    ">>> %matplotlib inline\n",
    "\n",
    ">>> plt.plot(x,y,label=\"y=x^3\")\n",
    ">>> plt.legend()\n",
    ">>> plt.xlabel('x')\n",
    ">>> plt.ylabel('y')\n",
    ">>> plt.show()"
   ]
  },
  {
   "cell_type": "code",
   "execution_count": null,
   "id": "dd8411d0-4341-4bd1-a105-31ff4628d50c",
   "metadata": {},
   "outputs": [],
   "source": [
    ">>> fig, axes = plt.subplots(ncols=3,nrows=2, figsize=(12,8))\n",
    ">>> power=[1,2,3,5,7,11]\n",
    ">>> for i,p in enumerate(power):\n",
    "...     c,r=divmod(i,3)\n",
    "...     axes[c,r].plot(x,x**p,label=\"power of\"+str(power[i]) )\n",
    "...     axes[c,r].legend()\n",
    "...     axes[c,r].set_xlabel('x')\n",
    "...     axes[c,r].set_ylabel('y')\n",
    ">>> plt.show()"
   ]
  },
  {
   "cell_type": "markdown",
   "id": "24f8c4da-1eef-4394-b9ba-9d520e2d5e29",
   "metadata": {},
   "source": [
    "## 5-3"
   ]
  },
  {
   "cell_type": "code",
   "execution_count": null,
   "id": "05749a49-3221-4c74-b2e1-39da316d65c5",
   "metadata": {},
   "outputs": [],
   "source": [
    ">>> univ_dic={'Kyoto University':(35.026244,135.780822),'Kyoto University of Education':(34.950215,135.773187),'Kyoto Institute of Technology':(35.049664,135.782046)}\n",
    ">>>\n",
    ">>> import pandas as pd\n",
    ">>> df=pd.DataFrame(univ_dic, index=('latitude','longitude'))\n",
    ">>> dfn=df.T\n",
    ">>> dfn['address']=['京都府京都市左京区吉田本町','京都府京都市伏見区深草藤森町1','京都府京都市左京区松ヶ崎橋上町1']\n",
    ">>> dfn['students']=['12958','1332','2656']\n",
    ">>> dfn['teachers']=['3441','110','281']\n",
    ">>> dfn"
   ]
  },
  {
   "cell_type": "code",
   "execution_count": null,
   "id": "057e844a-54b0-4a6b-a4de-8d28e87f75f6",
   "metadata": {},
   "outputs": [],
   "source": [
    "import matplotlib.pyplot as plt\n",
    "import numpy as np\n",
    "fig, ax=plt.subplots(ncols=2,figsize=(10,5))\n",
    "\n",
    "for i, u in enumerate(dfn.index):\n",
    "    dfn['students'].values[i]\n",
    "    ax[0].scatter(dfn['longitude'][i],dfn['latitude'][i],s=int(dfn['students'].values[i]),label=u)\n",
    "    ax[0].set_ylabel('latitude')\n",
    "    ax[0].set_xlabel('longitude')\n",
    "    ax[1].scatter(dfn['students'][i],dfn['teachers'][i],s=100,label=u)\n",
    "    ax[1].set_ylabel('students')\n",
    "    ax[1].set_xlabel('teachers')\n",
    "    ax[1].legend()\n",
    "plt.show()"
   ]
  },
  {
   "cell_type": "markdown",
   "id": "a47f8427-7bba-4267-8cb8-8cb5daecfc3a",
   "metadata": {},
   "source": [
    "## 6-1-1"
   ]
  },
  {
   "cell_type": "code",
   "execution_count": null,
   "id": "69c3b747-d279-4e84-a048-f9089911fe2e",
   "metadata": {},
   "outputs": [],
   "source": [
    "import os\n",
    "%matplotlib inline\n",
    "import matplotlib.pyplot as plt\n",
    "import pandas as pd\n",
    "\n",
    "df_temple = pd.read_csv('./_data/GIS/Kyoto_Architecture.csv',\\\n",
    "                        usecols = [2, 5, 8, 16, 17],\\\n",
    "                        dtype  = {'名称': str, '種別1': str, '時代': str, '緯度': float, '経度': float})\n",
    "df_temple = df_temple.rename(columns = {'名称': 'article', '種別1': 'category',\\\n",
    "                                        '時代': 'period', '緯度': 'latitude','経度': 'longitude'})\n",
    "\n",
    "df_temple.plot(figsize=(6,6),y='latitude',x='longitude', kind='scatter', grid=True, legend=True)\n",
    "plt.axis('square')\n",
    "plt.show()"
   ]
  },
  {
   "cell_type": "markdown",
   "id": "9b325e4f-5415-452a-8c2c-1ae42c1fe81f",
   "metadata": {},
   "source": [
    "## 6-1-2"
   ]
  },
  {
   "cell_type": "code",
   "execution_count": null,
   "id": "184e6e81-f347-4a7c-b3b9-652f382b0322",
   "metadata": {},
   "outputs": [],
   "source": [
    "import geopandas as gpd\n",
    "df_jap = gpd.read_file('./_data/GIS/japan.geojson')\n",
    "\n",
    "\n",
    "colors=[]\n",
    "for cat in df_temple.category:\n",
    "    if cat == '国宝':\n",
    "        colors.append('red')\n",
    "    else:\n",
    "        colors.append('gray')\n",
    "            \n",
    "fig, ax = plt.subplots(nrows=1,ncols=2,figsize = (16,16)) \n",
    "for i in range(2):\n",
    "    if i == 1:\n",
    "        ax[i].set_xlim([135.6,135.9]);ax[i].set_ylim([34.8,35.1])\n",
    "    df_jap[df_jap['nam_ja'] == '京都府'].plot(ax=ax[i],figsize=(8,8), \\\n",
    "                           edgecolor='#444', facecolor='white', linewidth = 0.5)\n",
    "    ax[i].scatter(df_temple.longitude,df_temple.latitude,color=colors)\n",
    "plt.show()"
   ]
  },
  {
   "cell_type": "markdown",
   "id": "10934c7e-485e-4bc6-a868-d11ee0b3f37b",
   "metadata": {},
   "source": [
    "## 6-2"
   ]
  },
  {
   "cell_type": "code",
   "execution_count": null,
   "id": "31df5b98-8586-4ea7-81b3-c1254ea10181",
   "metadata": {},
   "outputs": [],
   "source": [
    "import glob\n",
    "data_dir='_data/GIS/e-Stat_Kokuzei_Shp' #\n",
    "prefecture_shp=sorted(glob.glob(data_dir+'/*/*.shp'))"
   ]
  },
  {
   "cell_type": "code",
   "execution_count": null,
   "id": "85653808-f23c-4a5e-a1e8-19d061edcdb3",
   "metadata": {},
   "outputs": [],
   "source": [
    "prefecture_shp"
   ]
  },
  {
   "cell_type": "code",
   "execution_count": null,
   "id": "47dee863-e5e7-4e63-ae00-a8382647b8db",
   "metadata": {},
   "outputs": [],
   "source": [
    "%matplotlib inline\n",
    "import matplotlib.pyplot as plt\n",
    "import geopandas as gpd\n",
    "\n",
    "pref_name='宮崎県'\n",
    "pref_id=df_jap.id[df_jap['nam_ja']=='宮崎県'].values\n",
    "map_id=pref_id[0]-1\n",
    "\n",
    "fig, ax = plt.subplots(figsize = (16,16)) \n",
    "gdf = gpd.read_file(prefecture_shp[map_id])      \n",
    "gdf.plot(ax=ax, facecolor='white', edgecolor='black', linewidth=0.2)\n",
    "ax.set_axis_off()\n",
    "plt.show()"
   ]
  },
  {
   "cell_type": "markdown",
   "id": "8a22f804-fc94-4634-abdb-6a92c959d18c",
   "metadata": {},
   "source": [
    "## 6-2-1"
   ]
  },
  {
   "cell_type": "code",
   "execution_count": null,
   "id": "ce7bb7ac-9c83-44c1-9bbf-76fe1e82c0d3",
   "metadata": {},
   "outputs": [],
   "source": [
    "gdf['DENSITY']= gdf['JINKO']/gdf['AREA']*10**6 # 1平方キロメートルあたりの人口\n",
    "gdf['FAMILY']= gdf['JINKO']/gdf['SETAI']# 1世帯あたりの人数#print(gdf.head())\n",
    " \n",
    "fig, ax = plt.subplots(ncols=2,figsize = (16,16))\n",
    "for i, title in enumerate(['DENSITY','FAMILY']):\n",
    "    gdf.plot(column = title, edgecolor = \"black\",scheme='quantiles', \\\n",
    "             linewidth=0.2, cmap='YlOrRd', ax=ax[i], legend = True)\n",
    "    ax[i].set_axis_off()\n",
    "plt.show()"
   ]
  },
  {
   "cell_type": "markdown",
   "id": "8c44b9b1-07fa-4021-8fd0-7689cb399520",
   "metadata": {},
   "source": [
    "## 6-3"
   ]
  },
  {
   "cell_type": "code",
   "execution_count": null,
   "id": "d4085c5e-375f-4f8c-a2ca-d38bd0103f21",
   "metadata": {},
   "outputs": [],
   "source": [
    "%matplotlib inline\n",
    "import matplotlib.pyplot as plt\n",
    "import geopandas as gpd\n",
    "import pandas as pd\n",
    "import numpy as np\n",
    "\n",
    "dat0_dir='_data/GIS/e-Stat_Kokuzei_Shp' \n",
    "prefecture_shp=sorted(glob.glob(dat0_dir+'/*/*.shp'))\n",
    "dat1_dir='_data/GIS/標高傾斜度/' \n",
    "slope_shp=sorted(glob.glob(dat1_dir+'/*/*.shp'))\n",
    "dat2_dir='_data/GIS/国有林野データ/' \n",
    "rinya_shp=sorted(glob.glob(dat2_dir+'/*/*.shp'))\n",
    "\n",
    "\n",
    "wakaS_gdf=gpd.read_file(slope_shp[0])\n",
    "shigaN_gdf=gpd.read_file(slope_shp[10])\n",
    "wakaE_gdf=gpd.read_file(slope_shp[3])\n",
    "kyotoN_gdf=gpd.read_file(slope_shp[9])\n",
    "\n",
    "\n",
    "fig, ax = plt.subplots(figsize = (18,18)) \n",
    "\n",
    "# 当該メッシュにおける平均標高(緑）　当該メッシュにおける最大傾斜角度（青）　（メッシュデータ（ラスター型）\n",
    "wakaS_gdf.plot(column = 'G04a_002',ax=ax, edgecolor='white',cmap='Greens',linewidth=0.2)\n",
    "shigaN_gdf.plot(column = 'G04a_002',ax=ax, edgecolor='white',cmap='Greens',linewidth=0.2)\n",
    "wakaE_gdf.plot(column = 'G04a_006',ax=ax, edgecolor='white',cmap='Blues',linewidth=0.2)\n",
    "kyotoN_gdf.plot(column = 'G04a_006',ax=ax, edgecolor='white',cmap='Blues',linewidth=0.2)\n",
    "\n",
    "# 関西エリアの国有林ポリゴンデータの表示（赤色）　ポリゴンデータ（ベクター型）\n",
    "rinya_kansai=[]\n",
    "for i in rinya_shp[:-1]:\n",
    "    rinya_kansai.append(gpd.read_file(i))\n",
    "gdf=gpd.GeoDataFrame(pd.concat(rinya_kansai)) \n",
    "gdf.plot(ax=ax, edgecolor='#444',facecolor='red', linewidth=0.2)\n",
    "\n",
    "# 関西エリアの府県境界データの表示　ポリゴンデータ（ベクター型）\n",
    "Kansai_area=[]\n",
    "for i in range(24,30):\n",
    "    Kansai_area.append(df_jap[df_jap['id'] == i])\n",
    "Kansai_gdf=gpd.GeoDataFrame(pd.concat(Kansai_area))\n",
    "\n",
    "Kansai_gdf.plot(ax=ax, edgecolor='#444',facecolor='none', linewidth = 0.5)\n",
    "\n",
    "plt.show()"
   ]
  },
  {
   "cell_type": "markdown",
   "id": "da930e44-50df-4835-ab44-6e385c429dfc",
   "metadata": {},
   "source": [
    "## 7-3"
   ]
  },
  {
   "cell_type": "code",
   "execution_count": null,
   "id": "05d7139e-4825-4ae1-a5a1-72ed8eaf9f19",
   "metadata": {},
   "outputs": [],
   "source": [
    "import numpy as np\n",
    "# np.random.normal(loc,scale,)は,  平均loc,  標準偏差scaleの正規分布に従う乱数を返します\n",
    "A=np.random.normal(1,2,(2,10))\n",
    "B=np.random.normal(-2,2,(2,10))"
   ]
  },
  {
   "cell_type": "code",
   "execution_count": null,
   "id": "12f8cb88-7f33-47cf-b594-c4fa487f487f",
   "metadata": {},
   "outputs": [],
   "source": [
    "data=np.hstack((A,B)) #AとBをひとまとめにしてdataとします. \n",
    "mat_cov=np.cov(data)\n",
    "print(\"分散共分散行列 variance-covariance matrix \\n{}\".format(mat_cov))\n",
    "print(\"\\n\")\n",
    "eig_value, eig_vector = np.linalg.eig(mat_cov)\n",
    "print(\"固有値 eigenvalue\\n{}\".format(eig_value))\n",
    "print(\"\\n\")\n",
    "print(\"固有ベクトル eigenvector \\n{}\".format(eig_vector))"
   ]
  },
  {
   "cell_type": "code",
   "execution_count": null,
   "id": "dc5d5592-3f79-4737-8b78-7ba443aca80d",
   "metadata": {},
   "outputs": [],
   "source": [
    "import matplotlib.pyplot as plt\n",
    "%matplotlib inline\n",
    "x=np.arange(-4,4,1)\n",
    "pc1=np.dot(data.T,eig_vector.T[1])\n",
    "pc2=np.dot(data.T,eig_vector.T[0])\n",
    "#\n",
    "fig,ax=plt.subplots(ncols=2,figsize=(12,6))\n",
    "ax[0].scatter(data[0][:10],data[1][:10])\n",
    "ax[0].scatter(data[0][10:],data[1][10:])\n",
    "ax[0].plot(x,x/eig_vector.T[1][1]*eig_vector.T[1][0])\n",
    "ax[0].set_ylim(-4,4)\n",
    "ax[0].set_xlabel('X1')\n",
    "ax[0].set_ylabel('X2')\n",
    "ax[1].scatter(pc1,pc2)\n",
    "ax[1].set_ylim(-4,4)\n",
    "ax[1].set_xlabel('PC 1')\n",
    "ax[1].set_ylabel('PC 2')\n",
    "plt.show() "
   ]
  },
  {
   "cell_type": "markdown",
   "id": "58adbed1-3ee4-4852-970b-068b1f329edb",
   "metadata": {},
   "source": [
    "## 7-4"
   ]
  },
  {
   "cell_type": "code",
   "execution_count": null,
   "id": "365c8904-9ec7-4de0-9e29-e34b9ce5156d",
   "metadata": {},
   "outputs": [],
   "source": [
    "import pandas as pd\n",
    "from sklearn.decomposition import PCA   #主成分分析器\n",
    "from sklearn.preprocessing import StandardScaler\n",
    "#\n",
    "pca = PCA()  # Class 関数の呼び出し\n",
    "pca.fit(data.T)\n",
    "pca_cor = pca.transform(data.T) # データを主成分空間に写像\n",
    "#eigen values　（固有値）\n",
    "eig = pd.DataFrame(pca.explained_variance_, index=['pc1','pc2'], columns=['固有値'])\n",
    "display(eig.T)\n",
    "# eigenvectors　（固有ベクトル）\n",
    "eig_vec = pd.DataFrame(pca.components_.T, columns = ['pc1','pc2'])\n",
    "display(eig_vec)\n",
    "# proportion of the variance　(寄与率）\n",
    "pv = pd.DataFrame(pca.explained_variance_ratio_, index=['pc1','pc2'], columns=['寄与率'])\n",
    "display(pv.T)\n",
    "# score plots\n",
    "cor = pd.DataFrame(pca_cor, columns=['pc1','pc2'])\n",
    "fig, ax = plt.subplots(figsize=(6,6))\n",
    "cor.plot(x='pc1',y='pc2',kind='scatter', ax=ax, grid=True, legend=True)\n",
    "plt.show()"
   ]
  },
  {
   "cell_type": "markdown",
   "id": "84a6adfb-d1de-471b-8a73-ddd29e6698aa",
   "metadata": {},
   "source": [
    "## 7-4-2"
   ]
  },
  {
   "cell_type": "code",
   "execution_count": null,
   "id": "0e82d768-d34a-442e-aa31-0df83a859431",
   "metadata": {},
   "outputs": [],
   "source": [
    "# PCA analyses : wavenuber range  8000-4000 cm-1\n",
    "import pandas as pd\n",
    "import numpy as np\n",
    "from sklearn.decomposition import PCA\n",
    "from mpl_toolkits.mplot3d import Axes3D\n",
    "import matplotlib.pyplot as plt\n",
    "%matplotlib inline\n",
    "#\n",
    "df=pd.read_excel('_data/SP/2nd_Meranti.xlsx', index_col=0)\n",
    "target_names=np.unique(df.index)\n",
    "tmp = pd.get_dummies(df.index)\n",
    "X_category = tmp.values.argmax(1) # make strings into numbers 0,1,2,...\n",
    "sp_names = df.index\n",
    "#\n",
    "X = df\n",
    "X = X*1e4  # \n",
    "title = \"PCA from 8000-4000 cm-1 region\"\n",
    "pca = PCA(n_components=10)\n",
    "X_r = pca.fit(X).transform(X)        \n",
    "#\n",
    "fig, axes = plt.subplots(nrows=3, figsize=(10,15))\n",
    "#　寄与率\n",
    "axes[0].bar(np.arange(1,11,1), pca.explained_variance_ratio_, align = \"center\")\n",
    "axes[0].set_title(\"Screeplot of \"+title)\n",
    "axes[0].set_xlabel(\"components\")\n",
    "axes[0].set_ylabel(\"contribution\")\n",
    "# ２次微分曲線の表示\n",
    "axes[1].plot(df.columns,X.T,linewidth = 2 ) ## x 10e3 \n",
    "axes[1].set_title(\"2nd dev spectra of \"+title)\n",
    "axes[1].invert_xaxis()\n",
    "# 因子負荷量の表示\n",
    "loadings = pca.components_*np.c_[np.sqrt(pca.explained_variance_)]\n",
    "axes[2].plot(df.columns,loadings[0],linewidth = 2, label='PC1 loading')\n",
    "axes[2].plot(df.columns,loadings[1],linewidth = 2, label='PC2 loading' )\n",
    "axes[2].plot(df.columns,loadings[2],linewidth = 2, label='PC3 loading' )\n",
    "axes[2].set_title(\"Loading of \"+title)\n",
    "axes[2].invert_xaxis()\n",
    "axes[2].legend()\n",
    "plt.show()"
   ]
  },
  {
   "cell_type": "markdown",
   "id": "af7ac884-5661-445f-8704-af8af6b7de9e",
   "metadata": {},
   "source": [
    "## 7-4-3"
   ]
  },
  {
   "cell_type": "code",
   "execution_count": null,
   "id": "be8edf42-7d07-4c82-bda8-4ad55f55b4a8",
   "metadata": {},
   "outputs": [],
   "source": [
    "colors = ['r', 'g', 'b','y' ]      \n",
    "# PCA 2D plot\n",
    "fig, axes = plt.subplots(ncols=2,figsize=(10,4))\n",
    "lw = 2 # line width\n",
    "for color, i, target_name in zip(colors, list(range(max(X_category)+1)), target_names):\n",
    "    axes[0].scatter(X_r[X_category == i, 0], X_r[X_category == i, 1], color=color,lw=lw,label=target_name)\n",
    "axes[0].set_title(title)\n",
    "axes[0].set_xlabel('PC1')\n",
    "axes[0].set_ylabel('PC2')\n",
    "for color, i, target_name in zip(colors, list(range(max(X_category)+1)), target_names):\n",
    "    axes[1].scatter(X_r[X_category == i, 1], X_r[X_category == i, 2], color=color, lw=lw,label=target_name)\n",
    "axes[1].legend(bbox_to_anchor=(1.4, 1.1), shadow=False, scatterpoints=1)\n",
    "axes[1].set_title(title)\n",
    "axes[1].set_xlabel('PC2')\n",
    "axes[1].set_ylabel('PC3')\n",
    "plt.show()"
   ]
  },
  {
   "cell_type": "code",
   "execution_count": null,
   "id": "1b616df8-7eb3-4164-a8e3-a2e2c70e035f",
   "metadata": {},
   "outputs": [],
   "source": [
    "# SVM analyses : wavenuber range  8000-4000 cm-1\n",
    "import pandas as pd\n",
    "from sklearn import svm\n",
    "from sklearn.model_selection import GridSearchCV\n",
    "import numpy as np\n",
    "\n",
    "\n",
    "from sklearn.model_selection import train_test_split\n",
    "import matplotlib.pyplot as plt\n",
    "%matplotlib inline\n",
    "#\n",
    "df=pd.read_excel('_data/SP/2nd_Meranti.xlsx', index_col=0)\n",
    "X = df*1e4\n",
    "target_names=np.unique(df.index)\n",
    "tmp = pd.get_dummies(df.index)\n",
    "Y = tmp.values.argmax(1) # make strings into numbers 0,1,2,...\n",
    "sp_names = df.index\n",
    "#\n",
    "x_train,x_test,y_train,y_test=train_test_split(X,Y,test_size=0.20,random_state=77,stratify=Y)\n",
    "\n",
    "\n",
    "\n",
    "title = \"PCA from 8000-4000 cm-1 region\"\n",
    "\n",
    "param_grid={'C':[0.1],'gamma':[0.1],'kernel':['rbf']}\n",
    "svc=svm.SVC(probability=True)\n",
    "model=GridSearchCV(svc,param_grid,verbose=2)\n",
    "\n",
    "model.fit(x_train,y_train)\n",
    "print('The Model is trained well with the given images')\n",
    "\n",
    "# model.best_params_ contains the best parameters obtained from GridSearchCV"
   ]
  },
  {
   "cell_type": "code",
   "execution_count": null,
   "id": "41426d11-0ec4-438a-a7e5-9991dea6d4ba",
   "metadata": {},
   "outputs": [],
   "source": [
    "from sklearn.metrics import accuracy_score\n",
    "\n",
    "x_test_f=np.array(x_test)\n",
    "y_pred=model.predict(x_test_f)\n",
    "print(f\"The model is {accuracy_score(y_pred,y_test)*100}% accurate\")"
   ]
  },
  {
   "cell_type": "markdown",
   "id": "9d07faa8-d933-47be-8818-fd424edf27e3",
   "metadata": {},
   "source": [
    "## 7-5-4"
   ]
  },
  {
   "cell_type": "code",
   "execution_count": null,
   "id": "01af21a6-074e-4283-b673-f031563a4470",
   "metadata": {},
   "outputs": [],
   "source": [
    "import numpy as np\n",
    "import matplotlib.pyplot as plt\n",
    "%matplotlib inline\n",
    "np.random.seed(0)\n",
    "X_xor=np.random.randn(150,2)\n",
    "Y_xor=np.logical_xor(X_xor[:,0]>0,X_xor[:,1]>0)\n",
    "Y_xor = np.where(Y_xor,1,-1)\n",
    "plt.scatter(X_xor[Y_xor==1,0],X_xor[Y_xor==1,1],c='b',marker='x',label='1')\n",
    "plt.scatter(X_xor[Y_xor==-1,0],X_xor[Y_xor==-1,1],c='y',marker='s',label='1')\n",
    "plt.xlabel('X')\n",
    "plt.ylabel('Y')\n",
    "plt.show()"
   ]
  },
  {
   "cell_type": "code",
   "execution_count": null,
   "id": "dd36103a-598f-4428-95a1-4bf7fc6a9732",
   "metadata": {},
   "outputs": [],
   "source": [
    "from common.nir_ml import *\n",
    "clf=SVC()\n",
    "clf.fit(X_xor,Y_xor)\n",
    "plot_decision_regions(X_xor, Y_xor, classifier=clf, resolution=0.02)"
   ]
  },
  {
   "cell_type": "markdown",
   "id": "a986f7c2-17ef-4f37-a834-b457143d9bda",
   "metadata": {},
   "source": [
    "## 8-1-2"
   ]
  },
  {
   "cell_type": "code",
   "execution_count": null,
   "id": "ff1b4b30-4930-4b08-ba1e-a2d1aef2d6dd",
   "metadata": {},
   "outputs": [],
   "source": [
    "from PIL import Image\n",
    "import numpy as np\n",
    "import matplotlib.pyplot as plt\n",
    "%matplotlib inline\n",
    "#\n",
    "img_name='_data/CV/apples.png'\n",
    "im=Image.open(img_name)\n",
    "print('サイズは'+str(im.size)+':'+'階調は'+str(im.mode))\n",
    "# RGBAというタイプの画像だと分かったのでRGBに変換します. \n",
    "im_rgb=im.convert('RGB')\n",
    "im_rgb_a=np.asarray(im_rgb)\n",
    "# RGBの画像を配列にします. \n",
    "# RGBそれぞれのチャンネルの画像を表示. \n",
    "colors=['Reds', 'Greens', 'Blues']\n",
    "fig, ax =plt.subplots(ncols=5,figsize=(12,3))\n",
    "ax[0].imshow(im_rgb_a[:180,:180,:])\n",
    "ax[0].axis('off')\n",
    "for i in range(3):\n",
    "    ax[i+1].imshow(im_rgb_a[:180,:180,i], cmap=colors[i])\n",
    "    ax[i+1].axis('off')\n",
    "im_gray=im.convert('L')\n",
    "im_gray_a=np.asarray(im_gray)\n",
    "ax[4].imshow(im_gray_a[:180,:180],cmap='gray')\n",
    "ax[4].axis('off')\n",
    "plt.show()"
   ]
  },
  {
   "cell_type": "code",
   "execution_count": null,
   "id": "a0dcf82e-e6cf-4c59-ae39-e5116a749917",
   "metadata": {},
   "outputs": [],
   "source": [
    ">>> im_rgb_a[:10,:10,0]"
   ]
  },
  {
   "cell_type": "markdown",
   "id": "89183a8c-ecb1-4eda-acd7-520b2869280c",
   "metadata": {},
   "source": [
    "## 8-2"
   ]
  },
  {
   "cell_type": "code",
   "execution_count": null,
   "id": "b1dca415-0c94-4189-a4de-a980f1669a4b",
   "metadata": {},
   "outputs": [],
   "source": [
    "plt.imshow(im_rgb_a[:180,:180,0]>200)\n",
    "plt.axis('off')\n",
    "plt.show()"
   ]
  },
  {
   "cell_type": "markdown",
   "id": "c045488c-a6db-4d06-bdc5-aee9128ca599",
   "metadata": {},
   "source": [
    "## 8-3-3"
   ]
  },
  {
   "cell_type": "code",
   "execution_count": null,
   "id": "b21254d0-793e-4146-b3fa-9f7cbeb6552d",
   "metadata": {},
   "outputs": [],
   "source": [
    "import numpy as np\n",
    "w1=[-1,-1,-1,0,0,0,1,1,1]\n",
    "w2=[-1,0,1,-1,0,1,-1,0,1]\n",
    "w3=[-1,-0.5,0,-0.5,0,0.5,0,0.5,1]\n",
    "w4=[-1,0.5,-1,0.5,1,0.5,-1,0.5,-1]\n",
    "w5=[1,0.5,1,0.5,-1,0.5,1,0.5,1]\n",
    "w=np.array([w1,w2,w3,w4,w5])\n",
    "wi=w.reshape(5,3,3)"
   ]
  },
  {
   "cell_type": "code",
   "execution_count": null,
   "id": "35ffdd33-c567-41ea-93ce-27268c25dd59",
   "metadata": {},
   "outputs": [],
   "source": [
    "from PIL import Image\n",
    "import matplotlib.pyplot as plt\n",
    "im=Image.open('_data/CV/lotus.png')\n",
    "imc=np.array(im.convert('L'))\n",
    "plt.imshow(im)\n",
    "plt.axis('off')\n",
    "plt.show()"
   ]
  },
  {
   "cell_type": "code",
   "execution_count": null,
   "id": "0bee40e4-78c5-4986-b280-e7ab1af00280",
   "metadata": {},
   "outputs": [],
   "source": [
    "from scipy import signal\n",
    "imgs=[]\n",
    "num=5\n",
    "fig, ax = plt.subplots(ncols=num,nrows=2, figsize=(10,4))\n",
    "\n",
    "for i in range(num):\n",
    "    imca=signal.convolve2d(imc,wi[i])\n",
    "    imgs.append(imca)\n",
    "    ax[0,i].imshow(wi[i],cmap='gray')\n",
    "    ax[0,i].axis('off')\n",
    "    ax[1,i].imshow(imca,cmap='gray')\n",
    "    ax[1,i].axis('off')\n",
    "plt.show()"
   ]
  },
  {
   "cell_type": "code",
   "execution_count": null,
   "id": "15ec3bab-d8c7-40ef-9c79-b66c8496d3a9",
   "metadata": {},
   "outputs": [],
   "source": [
    "from skimage import measure\n",
    "imgsum=np.array(imgs).sum(axis=0)\n",
    "fig, ax = plt.subplots(ncols=3,nrows=1, figsize=(10,5))\n",
    "ax[0].imshow(imc,cmap='gray')\n",
    "ax[0].axis('off')\n",
    "ax[1].imshow(imgsum,cmap='gray')\n",
    "ax[1].axis('off')\n",
    "ax[2].imshow(measure.block_reduce(imgsum, (2,2), np.max),cmap='gray')\n",
    "ax[2].axis('off')\n",
    "plt.show()\n",
    "\n",
    "img_mpx=measure.block_reduce(imgsum, (2,2), np.max)"
   ]
  },
  {
   "cell_type": "markdown",
   "id": "5c59ca5f-33fa-4243-b96e-a8309739256c",
   "metadata": {},
   "source": [
    "## 8-4"
   ]
  },
  {
   "cell_type": "code",
   "execution_count": null,
   "id": "0855fdd3-1994-4d05-a323-822446f31129",
   "metadata": {},
   "outputs": [],
   "source": [
    "import numpy as np\n",
    "import tensorflow as tf\n",
    "from tensorflow.keras.preprocessing.image import ImageDataGenerator\n",
    "from tensorflow.keras.utils import to_categorical\n",
    "from tensorflow.keras import datasets, layers, models\n",
    "\n",
    "imsz=128\n",
    "epochs_num=100\n",
    "\n",
    "test=np.load('_data/CV/CNN/test_128_128.npz')\n",
    "train=np.load('_data/CV/CNN/train_128_128.npz')\n",
    "num_classes=len(train['arr_2'])\n",
    "x_train,y_train,x_test,y_test=train['arr_0'],train['arr_1'],test['arr_0'],test['arr_1']\n",
    "y_train = to_categorical(y_train, num_classes)\n",
    "y_test = to_categorical(y_test, num_classes)\n",
    "\n",
    "datagen = ImageDataGenerator(\n",
    "    rotation_range=20,\n",
    "    width_shift_range=0.2,\n",
    "    height_shift_range=0.2,\n",
    "    horizontal_flip=True)\n",
    "\n",
    "datagen.fit(x_train)"
   ]
  },
  {
   "cell_type": "code",
   "execution_count": null,
   "id": "cc2c280b-d142-4ef3-9305-b7541795d742",
   "metadata": {},
   "outputs": [],
   "source": [
    "# example of 4 layered convnet\n",
    "model = models.Sequential()\n",
    "model.add(layers.Conv2D(16, (3, 3), activation='relu', input_shape=(imsz, imsz, 3)))\n",
    "model.add(layers.MaxPooling2D((2, 2)))\n",
    "model.add(layers.Conv2D(32, (3, 3), activation='relu'))\n",
    "model.add(layers.MaxPooling2D((2, 2)))\n",
    "model.add(layers.Conv2D(64, (3, 3), activation='relu'))\n",
    "model.add(layers.MaxPooling2D((2, 2)))\n",
    "model.add(layers.Conv2D(128, (3, 3), activation='relu'))\n",
    "model.add(layers.MaxPooling2D((2, 2)))\n",
    "model.add(layers.Conv2D(256, (3, 3), activation='relu'))"
   ]
  },
  {
   "cell_type": "code",
   "execution_count": null,
   "id": "5643d0cd-1831-4b5e-85fb-2de73d57a276",
   "metadata": {},
   "outputs": [],
   "source": [
    "# classifier on top of the convnet\n",
    "model.add(layers.Flatten())\n",
    "model.add(layers.Dense(128, activation='relu'))\n",
    "model.add(layers.Dense(num_classes, activation='softmax'))"
   ]
  },
  {
   "cell_type": "code",
   "execution_count": null,
   "id": "45bed117-3746-4d92-9773-9d19a3e07848",
   "metadata": {},
   "outputs": [],
   "source": [
    "model.summary()"
   ]
  },
  {
   "cell_type": "code",
   "execution_count": null,
   "id": "8773b9f4-5080-4cc3-befc-b110a8cc5ff1",
   "metadata": {},
   "outputs": [],
   "source": [
    "model.compile(optimizer='adam',\n",
    "              loss='categorical_crossentropy',\n",
    "              metrics=['accuracy'])\n",
    "\n",
    "res=model.fit(datagen.flow(x_train, y_train, batch_size=32),\\\n",
    "                        steps_per_epoch=int(len(x_train) / 32), \\\n",
    "              epochs=epochs_num, validation_data=(x_test,y_test))"
   ]
  },
  {
   "cell_type": "code",
   "execution_count": null,
   "id": "0442e4ef-eca9-4bd2-82e5-9c73ecd58364",
   "metadata": {},
   "outputs": [],
   "source": [
    "import matplotlib.pyplot as plt\n",
    "%matplotlib inline\n",
    "\n",
    "acc=res.history['accuracy']\n",
    "loss=res.history['loss']\n",
    "val_acc=res.history['val_accuracy']\n",
    "val_loss=res.history['val_loss']\n",
    "epochs=range(1,len(acc)+1)\n",
    "fig, ax1= plt.subplots(figsize=(10,8))\n",
    "ax2=ax1.twinx()\n",
    "ax1.plot(epochs, acc, '-go', label='training accuracy')\n",
    "ax2.plot(epochs, loss, '-c^', label='training loss')\n",
    "ax1.plot(epochs, val_acc, '-bo', label='validation accuracy')\n",
    "ax2.plot(epochs, val_loss, '-m^', label='validation loss')\n",
    "ax1.set_xlabel('epochs')\n",
    "ax1.set_ylabel('accuracy')\n",
    "ax2.set_ylabel('loss')\n",
    "ax1.legend()\n",
    "ax2.legend()\n",
    "plt.savefig('_data/CV/CNN/history/CNN_bark_'+str(imsz)+'_'+str(epochs_num)+'epo.png')\n",
    "plt.show()\n",
    "# modelを保存する. \n",
    "model.save('_data/CV/CNN/model/CNN_bark_'+str(imsz)+'_'+str(epochs_num)+'epo.h5')"
   ]
  },
  {
   "cell_type": "code",
   "execution_count": null,
   "id": "5053d823-4a0c-4e1c-abbe-f39b0a2cc5e3",
   "metadata": {},
   "outputs": [],
   "source": [
    "hdf_source='_data/CV/CNN/model/CNN_bark_128_100epo.h5'\n",
    "\n",
    "batch_size_is=24\n",
    "\n",
    "datagen = ImageDataGenerator()\n",
    "testgen=datagen.flow(x_test,y_test, batch_size=24)\n",
    "\n",
    "new_model = tf.keras.models.load_model(hdf_source)\n",
    "\n",
    "X,Y=testgen.__next__()\n",
    "true_classes=np.argmax(Y, axis=1)\n",
    "preds_ft = new_model.predict(X)\n",
    "pred_classes_ft = np.argmax(preds_ft, axis=1)\n",
    "\n",
    "# Get the names of classes\n",
    "class_names=train['arr_2']\n",
    "\n",
    "fig, ax= plt.subplots(nrows=batch_size_is, ncols=2, figsize=(8, 40))\n",
    "for i in range(batch_size_is):\n",
    "    best_5=np.argsort(preds_ft[i])[-5:]\n",
    "    ax[i,0].imshow(X[i]/ 2 + 0.5)\n",
    "    ax[i,0].set_title(str(np.array(class_names)[true_classes[i]]),fontsize=10)\n",
    "    ax[i,0].axis('off')\n",
    "    label=np.array(class_names)[best_5]\n",
    "    ax[i,1].barh(label,preds_ft[i][best_5])\n",
    "    ax[i,1].set_yticks([0, 1, 2, 3, 4])\n",
    "    ax[i,1].set_yticklabels(label,rotation=0,ha='right', fontsize=10)       \n",
    "fig.tight_layout()\n",
    "plt.savefig('_data/CV/CNN/prediction/prediction_tmp.jpg',dpi=200)\n",
    "plt.show()"
   ]
  },
  {
   "cell_type": "code",
   "execution_count": null,
   "id": "e29057cd-1cd0-4845-9ff2-5524e1410bca",
   "metadata": {},
   "outputs": [],
   "source": [
    "from sklearn import svm\n",
    "from sklearn.model_selection import GridSearchCV\n",
    "import numpy as np\n",
    "\n",
    "test=np.load('_data/CV/CNN/test_128_128.npz')\n",
    "train=np.load('_data/CV/CNN/train_128_128.npz')\n",
    "num_classes=len(train['arr_2'])\n",
    "x_train,y_train,x_test,y_test=train['arr_0'],train['arr_1'],test['arr_0'],test['arr_1']\n",
    "x_train_f=x_train.reshape(1170,128*128*3)\n",
    "\n",
    "param_grid={'C':[1],'gamma':[0.0001],'kernel':['rbf']}\n",
    "svc=svm.SVC(probability=True)\n",
    "model=GridSearchCV(svc,param_grid,verbose=2)\n",
    "\n",
    "model.fit(x_train_f,y_train)\n",
    "print('The Model is trained well with the given images')\n",
    "\n",
    "# model.best_params_ contains the best parameters obtained from GridSearchCV"
   ]
  },
  {
   "cell_type": "code",
   "execution_count": null,
   "id": "0794c4b9-eb31-4def-89b6-fe99c2ed15cd",
   "metadata": {},
   "outputs": [],
   "source": [
    "from sklearn.metrics import accuracy_score\n",
    "import matplotlib.pyplot as plt\n",
    "%matplotlib inline\n",
    "\n",
    "x_test_f=x_test.reshape(234,128*128*3)\n",
    "y_pred=model.predict(x_test_f)\n",
    "print(f\"The model is {accuracy_score(y_pred,y_test)*100}%3d accurate\")\n",
    "\n",
    "batch_size_is=24\n",
    "\n",
    "true_classes=y_test\n",
    "preds_ft = model.predict_proba(x_test_f)\n",
    "\n",
    "# Get the names of classes\n",
    "class_names=train['arr_2']\n",
    "\n",
    "fig, ax= plt.subplots(nrows=batch_size_is, ncols=2, figsize=(8, 40))\n",
    "for i in range(batch_size_is):\n",
    "    best_5=np.argsort(preds_ft[i])[-5:]\n",
    "    ax[i,0].imshow(x_test_f[i].reshape(128,128,3)/ 2 + 0.5)\n",
    "    ax[i,0].set_title(str(np.array(class_names)[true_classes[i]]),fontsize=10)\n",
    "    ax[i,0].axis('off')\n",
    "    label=np.array(class_names)[best_5]\n",
    "    ax[i,1].barh(label,preds_ft[i][best_5])\n",
    "    ax[i,1].set_yticks([0, 1, 2, 3, 4])\n",
    "    ax[i,1].set_yticklabels(label,rotation=0,ha='right', fontsize=10)       \n",
    "fig.tight_layout()\n",
    "plt.savefig('_data/CV/CNN/prediction/prediction_svm.jpg',dpi=200)\n",
    "plt.show()"
   ]
  },
  {
   "cell_type": "markdown",
   "id": "1cd706cb-0baf-4328-bf00-26a254793c9d",
   "metadata": {},
   "source": [
    "## APPENDIX 2"
   ]
  },
  {
   "cell_type": "code",
   "execution_count": null,
   "id": "f508f19e-3f47-42c7-8636-fabb9f2067ab",
   "metadata": {},
   "outputs": [],
   "source": [
    "import h5py\n",
    "hdf_path=\"../python/勉強会資料/WIG_v1.2.1_900.h5\"\n",
    "with h5py.File(hdf_path,'r') as f:\n",
    "    print('(1)- 1st level ')\n",
    "    print(list(f.keys()))\n",
    "    print('(2)-　2nd level, Group \"Betulaceae\" ')\n",
    "    print(list(f['Betulaceae/'].keys()))\n",
    "    print('(3)- 3rd level, Group \"Betulaceae/Alnus\"　')\n",
    "    print(list(f['Betulaceae/Alnus/'].keys()))\n",
    "    print('(4)- 4th level, Group \"Betulaceae/Alnus/Alnus_firma\" ')\n",
    "    print(list(f['Betulaceae/Alnus/Alnus_firma'].keys()))\n",
    "    print('(5)- 5th level, Group \"Betulaceae/Alnus/Alnus_firma/prep_06341\" ')\n",
    "    print(len(f['Betulaceae/Alnus/Alnus_firma/prep_06341']), ' images included')"
   ]
  },
  {
   "cell_type": "code",
   "execution_count": null,
   "id": "3b7ee650-1972-4fdf-8a22-7668dc9c5237",
   "metadata": {},
   "outputs": [],
   "source": [
    "import matplotlib.pyplot as plt\n",
    "%matplotlib inline\n",
    "f=h5py.File(hdf_path,'r') \n",
    "imgs=f['Cannabaceae/Celtis/Celtis_sinensis/KYOw_01137']\n",
    "fig = plt.subplots(figsize=(10,10))\n",
    "plt.imshow(imgs[3],cmap='gray')\n",
    "plt.show()"
   ]
  },
  {
   "cell_type": "code",
   "execution_count": null,
   "id": "d2ecaca1-93d4-42e1-840d-c04dc6e83284",
   "metadata": {},
   "outputs": [],
   "source": [
    "from common.wig import *\n",
    "hdf_path=\"../python/勉強会資料/WIG_v1.2.1_900.h5\"\n",
    "f=h5py.File(hdf_path,'r')  \n",
    "mywood=WIGDataRead()\n",
    "mywood.pivot(f, '')"
   ]
  },
  {
   "cell_type": "code",
   "execution_count": null,
   "id": "6bde0923-2bd9-43fc-aef1-a32b0ec01094",
   "metadata": {},
   "outputs": [],
   "source": [
    "mywood.pivot(f,'Fagaceae')"
   ]
  },
  {
   "cell_type": "code",
   "execution_count": null,
   "id": "d739a9d5-6a48-4480-bd53-8b15d69ca58e",
   "metadata": {},
   "outputs": [],
   "source": [
    "imgs=mywood.ImageDataGenerator(f, class_name='Fagaceae', target_label='species', \\\n",
    "                    size=(124,124), batch_size=24, shuffle=True)\n",
    "labels=np.unique(mywood.get_labels(f, class_name='Fagaceae', target_label='species'))\n",
    "ncols=6\n",
    "nrows=4\n",
    "img_,label_ = next(imgs)\n",
    "\n",
    "fig, axes= plt.subplots(ncols=ncols,nrows=nrows,figsize=(12,8))\n",
    "\n",
    "for i,(im,lb) in enumerate(zip(img_,label_)): \n",
    "    p,q=divmod(i,ncols)\n",
    "    axes[p,q].set_title(labels[np.argmax(lb)],fontsize=8,style='italic')\n",
    "    axes[p,q].imshow(im,cmap='gray')\n",
    "    axes[p,q].axis('off')\n",
    "plt.show()"
   ]
  },
  {
   "cell_type": "code",
   "execution_count": null,
   "id": "566f2a0f-66bc-40d2-877c-68b4ff19d16b",
   "metadata": {},
   "outputs": [],
   "source": []
  },
  {
   "cell_type": "code",
   "execution_count": null,
   "id": "8923df35-4041-4d4d-852d-9a7a0318c25b",
   "metadata": {},
   "outputs": [],
   "source": []
  }
 ],
 "metadata": {
  "kernelspec": {
   "display_name": "Python 3 (ipykernel)",
   "language": "python",
   "name": "python3"
  },
  "language_info": {
   "codemirror_mode": {
    "name": "ipython",
    "version": 3
   },
   "file_extension": ".py",
   "mimetype": "text/x-python",
   "name": "python",
   "nbconvert_exporter": "python",
   "pygments_lexer": "ipython3",
   "version": "3.8.2"
  }
 },
 "nbformat": 4,
 "nbformat_minor": 5
}
