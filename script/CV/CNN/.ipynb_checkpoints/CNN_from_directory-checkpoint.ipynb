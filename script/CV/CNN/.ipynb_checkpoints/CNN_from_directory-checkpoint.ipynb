{
 "cells": [
  {
   "cell_type": "code",
   "execution_count": 1,
   "metadata": {},
   "outputs": [],
   "source": [
    "### data preparatiion \n",
    "imsz=128  # image size\n",
    "epoch=50  # epoch cycle"
   ]
  },
  {
   "cell_type": "code",
   "execution_count": 2,
   "metadata": {},
   "outputs": [
    {
     "name": "stdout",
     "output_type": "stream",
     "text": [
      "Init Plugin\n",
      "Init Graph Optimizer\n",
      "Init Kernel\n"
     ]
    }
   ],
   "source": [
    "import tensorflow as tf\n",
    "from tensorflow.keras.preprocessing.image import ImageDataGenerator"
   ]
  },
  {
   "cell_type": "code",
   "execution_count": 4,
   "metadata": {},
   "outputs": [
    {
     "name": "stdout",
     "output_type": "stream",
     "text": [
      "Found 126 images belonging to 9 classes.\n",
      "Found 72 images belonging to 9 classes.\n"
     ]
    }
   ],
   "source": [
    "# あらかじめ作ったディレクトリをラベル、その中の画像をデータにします。\n",
    "train_datagen = ImageDataGenerator(\n",
    "        rescale=1./255,\n",
    "        rotation_range=20,\n",
    "        shear_range=0.2,\n",
    "        zoom_range=0.2,\n",
    "        horizontal_flip=True)\n",
    "\n",
    "test_datagen = ImageDataGenerator(rescale=1./255)\n",
    "\n",
    "train_generator = train_datagen.flow_from_directory(\n",
    "        '../../../../../GitHubData/Datascience_AI/CV/CNN/data_class',\n",
    "        target_size=(imsz, imsz),\n",
    "        batch_size=32,\n",
    "        class_mode='categorical')\n",
    "\n",
    "validation_generator = test_datagen.flow_from_directory(\n",
    "        '../../../../../GitHubData/Datascience_AI/CV/CNN/data',\n",
    "        target_size=(imsz, imsz),\n",
    "        batch_size=24,\n",
    "        class_mode='categorical')\n"
   ]
  },
  {
   "cell_type": "code",
   "execution_count": null,
   "metadata": {},
   "outputs": [
    {
     "name": "stdout",
     "output_type": "stream",
     "text": [
      "Num GPUs Available:  1\n",
      "Metal device set to: Apple M1\n",
      "Model: \"sequential\"\n",
      "_________________________________________________________________\n",
      "Layer (type)                 Output Shape              Param #   \n",
      "=================================================================\n",
      "conv2d (Conv2D)              (None, 126, 126, 16)      448       \n",
      "_________________________________________________________________\n",
      "max_pooling2d (MaxPooling2D) (None, 63, 63, 16)        0         \n",
      "_________________________________________________________________\n",
      "conv2d_1 (Conv2D)            (None, 61, 61, 32)        4640      \n",
      "_________________________________________________________________\n",
      "max_pooling2d_1 (MaxPooling2 (None, 30, 30, 32)        0         \n",
      "_________________________________________________________________\n",
      "conv2d_2 (Conv2D)            (None, 28, 28, 64)        18496     \n",
      "_________________________________________________________________\n",
      "max_pooling2d_2 (MaxPooling2 (None, 14, 14, 64)        0         \n",
      "_________________________________________________________________\n",
      "conv2d_3 (Conv2D)            (None, 12, 12, 128)       73856     \n",
      "_________________________________________________________________\n",
      "max_pooling2d_3 (MaxPooling2 (None, 6, 6, 128)         0         \n",
      "_________________________________________________________________\n",
      "conv2d_4 (Conv2D)            (None, 4, 4, 256)         295168    \n",
      "_________________________________________________________________\n",
      "flatten (Flatten)            (None, 4096)              0         \n",
      "_________________________________________________________________\n",
      "dense (Dense)                (None, 128)               524416    \n",
      "_________________________________________________________________\n",
      "dense_1 (Dense)              (None, 9)                 1161      \n",
      "=================================================================\n",
      "Total params: 918,185\n",
      "Trainable params: 918,185\n",
      "Non-trainable params: 0\n",
      "_________________________________________________________________\n"
     ]
    },
    {
     "name": "stderr",
     "output_type": "stream",
     "text": [
      "2021-12-17 10:52:45.666348: I tensorflow/core/common_runtime/pluggable_device/pluggable_device_factory.cc:305] Could not identify NUMA node of platform GPU ID 0, defaulting to 0. Your kernel may not have been built with NUMA support.\n",
      "2021-12-17 10:52:45.666526: I tensorflow/core/common_runtime/pluggable_device/pluggable_device_factory.cc:271] Created TensorFlow device (/job:localhost/replica:0/task:0/device:GPU:0 with 0 MB memory) -> physical PluggableDevice (device: 0, name: METAL, pci bus id: <undefined>)\n",
      "2021-12-17 10:52:48.720544: I tensorflow/compiler/mlir/mlir_graph_optimization_pass.cc:176] None of the MLIR Optimization Passes are enabled (registered 2)\n",
      "2021-12-17 10:52:48.720661: W tensorflow/core/platform/profile_utils/cpu_utils.cc:128] Failed to get CPU frequency: 0 Hz\n",
      "2021-12-17 10:52:48.848574: I tensorflow/core/grappler/optimizers/custom_graph_optimizer_registry.cc:112] Plugin optimizer for device_type GPU is enabled.\n"
     ]
    },
    {
     "name": "stdout",
     "output_type": "stream",
     "text": [
      "Epoch 1/50\n"
     ]
    }
   ],
   "source": [
    "from tensorflow.keras import datasets, layers, models\n",
    "import logging\n",
    "logging.getLogger(\"tensorflow\").setLevel(logging.ERROR) \n",
    "tf.autograph.set_verbosity(0)\n",
    "print(\"Num GPUs Available: \", len(tf.config.experimental.list_physical_devices('GPU')))\n",
    "\n",
    "target_num=9\n",
    "\n",
    "# example of 4 layered convnet\n",
    "model = models.Sequential()\n",
    "\n",
    "model.add(layers.Conv2D(16, (3, 3), activation='relu', input_shape=(imsz, imsz, 3)))\n",
    "model.add(layers.MaxPooling2D((2, 2)))\n",
    "model.add(layers.Conv2D(32, (3, 3), activation='relu'))\n",
    "model.add(layers.MaxPooling2D((2, 2)))\n",
    "model.add(layers.Conv2D(64, (3, 3), activation='relu'))\n",
    "model.add(layers.MaxPooling2D((2, 2)))\n",
    "model.add(layers.Conv2D(128, (3, 3), activation='relu'))\n",
    "model.add(layers.MaxPooling2D((2, 2)))\n",
    "model.add(layers.Conv2D(256, (3, 3), activation='relu'))\n",
    "\n",
    "# classifier on top of the convnet\n",
    "model.add(layers.Flatten())\n",
    "model.add(layers.Dense(128, activation='relu'))\n",
    "model.add(layers.Dense(target_num, activation='softmax'))\n",
    "\n",
    "model.summary()\n",
    "\n",
    "model.compile(optimizer='adam',\n",
    "              loss='categorical_crossentropy',\n",
    "              metrics=['accuracy'])\n",
    "import time\n",
    "# 処理前の時刻\n",
    "t1 = time.time() \n",
    "#\n",
    "res=model.fit(train_generator, steps_per_epoch=4, validation_data=validation_generator, validation_steps=2, epochs=epoch)\n",
    "\n",
    "# 処理後の時刻\n",
    "t2 = time.time()\n",
    " \n",
    "import socket\n",
    "# コンピュータ名を取得\n",
    "host = socket.gethostname()\n",
    "print(host)  \n",
    "\n",
    "# 経過時間を表示\n",
    "elapsed_time = t2-t1\n",
    "print(f\"処理時間：{elapsed_time}\")"
   ]
  },
  {
   "cell_type": "code",
   "execution_count": null,
   "metadata": {},
   "outputs": [],
   "source": [
    "# result(res)に出力されたデータをプロットする。\n",
    "# 図と計算結果のモデルを保存する。\n",
    "\n",
    "import matplotlib.pyplot as plt\n",
    "%matplotlib inline\n",
    "\n",
    "acc=res.history['accuracy']\n",
    "loss=res.history['loss']\n",
    "val_acc=res.history['val_accuracy']\n",
    "val_loss=res.history['val_loss']\n",
    "epochs=range(1,len(acc)+1)\n",
    "fig, ax1= plt.subplots(figsize=(10,8))\n",
    "ax2=ax1.twinx()\n",
    "ax1.plot(epochs, acc, '-go', label='training accuracy')\n",
    "ax2.plot(epochs, loss, '-c^', label='training loss')\n",
    "ax1.plot(epochs, val_acc, '-bo', label='validation accuracy')\n",
    "ax2.plot(epochs, val_loss, '-m^', label='validation loss')\n",
    "ax1.set_xlabel('epochs')\n",
    "ax1.set_ylabel('accuracy')\n",
    "ax2.set_ylabel('loss')\n",
    "ax1.legend()\n",
    "ax2.legend()\n",
    "plt.savefig('./history/CNN_from_directory_'+target_class+str(imsz)+'_'+str(epoch)+'epo.png')\n",
    "plt.show()\n",
    "# modelを保存する。\n",
    "model.save('../../GitHubData/CNN/model/CNN_from_directory_'+target_class+str(imsz)+'_'+str(epoch)+'epo.h5')"
   ]
  },
  {
   "cell_type": "markdown",
   "metadata": {},
   "source": [
    "# "
   ]
  },
  {
   "cell_type": "code",
   "execution_count": null,
   "metadata": {},
   "outputs": [],
   "source": [
    "hdf_source='../../GitHubData/CNN/model/CNN_from_directory_index128_５0epo.h5'\n",
    "\n",
    "new_model = tf.keras.models.load_model(hdf_source)\n",
    "\n",
    "X,Y=validation_generator.__next__()\n",
    "true_classes=np.argmax(Y, axis=1)\n",
    "preds_ft = new_model.predict(X)\n",
    "pred_classes_ft = np.argmax(preds_ft, axis=1)\n",
    "\n",
    "# Get the names of classes\n",
    "class_names=['A','B','C','D','E','F','G','H','I']\n",
    "\n",
    "\n",
    "fig, ax= plt.subplots(nrows=batch_size_is, ncols=2, figsize=(8, 40))\n",
    "for i in range(batch_size_is):\n",
    "    best_5=np.argsort(preds_ft[i])[-5:]\n",
    "    ax[i,0].imshow(a_ar[i]/ 2 + 0.5)\n",
    "    ax[i,0].set_title(str(np.array(class_names)[true_classes[i]]),fontsize=10)\n",
    "    ax[i,0].axis('off')\n",
    "    label=np.array(class_names)[best_5]\n",
    "    ax[i,1].barh(label,preds_ft[i][best_5])\n",
    "    ax[i,1].set_yticks([0, 1, 2, 3, 4])\n",
    "    ax[i,1].set_yticklabels(label,rotation=0,ha='right', fontsize=10)       \n",
    "fig.tight_layout()\n",
    "plt.savefig('./prediction/prediction_from_directory_tmp.jpg',dpi=200)\n",
    "plt.show()"
   ]
  },
  {
   "cell_type": "code",
   "execution_count": null,
   "metadata": {},
   "outputs": [],
   "source": []
  }
 ],
 "metadata": {
  "kernelspec": {
   "display_name": "Python 3 (ipykernel)",
   "language": "python",
   "name": "python3"
  },
  "language_info": {
   "codemirror_mode": {
    "name": "ipython",
    "version": 3
   },
   "file_extension": ".py",
   "mimetype": "text/x-python",
   "name": "python",
   "nbconvert_exporter": "python",
   "pygments_lexer": "ipython3",
   "version": "3.8.10"
  }
 },
 "nbformat": 4,
 "nbformat_minor": 4
}
