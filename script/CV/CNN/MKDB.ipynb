{
 "cells": [
  {
   "cell_type": "markdown",
   "metadata": {},
   "source": [
    "# 画像データの前準備"
   ]
  },
  {
   "cell_type": "code",
   "execution_count": null,
   "metadata": {
    "collapsed": false,
    "jupyter": {
     "outputs_hidden": false
    }
   },
   "outputs": [],
   "source": [
    "import os\n",
    "from pathlib import Path\n",
    "import sys\n",
    "import numpy as np\n",
    "import os, os.path\n",
    "import pandas as pd\n",
    "from tqdm import tqdm\n",
    "from sklearn.model_selection import train_test_split\n",
    "from keras.preprocessing.image import load_img, img_to_array, array_to_img\n",
    "from keras.utils import np_utils\n",
    "from PIL import Image\n",
    "import cv2\n",
    "import matplotlib.pyplot as plt\n",
    "import matplotlib as mpl\n",
    "\n",
    "# mpl.rcParams['font.family'] = 'AppleGothic'"
   ]
  },
  {
   "cell_type": "markdown",
   "metadata": {},
   "source": [
    "### 識別ラベルの表示"
   ]
  },
  {
   "cell_type": "code",
   "execution_count": null,
   "metadata": {
    "collapsed": false,
    "jupyter": {
     "outputs_hidden": false
    }
   },
   "outputs": [],
   "source": [
    "data_dir = Path('./bark_data/')\n",
    "# list(data_dir.glob('**'))\n",
    "sp_dir=[x for x in data_dir.iterdir() if x.is_dir()]\n",
    "sp_list=[x.name for x in data_dir.iterdir() if x.is_dir()]\n",
    "print(sp_list)\n",
    "print('合計：'+str(len(sp_list))+'種類')"
   ]
  },
  {
   "cell_type": "markdown",
   "metadata": {},
   "source": [
    "### 読み込む画像の表示①"
   ]
  },
  {
   "cell_type": "code",
   "execution_count": null,
   "metadata": {
    "collapsed": false,
    "jupyter": {
     "outputs_hidden": false
    }
   },
   "outputs": [],
   "source": [
    "res_sz = 360\n",
    "\n",
    "h_sz=128 ###### horizontal image size @@@@\n",
    "v_sz=128 ###### vertical image size @@@@\n",
    "\n",
    "imgn_list = [len([x for x in sp_dir[i].iterdir() if x.name[0] != '.']) for i in range(len(sp_list))]\n",
    "\n",
    "fig, axes = plt.subplots(10,len(sp_list), figsize=(15,10))\n",
    "\n",
    "for i in range(len(sp_list)):\n",
    "    for j in range(10):\n",
    "        axes[j, i].axis('off')\n",
    "\n",
    "for i in range(len(sp_list)):\n",
    "    for j,fl in enumerate([x for x in sp_dir[i].iterdir() if x.name[0] != '.'][0:10]):\n",
    "        img = Image.open(os.fspath(fl))\n",
    "        img = img.resize((res_sz,res_sz))\n",
    "        img_cr = img.crop((int((res_sz-h_sz)/2),int((res_sz-v_sz)/2),\n",
    "                    int((res_sz-h_sz)/2+h_sz),int((res_sz-h_sz)/2+v_sz)))\n",
    "        axes[j, i].imshow(img_cr)\n",
    "plt.show()"
   ]
  },
  {
   "cell_type": "markdown",
   "metadata": {},
   "source": [
    "### 読み込む画像の表示②"
   ]
  },
  {
   "cell_type": "code",
   "execution_count": null,
   "metadata": {
    "collapsed": false,
    "jupyter": {
     "outputs_hidden": false
    }
   },
   "outputs": [],
   "source": [
    "imgn_list = [len([x for x in sp_dir[i].iterdir() if x.name[0] != '.']) for i in range(len(sp_list))]\n",
    "\n",
    "fig, axes = plt.subplots(len(sp_list),10, figsize=(15,40))\n",
    "\n",
    "for i in range(len(sp_list)):\n",
    "    for j in range(10):\n",
    "        axes[i, j].axis('off')\n",
    "\n",
    "for i in range(len(sp_list)):\n",
    "    for j,fl in enumerate([x for x in sp_dir[i].iterdir() if x.name[0] != '.'][0:10]):\n",
    "        img = Image.open(os.fspath(fl))\n",
    "        img = img.resize((res_sz,res_sz))\n",
    "        img_cr = img.crop((int((res_sz-h_sz)/2),int((res_sz-v_sz)/2),\n",
    "                    int((res_sz-h_sz)/2+h_sz),int((res_sz-h_sz)/2+v_sz)))\n",
    "        axes[i, j].imshow(img_cr)\n",
    "        axes[i, j].set_title(sp_list[i])\n",
    "plt.show()"
   ]
  },
  {
   "cell_type": "code",
   "execution_count": null,
   "metadata": {
    "tags": []
   },
   "outputs": [],
   "source": [
    "# imgn_list = [len([x for x in sp_dir[i].iterdir() if x.name[0] != '.']) for i in range(len(sp_list))]\n",
    "\n",
    "# fig, axes = plt.subplots(len(sp_list),max(imgn_list), figsize=(10,40))\n",
    "\n",
    "# for i in range(len(sp_list)):\n",
    "#     for j in range(max(imgn_list)):\n",
    "#         axes[i, j].axis('off')\n",
    "\n",
    "# for i in range(len(sp_list)):\n",
    "#     for j,fl in enumerate([x for x in sp_dir[i].iterdir() if x.name[0] != '.']):\n",
    "#         img = Image.open(os.fspath(fl))\n",
    "#         axes[i, j].imshow(img)\n",
    "#         axes[i, j].set_title(sp_list[i])\n",
    "# plt.show()"
   ]
  },
  {
   "cell_type": "markdown",
   "metadata": {},
   "source": [
    "## TrainとValidationに分けて、数値配列として保存"
   ]
  },
  {
   "cell_type": "code",
   "execution_count": null,
   "metadata": {
    "collapsed": false,
    "jupyter": {
     "outputs_hidden": false
    }
   },
   "outputs": [],
   "source": [
    "res_sz = 720\n",
    "\n",
    "h_sz=128 ###### horizontal image size @@@@\n",
    "v_sz=128 ###### vertical image size @@@@\n",
    "\n",
    "#\n",
    "arr = [] # wood image data\n",
    "wdid = []  # wood id by number\n",
    "# resizing initial image data and saving in 4 dimensional array ( samplenumber, h-size, v-size, depth)\n",
    "for i in range(len(sp_list)):\n",
    "    for j,fl in enumerate([x for x in sp_dir[i].iterdir() if x.name[0] != '.']):\n",
    "        img = Image.open(os.fspath(fl))\n",
    "        img = img.resize((res_sz,res_sz))\n",
    "        img_cr = img.crop((int((res_sz-h_sz)/2),int((res_sz-v_sz)/2),\n",
    "                    int((res_sz-h_sz)/2+h_sz),int((res_sz-h_sz)/2+v_sz)))\n",
    "        arr.append(np.array(img_cr))\n",
    "        wdid.append(i)\n",
    "    \n",
    "img_data = np.array(arr)\n",
    "img_data.shape"
   ]
  },
  {
   "cell_type": "code",
   "execution_count": null,
   "metadata": {
    "collapsed": false,
    "jupyter": {
     "outputs_hidden": false
    },
    "scrolled": true
   },
   "outputs": [],
   "source": [
    "#  generate train and test sets (5:1) -> test_size=0.166\n",
    "X_train, x_test, Y_train, y_test = train_test_split(img_data,wdid, test_size=0.166, random_state=42)\n",
    "# normalize inputs from 0-255 and 0.0-1.0\n",
    "X_train = X_train.astype(\"float32\")\n",
    "x_test = x_test.astype(\"float32\")\n",
    "X_train /=255\n",
    "x_test /=255\n",
    "\n",
    "# substraction by mean using private function\n",
    "X_train = X_train-np.mean(X_train)\n",
    "x_test= x_test-np.mean(x_test)\n",
    "\n",
    "\n",
    "# save data\n",
    "np.savez_compressed('./bark_data_np/train_'+str(h_sz)+'_'+ str(v_sz)+'.npz', X_train,Y_train,sp_list)\n",
    "np.savez_compressed('./bark_data_np/test_'+str(h_sz)+'_'+ str(v_sz)+'.npz' , x_test, y_test, sp_list)\n"
   ]
  },
  {
   "cell_type": "code",
   "execution_count": null,
   "metadata": {},
   "outputs": [],
   "source": []
  }
 ],
 "metadata": {
  "anaconda-cloud": {},
  "kernelspec": {
   "display_name": "Python 3 (ipykernel)",
   "language": "python",
   "name": "python3"
  },
  "language_info": {
   "codemirror_mode": {
    "name": "ipython",
    "version": 3
   },
   "file_extension": ".py",
   "mimetype": "text/x-python",
   "name": "python",
   "nbconvert_exporter": "python",
   "pygments_lexer": "ipython3",
   "version": "3.8.10"
  }
 },
 "nbformat": 4,
 "nbformat_minor": 4
}
