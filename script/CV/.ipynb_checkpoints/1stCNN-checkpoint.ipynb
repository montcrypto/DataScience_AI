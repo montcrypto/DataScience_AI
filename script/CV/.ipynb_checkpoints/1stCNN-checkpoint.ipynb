{
 "cells": [
  {
   "cell_type": "markdown",
   "metadata": {},
   "source": [
    "20210801 \n",
    "/ macos m1 arm64 cpu tensorflow 2.4.0 on python 3.8.10 M1Mac 時間：540.3081290721893\n",
    "/ macos m1 AMD gpu tensorflow 2.5.0 (tensorflow-metal) on python 3.8.10 M1Mac　時間：564.2957329750061\n",
    "/ macos intel cpu tesorflow 2.4.1 on python 3.8.2 Home-MacBookPro 時間：582.744699716568\n",
    "/ Ubuntu tensorflow 2.2.0 python 3.6.10 dl-box GPU 時間：424.43397879600525"
   ]
  },
  {
   "cell_type": "markdown",
   "metadata": {},
   "source": [
    "## Convolutional Neural Network （CNN) の実装"
   ]
  },
  {
   "cell_type": "markdown",
   "metadata": {
    "tags": []
   },
   "source": [
    "#### 簡単なConvolutional Neural Networkを作成して、WIGのデータを使って119属の識別問題を実装します。\n",
    "##### ここでは計算量が大きくなるため、WIGのデータ(900x900)を縮小して、64x64x3にします。"
   ]
  },
  {
   "cell_type": "code",
   "execution_count": 1,
   "metadata": {},
   "outputs": [
    {
     "name": "stdout",
     "output_type": "stream",
     "text": [
      "Num GPUs Available:  0\n"
     ]
    }
   ],
   "source": [
    "# Introduction to convnets\n",
    "import tensorflow as tf\n",
    "from tensorflow.keras import datasets, layers, models\n",
    "from mygens import *\n",
    "import logging\n",
    "logging.getLogger(\"tensorflow\").setLevel(logging.ERROR) \n",
    "tf.autograph.set_verbosity(0)\n",
    "print(\"Num GPUs Available: \", len(tf.config.experimental.list_physical_devices('GPU')))"
   ]
  },
  {
   "cell_type": "markdown",
   "metadata": {},
   "source": [
    "#### ４層からなるネットワークを作成してみます。"
   ]
  },
  {
   "cell_type": "code",
   "execution_count": 2,
   "metadata": {},
   "outputs": [],
   "source": [
    "# example of 4 layered convnet\n",
    "model = models.Sequential()\n",
    "\n",
    "model.add(layers.Conv2D(16, (3, 3), activation='relu', input_shape=(64, 64, 3)))\n",
    "model.add(layers.MaxPooling2D((2, 2)))\n",
    "model.add(layers.Conv2D(32, (3, 3), activation='relu'))\n",
    "model.add(layers.MaxPooling2D((2, 2)))\n",
    "model.add(layers.Conv2D(64, (3, 3), activation='relu'))\n",
    "model.add(layers.MaxPooling2D((2, 2)))\n",
    "model.add(layers.Conv2D(128, (3, 3), activation='relu'))"
   ]
  },
  {
   "cell_type": "markdown",
   "metadata": {},
   "source": [
    "#### トップレイヤーに識別器をおきます。softmax関数で、119の属に全結合の２層入れます。"
   ]
  },
  {
   "cell_type": "code",
   "execution_count": 3,
   "metadata": {},
   "outputs": [],
   "source": [
    "# classifier on top of the convnet\n",
    "model.add(layers.Flatten())\n",
    "model.add(layers.Dense(128, activation='relu'))\n",
    "model.add(layers.Dense(119, activation='softmax'))"
   ]
  },
  {
   "cell_type": "markdown",
   "metadata": {},
   "source": [
    "#### モデルの構造を確認します。"
   ]
  },
  {
   "cell_type": "code",
   "execution_count": 4,
   "metadata": {},
   "outputs": [
    {
     "name": "stdout",
     "output_type": "stream",
     "text": [
      "Model: \"sequential\"\n",
      "_________________________________________________________________\n",
      "Layer (type)                 Output Shape              Param #   \n",
      "=================================================================\n",
      "conv2d (Conv2D)              (None, 62, 62, 16)        448       \n",
      "_________________________________________________________________\n",
      "max_pooling2d (MaxPooling2D) (None, 31, 31, 16)        0         \n",
      "_________________________________________________________________\n",
      "conv2d_1 (Conv2D)            (None, 29, 29, 32)        4640      \n",
      "_________________________________________________________________\n",
      "max_pooling2d_1 (MaxPooling2 (None, 14, 14, 32)        0         \n",
      "_________________________________________________________________\n",
      "conv2d_2 (Conv2D)            (None, 12, 12, 64)        18496     \n",
      "_________________________________________________________________\n",
      "max_pooling2d_2 (MaxPooling2 (None, 6, 6, 64)          0         \n",
      "_________________________________________________________________\n",
      "conv2d_3 (Conv2D)            (None, 4, 4, 128)         73856     \n",
      "_________________________________________________________________\n",
      "flatten (Flatten)            (None, 2048)              0         \n",
      "_________________________________________________________________\n",
      "dense (Dense)                (None, 128)               262272    \n",
      "_________________________________________________________________\n",
      "dense_1 (Dense)              (None, 119)               15351     \n",
      "=================================================================\n",
      "Total params: 375,063\n",
      "Trainable params: 375,063\n",
      "Non-trainable params: 0\n",
      "_________________________________________________________________\n"
     ]
    }
   ],
   "source": [
    "model.summary()"
   ]
  },
  {
   "cell_type": "code",
   "execution_count": 5,
   "metadata": {},
   "outputs": [],
   "source": [
    "### generatoru of training data from WIG database\n",
    "import pandas as pd\n",
    "import h5py\n",
    "import os\n",
    "        \n",
    "hdf_path=\"WIG_v1.2.1_900.h5\"\n",
    "path_list=[]\n",
    "label_list=[]\n",
    "\n",
    "def GetOnlyDataset(name, obj):\n",
    "    if isinstance(obj, h5py.Dataset):\n",
    "        path_list.append(name)\n",
    "        lbl= name.split('/')\n",
    "        label=os.path.join(lbl[0],lbl[1],lbl[2])\n",
    "        label_list.append(lbl[2])\n",
    "\n",
    "with h5py.File(hdf_path,'r') as f:  \n",
    "    f.visititems(GetOnlyDataset)\n",
    "\n",
    "label_num_list, out= pd.factorize(label_list)\n",
    "label_num_list.max()\n",
    "\n",
    "f=h5py.File(hdf_path,'r') \n",
    "trainset=ImageDataGenerator()\n",
    "tragen=trainset.flow_from_directory(f,path_list,label_num_list,72)\n",
    "\n",
    "valset=ImageDataGenerator()\n",
    "valgen=valset.flow_from_directory(f,path_list,label_num_list,36)"
   ]
  },
  {
   "cell_type": "code",
   "execution_count": 6,
   "metadata": {},
   "outputs": [
    {
     "name": "stdout",
     "output_type": "stream",
     "text": [
      "Epoch 1/10\n"
     ]
    },
    {
     "name": "stderr",
     "output_type": "stream",
     "text": [
      "2021-08-03 14:59:58.821573: I tensorflow/compiler/mlir/mlir_graph_optimization_pass.cc:116] None of the MLIR optimization passes are enabled (registered 2)\n",
      "2021-08-03 14:59:58.821743: W tensorflow/core/platform/profile_utils/cpu_utils.cc:126] Failed to get CPU frequency: 0 Hz\n"
     ]
    },
    {
     "name": "stdout",
     "output_type": "stream",
     "text": [
      "50/50 [==============================] - 58s 1s/step - loss: 4.5878 - accuracy: 0.0202 - val_loss: 4.2719 - val_accuracy: 0.0406\n",
      "Epoch 2/10\n",
      "50/50 [==============================] - 57s 1s/step - loss: 4.2532 - accuracy: 0.0417 - val_loss: 4.0169 - val_accuracy: 0.0867\n",
      "Epoch 3/10\n",
      "50/50 [==============================] - 57s 1s/step - loss: 3.9701 - accuracy: 0.0785 - val_loss: 3.6814 - val_accuracy: 0.1294\n",
      "Epoch 4/10\n",
      "50/50 [==============================] - 56s 1s/step - loss: 3.7392 - accuracy: 0.0927 - val_loss: 3.4570 - val_accuracy: 0.1533\n",
      "Epoch 5/10\n",
      "50/50 [==============================] - 56s 1s/step - loss: 3.4013 - accuracy: 0.1474 - val_loss: 3.2033 - val_accuracy: 0.1772\n",
      "Epoch 6/10\n",
      "50/50 [==============================] - 56s 1s/step - loss: 3.1921 - accuracy: 0.1756 - val_loss: 2.9734 - val_accuracy: 0.1956\n",
      "Epoch 7/10\n",
      "50/50 [==============================] - 56s 1s/step - loss: 2.9388 - accuracy: 0.2012 - val_loss: 2.8362 - val_accuracy: 0.2161\n",
      "Epoch 8/10\n",
      "50/50 [==============================] - 56s 1s/step - loss: 2.7018 - accuracy: 0.2372 - val_loss: 2.6872 - val_accuracy: 0.2406\n",
      "Epoch 9/10\n",
      "50/50 [==============================] - 55s 1s/step - loss: 2.6549 - accuracy: 0.2527 - val_loss: 2.5353 - val_accuracy: 0.2672\n",
      "Epoch 10/10\n",
      "50/50 [==============================] - 56s 1s/step - loss: 2.4761 - accuracy: 0.2762 - val_loss: 2.3491 - val_accuracy: 0.3067\n",
      "h75.109.226.10.30428.vlan.kuins.net\n",
      "処理時間：562.2415721416473\n"
     ]
    }
   ],
   "source": [
    "### Training convnet on WIG 64x64 images of 119 genus\n",
    "### nearly one hour by my MacbookPro\n",
    "\n",
    "model.compile(optimizer='adam',\n",
    "              loss='categorical_crossentropy',\n",
    "              metrics=['accuracy'])\n",
    "import time\n",
    "# 処理前の時刻\n",
    "t1 = time.time() \n",
    "#\n",
    "res=model.fit(tragen, steps_per_epoch=50,validation_data=valgen, validation_steps=50, epochs=10)\n",
    "# 処理後の時刻\n",
    "t2 = time.time()\n",
    " \n",
    "import socket\n",
    "# コンピュータ名を取得\n",
    "host = socket.gethostname()\n",
    "print(host)  \n",
    "\n",
    "# 経過時間を表示\n",
    "elapsed_time = t2-t1\n",
    "print(f\"処理時間：{elapsed_time}\")"
   ]
  },
  {
   "cell_type": "code",
   "execution_count": 7,
   "metadata": {},
   "outputs": [
    {
     "data": {
      "image/png": "[encoded data removed]",
      "text/plain": [
       "<Figure size 720x576 with 2 Axes>"
      ]
     },
     "metadata": {
      "needs_background": "light"
     },
     "output_type": "display_data"
    }
   ],
   "source": [
    "# result(res)に出力されたデータをプロットする。\n",
    "# 図と計算結果のモデルを保存する。\n",
    "\n",
    "import matplotlib.pyplot as plt\n",
    "%matplotlib inline\n",
    "\n",
    "acc=res.history['accuracy']\n",
    "loss=res.history['loss']\n",
    "val_acc=res.history['val_accuracy']\n",
    "val_loss=res.history['val_loss']\n",
    "epochs=range(1,len(acc)+1)\n",
    "fig, ax1= plt.subplots(figsize=(10,8))\n",
    "ax2=ax1.twinx()\n",
    "ax1.plot(epochs, acc, 'go', label='training accuracy')\n",
    "ax2.plot(epochs, loss, 'c^', label='training loss')\n",
    "ax1.plot(epochs, val_acc, 'bo', label='validation accuracy')\n",
    "ax2.plot(epochs, val_loss, 'm^', label='validation loss')\n",
    "ax1.set_xlabel('epochs')\n",
    "ax1.set_ylabel('accuracy')\n",
    "ax2.set_ylabel('loss')\n",
    "ax1.legend()\n",
    "ax2.legend()\n",
    "plt.savefig('test.png')\n",
    "plt.show()\n",
    "# modelを保存する。\n",
    "model.save('1stCNN_WIG_64_64_10epo.h5')\n"
   ]
  },
  {
   "cell_type": "markdown",
   "metadata": {},
   "source": [
    "### End of Script"
   ]
  },
  {
   "cell_type": "code",
   "execution_count": null,
   "metadata": {},
   "outputs": [],
   "source": []
  },
  {
   "cell_type": "code",
   "execution_count": null,
   "metadata": {},
   "outputs": [],
   "source": []
  },
  {
   "cell_type": "code",
   "execution_count": null,
   "metadata": {},
   "outputs": [],
   "source": []
  }
 ],
 "metadata": {
  "kernelspec": {
   "display_name": "Python 3",
   "language": "python",
   "name": "python3"
  },
  "language_info": {
   "codemirror_mode": {
    "name": "ipython",
    "version": 3
   },
   "file_extension": ".py",
   "mimetype": "text/x-python",
   "name": "python",
   "nbconvert_exporter": "python",
   "pygments_lexer": "ipython3",
   "version": "3.8.2"
  }
 },
 "nbformat": 4,
 "nbformat_minor": 5
}
