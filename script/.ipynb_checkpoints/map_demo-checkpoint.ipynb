{
 "cells": [
  {
   "cell_type": "markdown",
   "id": "3d2a857b-d6b7-4b3d-a0c6-292cf7e5eea4",
   "metadata": {},
   "source": [
    "### 京都の３つの国立大学の座標を辞書形式のデータに収納する。緯度と経度の情報を元に位置関係をプロットする。"
   ]
  },
  {
   "cell_type": "code",
   "execution_count": null,
   "id": "658786aa-09eb-4768-8c62-054dbc75e94a",
   "metadata": {},
   "outputs": [],
   "source": [
    "univ_dic={'Kyoto University':(35.026244,135.780822),'Kyoto University of Education':(34.950215,135.773187),'Kyoto Institute of Technology':(35.049664,135.782046)}\n",
    "print(univ_dic['Kyoto University of Education'])\n",
    "\n",
    "import pandas as pd\n",
    "df=pd.DataFrame(univ_dic, index=['latitude','longitude'])\n",
    "df=df.T\n",
    "display(df)\n",
    "\n",
    "import matplotlib.pyplot as plt\n",
    "df.plot(y='latitude',x='longitude', kind='scatter', grid=True, legend=True)\n",
    "plt.xlim(135.70,135.90)\n",
    "plt.ylim(34.90,35.10)\n",
    "#plt.axis('square')\n",
    "plt.show()"
   ]
  },
  {
   "cell_type": "markdown",
   "id": "9a8eb3e6-efad-4f8d-9e65-350bdb63cc8e",
   "metadata": {},
   "source": [
    "### 文化庁のホームページから指定文化財のデータベースをダウンロードしてグラフ上に表示する。\n",
    "- 例として京都府の建造物指定文化財：Kyoto_Architecture.csv：\n",
    "- 日本地図はhttps://github.com/dataofjapan/land からJSONファイルを取得。\n"
   ]
  },
  {
   "cell_type": "code",
   "execution_count": null,
   "id": "93f51dbd-d716-4a36-ac3f-cde63c75f764",
   "metadata": {},
   "outputs": [],
   "source": [
    "import os\n",
    "%matplotlib inline\n",
    "import matplotlib.pyplot as plt\n",
    "import pandas as pd\n",
    "\n",
    "df_temple = pd.read_csv('../../GitHubData/DataScience_AI/data/GIS/Kyoto_Architecture.csv',usecols = [2, 5, 8, 16, 17],\\\n",
    "                        dtype  = {'名称': str, '種別1': str, '時代': str, '緯度': float, '経度': float})\n",
    "df_temple = df_temple.rename(columns = {'名称': 'article', '種別1': 'category',\\\n",
    "                                        '時代': 'period', '緯度': 'latitude','経度': 'longitude'})\n",
    "\n",
    "df_temple.plot(figsize=(6,6),y='latitude',x='longitude', kind='scatter', grid=True, legend=True)\n",
    "plt.axis('square')\n",
    "plt.show()"
   ]
  },
  {
   "cell_type": "markdown",
   "id": "499ea189-3905-4466-96c1-3e4f2603bca0",
   "metadata": {},
   "source": [
    "### 地図上に文化財所在地をプロットする"
   ]
  },
  {
   "cell_type": "markdown",
   "id": "7d1a14fc-4d3b-4e8e-8124-c0421be1ae34",
   "metadata": {},
   "source": [
    "- 日本地図府県境界データをgeopandasに読み込み、京都府のみを描画する。\n",
    "- そこに、文化財のデータを重ねて表示する。その際に国宝指定を赤、重要文化財指定を灰色とする。"
   ]
  },
  {
   "cell_type": "code",
   "execution_count": null,
   "id": "36a3564f-f5ac-4343-a58a-08ad01875e68",
   "metadata": {},
   "outputs": [],
   "source": [
    "import geopandas as gpd\n",
    "df_jap = gpd.read_file('../../GitHubData/DataScience_AI/data/GIS/japan.geojson')\n",
    "\n",
    "# 指定物件で色分け\n",
    "colors=[]\n",
    "for cat in df_temple.category:\n",
    "    if cat == '国宝':\n",
    "        colors.append('red')\n",
    "    else:\n",
    "        colors.append('gray')\n",
    "            \n",
    "fig, ax = plt.subplots(nrows=1,ncols=2,figsize = (16,16)) \n",
    "for i in range(2):\n",
    "    if i == 1:\n",
    "        ax[i].set_xlim([135.6,135.9]);ax[i].set_ylim([34.8,35.1])\n",
    "    df_jap[df_jap['nam_ja'] == '京都府'].plot(ax=ax[i],figsize=(8,8), edgecolor='#444', facecolor='white', linewidth = 0.5)\n",
    "    ax[i].scatter(df_temple.longitude,df_temple.latitude,color=colors)\n",
    "plt.show()"
   ]
  },
  {
   "cell_type": "markdown",
   "id": "1ca57a21-348b-48be-9ad6-af8871674e44",
   "metadata": {},
   "source": [
    "## 都道府県の地図を描く\n",
    "- 「e-stat 統計で見る日本」より、国税調査、小区分、境界データを47都道府県分ダウンロードして、その内Shapeファイルをgeopandaで読み込んで作図する。"
   ]
  },
  {
   "cell_type": "code",
   "execution_count": null,
   "id": "3fdbdb13-bce4-44e9-ba72-5bdf38c65e9d",
   "metadata": {},
   "outputs": [],
   "source": [
    "import glob\n",
    "dat0_dir='../../GitHubData/DataScience_AI/data/GIS/e-Stat_Kokuzei_Shp' # e-stat 統計で見る日本　国税調査　小区分　境界データ　Shape ファイル　\n",
    "prefecture_shp=sorted(glob.glob(dat0_dir+'/*/*.shp'))"
   ]
  },
  {
   "cell_type": "code",
   "execution_count": null,
   "id": "4eedd7e3-0538-47fb-bfef-5a60f3bd139e",
   "metadata": {},
   "outputs": [],
   "source": [
    "%matplotlib inline\n",
    "import matplotlib.pyplot as plt\n",
    "import geopandas as gpd\n",
    "\n",
    "pref_name='広島県'\n",
    "pref_id=df_jap.id[df_jap['nam_ja']==pref_name].values\n",
    "map_id=pref_id[0]-1\n",
    "\n",
    "fig, ax = plt.subplots(figsize = (16,16)) \n",
    "gdf = gpd.read_file(prefecture_shp[map_id])      #gdf file に変換した。\n",
    "gdf.plot(ax=ax, facecolor='white', edgecolor='black', linewidth=0.2)\n",
    "ax.set_axis_off()\n",
    "plt.show()"
   ]
  },
  {
   "cell_type": "markdown",
   "id": "f07b5c3f-5489-49da-9d1c-1a7cabceb513",
   "metadata": {},
   "source": [
    "### 階級区分図（かいきゅうくぶんず、choropleth map）を人口密度と家族構成で作成する"
   ]
  },
  {
   "cell_type": "code",
   "execution_count": null,
   "id": "fe36dc54-263f-4a5b-a3ee-7cafd9241fd1",
   "metadata": {},
   "outputs": [],
   "source": [
    "gdf['DENSITY']= gdf['JINKO']/gdf['AREA']*10**6 # 1平方キロメートルあたりの人口\n",
    "gdf['FAMILY']= gdf['JINKO']/gdf['SETAI']# 1世帯あたりの人数#print(gdf.head())\n",
    " \n",
    "fig, ax = plt.subplots(ncols=2,figsize = (16,16))\n",
    "for i, title in enumerate(['DENSITY','FAMILY']):\n",
    "    gdf.plot(column = title, edgecolor = \"black\",scheme='quantiles', \\\n",
    "             linewidth=0.2, cmap='YlOrRd', ax=ax[i], legend = True)\n",
    "    ax[i].set_axis_off()\n",
    "plt.show()"
   ]
  },
  {
   "cell_type": "code",
   "execution_count": null,
   "id": "f6d0108d-eb27-4237-ae69-81696e154b5f",
   "metadata": {},
   "outputs": [],
   "source": [
    "gdf['FAMILY']= gdf['JINKO']/gdf['SETAI']# 1世帯あたりの人数\n",
    "#print(gdf.info())\n",
    "#print(gdf.head())\n",
    " \n",
    "fig, ax = plt.subplots(figsize = (24,16))\n",
    "gdf.plot(column = 'FAMILY', edgecolor = \"black\",scheme='quantiles', linewidth=0.2, cmap='YlOrRd', ax=ax, legend = True)\n",
    "ax.set_axis_off()\n",
    "plt.show()"
   ]
  },
  {
   "cell_type": "markdown",
   "id": "a91867af-bba5-4216-9ed6-5475263d0d12",
   "metadata": {},
   "source": [
    "#### The end of scripts"
   ]
  },
  {
   "cell_type": "code",
   "execution_count": null,
   "id": "6995ca49-e339-431e-aa82-5cef3f24a4ca",
   "metadata": {},
   "outputs": [],
   "source": []
  },
  {
   "cell_type": "code",
   "execution_count": null,
   "id": "afa8456a-292f-4123-ad2b-5a3bd6f5c4db",
   "metadata": {},
   "outputs": [],
   "source": [
    "# slope_shp"
   ]
  },
  {
   "cell_type": "code",
   "execution_count": null,
   "id": "ad52e365-60b8-436d-af71-2ff1a0b9b6ac",
   "metadata": {},
   "outputs": [],
   "source": [
    "# %matplotlib inline\n",
    "# import matplotlib.pyplot as plt\n",
    "# import geopandas as gpd\n",
    "# import pandas as pd\n",
    "# import numpy as np\n",
    "\n",
    "# ken=10\n",
    "# #fig, ax = plt.subplots(figsize = (12,12)) \n",
    "\n",
    "\n",
    "# # yoshino_slope_gdf\n",
    "# #gdf=gpd.GeoDataFrame(slope_kansai)) #座標系を指定 (crs = 'epsg:4326')\n",
    "# #slope_gdf.plot(column = 'G04a_006',ax=ax, edgecolor='white',cmap='Greens',linewidth=0.2)\n",
    "# #plt.show()"
   ]
  },
  {
   "cell_type": "code",
   "execution_count": null,
   "id": "32d91ae6-999f-4c6b-ba60-b5e20af465e1",
   "metadata": {},
   "outputs": [],
   "source": [
    "import glob\n",
    "\n",
    "dat0_dir='../../GitHubData/DataScience_AI/data/GIS/e-Stat_Kokuzei_Shp' \n",
    "prefecture_shp=sorted(glob.glob(dat0_dir+'/*/*.shp'))\n",
    "dat1_dir='../../GitHubData/DataScience_AI/data/GIS/標高傾斜度/' \n",
    "slope_shp=sorted(glob.glob(dat1_dir+'/*/*.shp'))\n",
    "dat2_dir='../../GitHubData/DataScience_AI/data/GIS/国有林野データ/' \n",
    "rinya_shp=sorted(glob.glob(dat2_dir+'/*/*.shp'))"
   ]
  },
  {
   "cell_type": "code",
   "execution_count": null,
   "id": "01f12e32-269d-46cd-bf41-20e2b3d4bd9e",
   "metadata": {
    "tags": []
   },
   "outputs": [],
   "source": [
    "wakaS_gdf=gpd.read_file(slope_shp[0])\n",
    "shigaN_gdf=gpd.read_file(slope_shp[10])\n",
    "wakaE_gdf=gpd.read_file(slope_shp[3])\n",
    "kyotoN_gdf=gpd.read_file(slope_shp[9])"
   ]
  },
  {
   "cell_type": "code",
   "execution_count": null,
   "id": "c50d8ccd-d3bd-4089-9a67-06023d7b8d8d",
   "metadata": {},
   "outputs": [],
   "source": [
    "%matplotlib inline\n",
    "import matplotlib.pyplot as plt\n",
    "import geopandas as gpd\n",
    "import pandas as pd\n",
    "import numpy as np\n",
    "\n",
    "\n",
    "fig, ax = plt.subplots(figsize = (18,18)) \n",
    "\n",
    "# 当該メッシュにおける平均標高(緑）　当該メッシュにおける最大傾斜角度（青）　（メッシュデータ（ラスター型）\n",
    "wakaS_gdf.plot(column = 'G04a_002',ax=ax, edgecolor='white',cmap='Greens',linewidth=0.2)\n",
    "shigaN_gdf.plot(column = 'G04a_002',ax=ax, edgecolor='white',cmap='Greens',linewidth=0.2)\n",
    "wakaE_gdf.plot(column = 'G04a_006',ax=ax, edgecolor='white',cmap='Blues',linewidth=0.2)\n",
    "kyotoN_gdf.plot(column = 'G04a_006',ax=ax, edgecolor='white',cmap='Blues',linewidth=0.2)\n",
    "\n",
    "# 関西エリアの国有林ポリゴンデータの表示（赤色）　ポリゴンデータ（ベクター型）\n",
    "rinya_kansai=[]\n",
    "for i in rinya_shp:\n",
    "    rinya_kansai.append(gpd.read_file(i))\n",
    "gdf=gpd.GeoDataFrame(pd.concat(rinya_kansai)) \n",
    "gdf.plot(ax=ax, edgecolor='#444',facecolor='red', linewidth=0.2)\n",
    "\n",
    "# 関西エリアの府県境界データの表示　ポリゴンデータ（ベクター型）\n",
    "Kansai_area=[]\n",
    "for i in range(24,30):\n",
    "    Kansai_area.append(df_jap[df_jap['id'] == i])\n",
    "Kansai_gdf=gpd.GeoDataFrame(pd.concat(Kansai_area))\n",
    "\n",
    "Kansai_gdf.plot(ax=ax, edgecolor='#444',facecolor='none', linewidth = 0.5)\n",
    "\n",
    "plt.show()"
   ]
  },
  {
   "cell_type": "markdown",
   "id": "82a37d93-302e-407d-8c28-7b10b14b1c6b",
   "metadata": {},
   "source": [
    "### The end of script for the time being !!"
   ]
  },
  {
   "cell_type": "code",
   "execution_count": null,
   "id": "46704004-98a1-44ba-8963-dfc4ef245374",
   "metadata": {},
   "outputs": [],
   "source": []
  }
 ],
 "metadata": {
  "kernelspec": {
   "display_name": "Python 3",
   "language": "python",
   "name": "python3"
  },
  "language_info": {
   "codemirror_mode": {
    "name": "ipython",
    "version": 3
   },
   "file_extension": ".py",
   "mimetype": "text/x-python",
   "name": "python",
   "nbconvert_exporter": "python",
   "pygments_lexer": "ipython3",
   "version": "3.8.9"
  }
 },
 "nbformat": 4,
 "nbformat_minor": 5
}
