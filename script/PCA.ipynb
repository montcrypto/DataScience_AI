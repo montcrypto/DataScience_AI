{
 "cells": [
  {
   "cell_type": "markdown",
   "metadata": {},
   "source": [
    "# 主成分分析（Principal Component Analysis）"
   ]
  },
  {
   "cell_type": "markdown",
   "metadata": {},
   "source": [
    "分散共分散行列をもとめて、固有値、固有ベクトルを計算する。\n",
    "\n",
    "We calculate variance covariance matrix and then its eigenvalues and eigenvectors."
   ]
  },
  {
   "cell_type": "markdown",
   "metadata": {},
   "source": [
    "### NumPyとscikit-learnによる主成分分析：テキスト通りのスクリプト"
   ]
  },
  {
   "cell_type": "code",
   "execution_count": 1,
   "metadata": {},
   "outputs": [
    {
     "name": "stdout",
     "output_type": "stream",
     "text": [
      "分散共分散行列 variance-covariance matrix \n",
      "[[3.98836461 2.12351884]\n",
      " [2.12351884 5.1323994 ]]\n",
      "\n",
      "\n",
      "固有値 eigenvalue\n",
      "[2.36116937 6.75959463]\n",
      "\n",
      "\n",
      "固有ベクトル eigenvector \n",
      "[[-0.7937572  -0.60823474]\n",
      " [ 0.60823474 -0.7937572 ]]\n"
     ]
    },
    {
     "data": {
      "image/png": "[encoded data removed]",
      "text/plain": [
       "<Figure size 864x432 with 2 Axes>"
      ]
     },
     "metadata": {
      "needs_background": "light"
     },
     "output_type": "display_data"
    },
    {
     "data": {
      "text/html": [
       "<div>\n",
       "<style scoped>\n",
       "    .dataframe tbody tr th:only-of-type {\n",
       "        vertical-align: middle;\n",
       "    }\n",
       "\n",
       "    .dataframe tbody tr th {\n",
       "        vertical-align: top;\n",
       "    }\n",
       "\n",
       "    .dataframe thead th {\n",
       "        text-align: right;\n",
       "    }\n",
       "</style>\n",
       "<table border=\"1\" class=\"dataframe\">\n",
       "  <thead>\n",
       "    <tr style=\"text-align: right;\">\n",
       "      <th></th>\n",
       "      <th>pc1</th>\n",
       "      <th>pc2</th>\n",
       "    </tr>\n",
       "  </thead>\n",
       "  <tbody>\n",
       "    <tr>\n",
       "      <th>固有値</th>\n",
       "      <td>6.759595</td>\n",
       "      <td>2.361169</td>\n",
       "    </tr>\n",
       "  </tbody>\n",
       "</table>\n",
       "</div>"
      ],
      "text/plain": [
       "          pc1       pc2\n",
       "固有値  6.759595  2.361169"
      ]
     },
     "metadata": {},
     "output_type": "display_data"
    },
    {
     "data": {
      "text/html": [
       "<div>\n",
       "<style scoped>\n",
       "    .dataframe tbody tr th:only-of-type {\n",
       "        vertical-align: middle;\n",
       "    }\n",
       "\n",
       "    .dataframe tbody tr th {\n",
       "        vertical-align: top;\n",
       "    }\n",
       "\n",
       "    .dataframe thead th {\n",
       "        text-align: right;\n",
       "    }\n",
       "</style>\n",
       "<table border=\"1\" class=\"dataframe\">\n",
       "  <thead>\n",
       "    <tr style=\"text-align: right;\">\n",
       "      <th></th>\n",
       "      <th>pc1</th>\n",
       "      <th>pc2</th>\n",
       "    </tr>\n",
       "  </thead>\n",
       "  <tbody>\n",
       "    <tr>\n",
       "      <th>0</th>\n",
       "      <td>0.608235</td>\n",
       "      <td>0.793757</td>\n",
       "    </tr>\n",
       "    <tr>\n",
       "      <th>1</th>\n",
       "      <td>0.793757</td>\n",
       "      <td>-0.608235</td>\n",
       "    </tr>\n",
       "  </tbody>\n",
       "</table>\n",
       "</div>"
      ],
      "text/plain": [
       "        pc1       pc2\n",
       "0  0.608235  0.793757\n",
       "1  0.793757 -0.608235"
      ]
     },
     "metadata": {},
     "output_type": "display_data"
    },
    {
     "data": {
      "text/html": [
       "<div>\n",
       "<style scoped>\n",
       "    .dataframe tbody tr th:only-of-type {\n",
       "        vertical-align: middle;\n",
       "    }\n",
       "\n",
       "    .dataframe tbody tr th {\n",
       "        vertical-align: top;\n",
       "    }\n",
       "\n",
       "    .dataframe thead th {\n",
       "        text-align: right;\n",
       "    }\n",
       "</style>\n",
       "<table border=\"1\" class=\"dataframe\">\n",
       "  <thead>\n",
       "    <tr style=\"text-align: right;\">\n",
       "      <th></th>\n",
       "      <th>pc1</th>\n",
       "      <th>pc2</th>\n",
       "    </tr>\n",
       "  </thead>\n",
       "  <tbody>\n",
       "    <tr>\n",
       "      <th>寄与率</th>\n",
       "      <td>0.741122</td>\n",
       "      <td>0.258878</td>\n",
       "    </tr>\n",
       "  </tbody>\n",
       "</table>\n",
       "</div>"
      ],
      "text/plain": [
       "          pc1       pc2\n",
       "寄与率  0.741122  0.258878"
      ]
     },
     "metadata": {},
     "output_type": "display_data"
    },
    {
     "data": {
      "image/png": "[encoded data removed]",
      "text/plain": [
       "<Figure size 432x432 with 1 Axes>"
      ]
     },
     "metadata": {
      "needs_background": "light"
     },
     "output_type": "display_data"
    }
   ],
   "source": [
    "import pandas as pd\n",
    "import numpy as np\n",
    "\n",
    "df=pd.read_excel('testdat.xlsx')\n",
    "data=np.array((df['x1'],df['x2']))\n",
    "\n",
    "\n",
    "mat_cov=np.cov(data)\n",
    "print(\"分散共分散行列 variance-covariance matrix \\n{}\".format(mat_cov))\n",
    "print(\"\\n\")\n",
    "eig_value, eig_vector = np.linalg.eig(mat_cov)\n",
    "print(\"固有値 eigenvalue\\n{}\".format(eig_value))\n",
    "print(\"\\n\")\n",
    "print(\"固有ベクトル eigenvector \\n{}\".format(eig_vector))\n",
    "#\n",
    "import matplotlib.pyplot as plt\n",
    "%matplotlib inline\n",
    "x=np.arange(-4,4,1)\n",
    "pc1=np.dot(data.T,eig_vector.T[1])\n",
    "pc2=np.dot(data.T,eig_vector.T[0])\n",
    "#\n",
    "fig,ax=plt.subplots(ncols=2,figsize=(12,6))\n",
    "ax[0].scatter(data[0][:10],data[1][:10])\n",
    "ax[0].scatter(data[0][10:],data[1][10:])\n",
    "ax[0].plot(x,x/eig_vector.T[1][1]*eig_vector.T[1][0])\n",
    "ax[0].set_ylim(-4,4)\n",
    "ax[0].set_xlabel('X1')\n",
    "ax[0].set_ylabel('X2')\n",
    "ax[1].scatter(pc1,pc2)\n",
    "ax[1].set_ylim(-4,4)\n",
    "ax[1].set_xlabel('PC 1')\n",
    "ax[1].set_ylabel('PC 2')\n",
    "plt.show()\n",
    "#\n",
    "import pandas as pd\n",
    "from sklearn.decomposition import PCA   #主成分分析器\n",
    "from sklearn.preprocessing import StandardScaler\n",
    "#\n",
    "pca = PCA()  # Class 関数の呼び出し\n",
    "pca.fit(data.T)\n",
    "pca_cor = pca.transform(data.T) # データを主成分空間に写像\n",
    "#eigen values　（固有値）\n",
    "eig = pd.DataFrame(pca.explained_variance_, index=['pc1','pc2'], columns=['固有値'])\n",
    "display(eig.T)\n",
    "# eigenvectors　（固有ベクトル）\n",
    "eig_vec = pd.DataFrame(pca.components_.T, columns = ['pc1','pc2'])\n",
    "display(eig_vec)\n",
    "# proportion of the variance　(寄与率）\n",
    "pv = pd.DataFrame(pca.explained_variance_ratio_, index=['pc1','pc2'], columns=['寄与率'])\n",
    "display(pv.T)\n",
    "# score plots\n",
    "cor = pd.DataFrame(pca_cor, columns=['pc1','pc2'])\n",
    "fig, ax = plt.subplots(figsize=(6,6))\n",
    "cor.plot(x='pc1',y='pc2',kind='scatter', ax=ax, grid=True, legend=True)\n",
    "plt.show()"
   ]
  },
  {
   "cell_type": "markdown",
   "metadata": {},
   "source": [
    "### テキスト通り　乱数を発生しながらPCAする。scikit-learn固有値の大きさの順に出力するようにデザインされている。"
   ]
  },
  {
   "cell_type": "code",
   "execution_count": 2,
   "metadata": {},
   "outputs": [
    {
     "name": "stdout",
     "output_type": "stream",
     "text": [
      "分散共分散行列 variance-covariance matrix \n",
      "[[6.18784507 1.65121293]\n",
      " [1.65121293 6.04399746]]\n",
      "\n",
      "\n",
      "固有値 eigenvalue\n",
      "[7.76869989 4.46314264]\n",
      "\n",
      "\n",
      "固有ベクトル eigenvector \n",
      "[[ 0.72232849 -0.69155011]\n",
      " [ 0.69155011  0.72232849]]\n"
     ]
    },
    {
     "data": {
      "image/png": "[encoded data removed]",
      "text/plain": [
       "<Figure size 864x432 with 2 Axes>"
      ]
     },
     "metadata": {
      "needs_background": "light"
     },
     "output_type": "display_data"
    },
    {
     "data": {
      "text/html": [
       "<div>\n",
       "<style scoped>\n",
       "    .dataframe tbody tr th:only-of-type {\n",
       "        vertical-align: middle;\n",
       "    }\n",
       "\n",
       "    .dataframe tbody tr th {\n",
       "        vertical-align: top;\n",
       "    }\n",
       "\n",
       "    .dataframe thead th {\n",
       "        text-align: right;\n",
       "    }\n",
       "</style>\n",
       "<table border=\"1\" class=\"dataframe\">\n",
       "  <thead>\n",
       "    <tr style=\"text-align: right;\">\n",
       "      <th></th>\n",
       "      <th>pc1</th>\n",
       "      <th>pc2</th>\n",
       "    </tr>\n",
       "  </thead>\n",
       "  <tbody>\n",
       "    <tr>\n",
       "      <th>固有値</th>\n",
       "      <td>7.7687</td>\n",
       "      <td>4.463143</td>\n",
       "    </tr>\n",
       "  </tbody>\n",
       "</table>\n",
       "</div>"
      ],
      "text/plain": [
       "        pc1       pc2\n",
       "固有値  7.7687  4.463143"
      ]
     },
     "metadata": {},
     "output_type": "display_data"
    },
    {
     "data": {
      "text/html": [
       "<div>\n",
       "<style scoped>\n",
       "    .dataframe tbody tr th:only-of-type {\n",
       "        vertical-align: middle;\n",
       "    }\n",
       "\n",
       "    .dataframe tbody tr th {\n",
       "        vertical-align: top;\n",
       "    }\n",
       "\n",
       "    .dataframe thead th {\n",
       "        text-align: right;\n",
       "    }\n",
       "</style>\n",
       "<table border=\"1\" class=\"dataframe\">\n",
       "  <thead>\n",
       "    <tr style=\"text-align: right;\">\n",
       "      <th></th>\n",
       "      <th>pc1</th>\n",
       "      <th>pc2</th>\n",
       "    </tr>\n",
       "  </thead>\n",
       "  <tbody>\n",
       "    <tr>\n",
       "      <th>0</th>\n",
       "      <td>0.722328</td>\n",
       "      <td>0.691550</td>\n",
       "    </tr>\n",
       "    <tr>\n",
       "      <th>1</th>\n",
       "      <td>0.691550</td>\n",
       "      <td>-0.722328</td>\n",
       "    </tr>\n",
       "  </tbody>\n",
       "</table>\n",
       "</div>"
      ],
      "text/plain": [
       "        pc1       pc2\n",
       "0  0.722328  0.691550\n",
       "1  0.691550 -0.722328"
      ]
     },
     "metadata": {},
     "output_type": "display_data"
    },
    {
     "data": {
      "text/html": [
       "<div>\n",
       "<style scoped>\n",
       "    .dataframe tbody tr th:only-of-type {\n",
       "        vertical-align: middle;\n",
       "    }\n",
       "\n",
       "    .dataframe tbody tr th {\n",
       "        vertical-align: top;\n",
       "    }\n",
       "\n",
       "    .dataframe thead th {\n",
       "        text-align: right;\n",
       "    }\n",
       "</style>\n",
       "<table border=\"1\" class=\"dataframe\">\n",
       "  <thead>\n",
       "    <tr style=\"text-align: right;\">\n",
       "      <th></th>\n",
       "      <th>pc1</th>\n",
       "      <th>pc2</th>\n",
       "    </tr>\n",
       "  </thead>\n",
       "  <tbody>\n",
       "    <tr>\n",
       "      <th>寄与率</th>\n",
       "      <td>0.635121</td>\n",
       "      <td>0.364879</td>\n",
       "    </tr>\n",
       "  </tbody>\n",
       "</table>\n",
       "</div>"
      ],
      "text/plain": [
       "          pc1       pc2\n",
       "寄与率  0.635121  0.364879"
      ]
     },
     "metadata": {},
     "output_type": "display_data"
    },
    {
     "data": {
      "image/png": "[encoded data removed]",
      "text/plain": [
       "<Figure size 432x432 with 1 Axes>"
      ]
     },
     "metadata": {
      "needs_background": "light"
     },
     "output_type": "display_data"
    }
   ],
   "source": [
    "import numpy as np\n",
    "# np.random.normal(loc,scale,)は、平均loc、標準偏差scaleの正規分布に従う乱数を返します\n",
    "A=np.random.normal(1,2,(2,10))\n",
    "B=np.random.normal(-2,2,(2,10))\n",
    "#\n",
    "data=np.hstack((A,B))\n",
    "mat_cov=np.cov(data)\n",
    "print(\"分散共分散行列 variance-covariance matrix \\n{}\".format(mat_cov))\n",
    "print(\"\\n\")\n",
    "eig_value, eig_vector = np.linalg.eig(mat_cov)\n",
    "print(\"固有値 eigenvalue\\n{}\".format(eig_value))\n",
    "print(\"\\n\")\n",
    "print(\"固有ベクトル eigenvector \\n{}\".format(eig_vector))\n",
    "#\n",
    "import matplotlib.pyplot as plt\n",
    "%matplotlib inline\n",
    "x=np.arange(-4,4,1)\n",
    "pc1=np.dot(data.T,eig_vector.T[1])\n",
    "pc2=np.dot(data.T,eig_vector.T[0])\n",
    "#\n",
    "fig,ax=plt.subplots(ncols=2,figsize=(12,6))\n",
    "ax[0].scatter(data[0][:10],data[1][:10])\n",
    "ax[0].scatter(data[0][10:],data[1][10:])\n",
    "ax[0].plot(x,x/eig_vector.T[1][1]*eig_vector.T[1][0])\n",
    "ax[0].set_ylim(-4,4)\n",
    "ax[0].set_xlabel('X1')\n",
    "ax[0].set_ylabel('X2')\n",
    "ax[1].scatter(pc1,pc2)\n",
    "ax[1].set_ylim(-4,4)\n",
    "ax[1].set_xlabel('PC 1')\n",
    "ax[1].set_ylabel('PC 2')\n",
    "plt.show()\n",
    "#\n",
    "import pandas as pd\n",
    "from sklearn.decomposition import PCA   #主成分分析器\n",
    "from sklearn.preprocessing import StandardScaler\n",
    "#\n",
    "pca = PCA()  # Class 関数の呼び出し\n",
    "pca.fit(data.T)\n",
    "pca_cor = pca.transform(data.T) # データを主成分空間に写像\n",
    "#eigen values　（固有値）\n",
    "eig = pd.DataFrame(pca.explained_variance_, index=['pc1','pc2'], columns=['固有値'])\n",
    "display(eig.T)\n",
    "# eigenvectors　（固有ベクトル）\n",
    "eig_vec = pd.DataFrame(pca.components_.T, columns = ['pc1','pc2'])\n",
    "display(eig_vec)\n",
    "# proportion of the variance　(寄与率）\n",
    "pv = pd.DataFrame(pca.explained_variance_ratio_, index=['pc1','pc2'], columns=['寄与率'])\n",
    "display(pv.T)\n",
    "# score plots\n",
    "cor = pd.DataFrame(pca_cor, columns=['pc1','pc2'])\n",
    "fig, ax = plt.subplots(figsize=(6,6))\n",
    "cor.plot(x='pc1',y='pc2',kind='scatter', ax=ax, grid=True, legend=True)\n",
    "plt.show()\n"
   ]
  },
  {
   "cell_type": "markdown",
   "metadata": {},
   "source": [
    "###  End of script"
   ]
  },
  {
   "cell_type": "code",
   "execution_count": null,
   "metadata": {},
   "outputs": [],
   "source": []
  }
 ],
 "metadata": {
  "kernelspec": {
   "display_name": "Python 3",
   "language": "python",
   "name": "python3"
  },
  "language_info": {
   "codemirror_mode": {
    "name": "ipython",
    "version": 3
   },
   "file_extension": ".py",
   "mimetype": "text/x-python",
   "name": "python",
   "nbconvert_exporter": "python",
   "pygments_lexer": "ipython3",
   "version": "3.8.9"
  }
 },
 "nbformat": 4,
 "nbformat_minor": 4
}
