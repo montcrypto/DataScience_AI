{
 "cells": [
  {
   "cell_type": "markdown",
   "metadata": {},
   "source": [
    "# 主成分分析（Principal Component Analysis）"
   ]
  },
  {
   "cell_type": "markdown",
   "metadata": {},
   "source": [
    "### 2組の数値８個のデータを作って、第一主成分をもとめる\n",
    "\n",
    "Calculate 1st Principal Component using a test dataset"
   ]
  },
  {
   "cell_type": "code",
   "execution_count": 2,
   "metadata": {},
   "outputs": [
    {
     "data": {
      "image/png": "[encoded data removed]",
      "text/plain": [
       "<Figure size 432x288 with 1 Axes>"
      ]
     },
     "metadata": {
      "needs_background": "light"
     },
     "output_type": "display_data"
    },
    {
     "data": {
      "text/html": [
       "<div>\n",
       "<style scoped>\n",
       "    .dataframe tbody tr th:only-of-type {\n",
       "        vertical-align: middle;\n",
       "    }\n",
       "\n",
       "    .dataframe tbody tr th {\n",
       "        vertical-align: top;\n",
       "    }\n",
       "\n",
       "    .dataframe thead th {\n",
       "        text-align: right;\n",
       "    }\n",
       "</style>\n",
       "<table border=\"1\" class=\"dataframe\">\n",
       "  <thead>\n",
       "    <tr style=\"text-align: right;\">\n",
       "      <th></th>\n",
       "      <th>0</th>\n",
       "      <th>1</th>\n",
       "    </tr>\n",
       "  </thead>\n",
       "  <tbody>\n",
       "    <tr>\n",
       "      <th>0</th>\n",
       "      <td>-5</td>\n",
       "      <td>2</td>\n",
       "    </tr>\n",
       "    <tr>\n",
       "      <th>1</th>\n",
       "      <td>-2</td>\n",
       "      <td>1</td>\n",
       "    </tr>\n",
       "    <tr>\n",
       "      <th>2</th>\n",
       "      <td>2</td>\n",
       "      <td>0</td>\n",
       "    </tr>\n",
       "    <tr>\n",
       "      <th>3</th>\n",
       "      <td>4</td>\n",
       "      <td>-2</td>\n",
       "    </tr>\n",
       "    <tr>\n",
       "      <th>4</th>\n",
       "      <td>5</td>\n",
       "      <td>-1</td>\n",
       "    </tr>\n",
       "    <tr>\n",
       "      <th>5</th>\n",
       "      <td>-3</td>\n",
       "      <td>2</td>\n",
       "    </tr>\n",
       "    <tr>\n",
       "      <th>6</th>\n",
       "      <td>3</td>\n",
       "      <td>-3</td>\n",
       "    </tr>\n",
       "    <tr>\n",
       "      <th>7</th>\n",
       "      <td>5</td>\n",
       "      <td>2</td>\n",
       "    </tr>\n",
       "  </tbody>\n",
       "</table>\n",
       "</div>"
      ],
      "text/plain": [
       "   0  1\n",
       "0 -5  2\n",
       "1 -2  1\n",
       "2  2  0\n",
       "3  4 -2\n",
       "4  5 -1\n",
       "5 -3  2\n",
       "6  3 -3\n",
       "7  5  2"
      ]
     },
     "execution_count": 2,
     "metadata": {},
     "output_type": "execute_result"
    }
   ],
   "source": [
    "import numpy as np\n",
    "import matplotlib.pyplot as plt\n",
    "import pandas as pd\n",
    "%matplotlib inline\n",
    "\n",
    "data0=[[-5,2],[-2,1],[2,0],[4,-2],[5,-1],[-3,2],[3,-3],[5,2]]\n",
    "data0=np.array(data0)\n",
    "plt.scatter(data0[:,0],data0[:,1])\n",
    "plt.show()\n",
    "\n",
    "df=pd.DataFrame(data0)\n",
    "df"
   ]
  },
  {
   "cell_type": "code",
   "execution_count": 2,
   "metadata": {},
   "outputs": [
    {
     "data": {
      "image/png": "[encoded data removed]",
      "text/plain": [
       "<Figure size 432x288 with 1 Axes>"
      ]
     },
     "metadata": {
      "needs_background": "light"
     },
     "output_type": "display_data"
    },
    {
     "data": {
      "image/png": "[encoded data removed]",
      "text/plain": [
       "<Figure size 432x288 with 1 Axes>"
      ]
     },
     "metadata": {
      "needs_background": "light"
     },
     "output_type": "display_data"
    }
   ],
   "source": [
    "import numpy as np\n",
    "# np.random.normal()は、平均loc、標準偏差scaleの正規分布に従う乱数を返す。\n",
    "x=np.random.normal(1,2,(2,10))\n",
    "y=np.random.normal(-2,2,(2,10))\n",
    "plt.scatter(x[0],x[1])\n",
    "plt.scatter(y[0],y[1])\n",
    "plt.show()\n",
    "z=np.hstack((x,y))\n",
    "plt.scatter(z[0],z[1])\n",
    "data=z"
   ]
  },
  {
   "cell_type": "code",
   "execution_count": 7,
   "metadata": {},
   "outputs": [
    {
     "data": {
      "text/plain": [
       "array([ 1.34536,  1.60766,  2.47402, -0.993  ,  4.13782, -2.3125 ,\n",
       "        2.12943,  0.29949, -0.0528 ,  3.03482, -2.38   , -0.376  ,\n",
       "       -0.7576 , -1.445  , -2.8229 , -1.9756 , -2.3888 , -0.4291 ,\n",
       "       -1.1383 , -0.9443 ])"
      ]
     },
     "execution_count": 7,
     "metadata": {},
     "output_type": "execute_result"
    }
   ],
   "source": [
    "df=pd.read_excel('testdat.xlsx')\n",
    "data=np.array((df['x1'],df['x2']))\n"
   ]
  },
  {
   "cell_type": "markdown",
   "metadata": {},
   "source": [
    "分散共分散行列をもとめて、固有値、固有ベクトルを計算する。\n",
    "\n",
    "Firstly, we calculate variance covariance matrix and then its eigenvalues and eigenvectors."
   ]
  },
  {
   "cell_type": "code",
   "execution_count": 68,
   "metadata": {},
   "outputs": [
    {
     "name": "stdout",
     "output_type": "stream",
     "text": [
      "分散共分散行列 variance-covariance matrix \n",
      "[[3.98836461 2.12351884]\n",
      " [2.12351884 5.1323994 ]]\n",
      "\n",
      "\n",
      "固有値 eigenvalue\n",
      "[2.36116937 6.75959463]\n",
      "\n",
      "\n",
      "固有ベクトル eigenvector \n",
      "[[-0.7937572  -0.60823474]\n",
      " [ 0.60823474 -0.7937572 ]]\n"
     ]
    },
    {
     "data": {
      "image/png": "[encoded data removed]",
      "text/plain": [
       "<Figure size 864x432 with 2 Axes>"
      ]
     },
     "metadata": {
      "needs_background": "light"
     },
     "output_type": "display_data"
    }
   ],
   "source": [
    "mat_cov=np.cov(data)\n",
    "print(\"分散共分散行列 variance-covariance matrix \\n{}\".format(mat_cov))\n",
    "print(\"\\n\")\n",
    "eig_value, eig_vector = np.linalg.eig(mat_cov)\n",
    "print(\"固有値 eigenvalue\\n{}\".format(eig_value))\n",
    "print(\"\\n\")\n",
    "print(\"固有ベクトル eigenvector \\n{}\".format(eig_vector))\n",
    "x=np.arange(-4,4,1)\n",
    "pc1=np.dot(data.T,eig_vector.T[1])\n",
    "pc2=np.dot(data.T,eig_vector.T[0])\n",
    "\n",
    "fig,ax=plt.subplots(ncols=2,figsize=(12,6))\n",
    "ax[0].scatter(data[0][:10],data[1][:10])\n",
    "ax[0].scatter(data[0][10:],data[1][10:])\n",
    "ax[0].plot(x,x/eig_vector.T[1][1]*eig_vector.T[1][0])\n",
    "ax[0].set_ylim(-4,4)\n",
    "ax[0].set_xlabel('X1')\n",
    "ax[0].set_ylabel('X2')\n",
    "ax[1].scatter(pc1,pc2)\n",
    "ax[1].set_ylim(-4,4)\n",
    "ax[1].set_xlabel('PC 1')\n",
    "ax[1].set_ylabel('PC 2')\n",
    "\n",
    "plt.show()     "
   ]
  },
  {
   "cell_type": "markdown",
   "metadata": {},
   "source": [
    "それぞれのデータの第一主成分に対するスコアを内積で計算する\n",
    "\n",
    "inner products of each data by with 1st PC  eigenvector gives 1st PC 'Score'. "
   ]
  },
  {
   "cell_type": "code",
   "execution_count": 70,
   "metadata": {},
   "outputs": [
    {
     "data": {
      "text/plain": [
       "(array([-0.7937572 , -0.60823474]), 2.3611693743501627)"
      ]
     },
     "execution_count": 70,
     "metadata": {},
     "output_type": "execute_result"
    }
   ],
   "source": [
    "eig_vector[0],eig_value[0]"
   ]
  },
  {
   "cell_type": "code",
   "execution_count": 81,
   "metadata": {},
   "outputs": [
    {
     "data": {
      "text/html": [
       "<div>\n",
       "<style scoped>\n",
       "    .dataframe tbody tr th:only-of-type {\n",
       "        vertical-align: middle;\n",
       "    }\n",
       "\n",
       "    .dataframe tbody tr th {\n",
       "        vertical-align: top;\n",
       "    }\n",
       "\n",
       "    .dataframe thead th {\n",
       "        text-align: right;\n",
       "    }\n",
       "</style>\n",
       "<table border=\"1\" class=\"dataframe\">\n",
       "  <thead>\n",
       "    <tr style=\"text-align: right;\">\n",
       "      <th></th>\n",
       "      <th>pc1</th>\n",
       "      <th>pc2</th>\n",
       "    </tr>\n",
       "  </thead>\n",
       "  <tbody>\n",
       "    <tr>\n",
       "      <th>固有値</th>\n",
       "      <td>6.759595</td>\n",
       "      <td>2.361169</td>\n",
       "    </tr>\n",
       "  </tbody>\n",
       "</table>\n",
       "</div>"
      ],
      "text/plain": [
       "          pc1       pc2\n",
       "固有値  6.759595  2.361169"
      ]
     },
     "metadata": {},
     "output_type": "display_data"
    },
    {
     "data": {
      "text/html": [
       "<div>\n",
       "<style scoped>\n",
       "    .dataframe tbody tr th:only-of-type {\n",
       "        vertical-align: middle;\n",
       "    }\n",
       "\n",
       "    .dataframe tbody tr th {\n",
       "        vertical-align: top;\n",
       "    }\n",
       "\n",
       "    .dataframe thead th {\n",
       "        text-align: right;\n",
       "    }\n",
       "</style>\n",
       "<table border=\"1\" class=\"dataframe\">\n",
       "  <thead>\n",
       "    <tr style=\"text-align: right;\">\n",
       "      <th></th>\n",
       "      <th>pc1</th>\n",
       "      <th>pc2</th>\n",
       "    </tr>\n",
       "  </thead>\n",
       "  <tbody>\n",
       "    <tr>\n",
       "      <th>0</th>\n",
       "      <td>0.608235</td>\n",
       "      <td>0.793757</td>\n",
       "    </tr>\n",
       "    <tr>\n",
       "      <th>1</th>\n",
       "      <td>0.793757</td>\n",
       "      <td>-0.608235</td>\n",
       "    </tr>\n",
       "  </tbody>\n",
       "</table>\n",
       "</div>"
      ],
      "text/plain": [
       "        pc1       pc2\n",
       "0  0.608235  0.793757\n",
       "1  0.793757 -0.608235"
      ]
     },
     "metadata": {},
     "output_type": "display_data"
    },
    {
     "data": {
      "text/html": [
       "<div>\n",
       "<style scoped>\n",
       "    .dataframe tbody tr th:only-of-type {\n",
       "        vertical-align: middle;\n",
       "    }\n",
       "\n",
       "    .dataframe tbody tr th {\n",
       "        vertical-align: top;\n",
       "    }\n",
       "\n",
       "    .dataframe thead th {\n",
       "        text-align: right;\n",
       "    }\n",
       "</style>\n",
       "<table border=\"1\" class=\"dataframe\">\n",
       "  <thead>\n",
       "    <tr style=\"text-align: right;\">\n",
       "      <th></th>\n",
       "      <th>pc1</th>\n",
       "      <th>pc2</th>\n",
       "    </tr>\n",
       "  </thead>\n",
       "  <tbody>\n",
       "    <tr>\n",
       "      <th>寄与率</th>\n",
       "      <td>0.741122</td>\n",
       "      <td>0.258878</td>\n",
       "    </tr>\n",
       "  </tbody>\n",
       "</table>\n",
       "</div>"
      ],
      "text/plain": [
       "          pc1       pc2\n",
       "寄与率  0.741122  0.258878"
      ]
     },
     "metadata": {},
     "output_type": "display_data"
    },
    {
     "data": {
      "image/png": "[encoded data removed]",
      "text/plain": [
       "<Figure size 432x288 with 1 Axes>"
      ]
     },
     "metadata": {
      "needs_background": "light"
     },
     "output_type": "display_data"
    }
   ],
   "source": [
    "from sklearn.decomposition import PCA   #主成分分析器\n",
    "from sklearn.preprocessing import StandardScaler\n",
    "\n",
    "pca = PCA()  # Class 関数の呼び出し\n",
    "pca.fit(data.T)\n",
    "pca_cor = pca.transform(data.T) # データを主成分空間に写像\n",
    "\n",
    "#eigen values　（固有値）\n",
    "eig = pd.DataFrame(pca.explained_variance_, index=['pc1','pc2'], columns=['固有値'])\n",
    "display(eig.T)\n",
    "\n",
    "# eigenvectors　（固有ベクトル）\n",
    "eig_vec = pd.DataFrame(pca.components_.T, columns = ['pc1','pc2'])\n",
    "display(eig_vec)\n",
    "\n",
    "# proportion of the variance　(寄与率）\n",
    "pv = pd.DataFrame(pca.explained_variance_ratio_, index=['pc1','pc2'], columns=['寄与率'])\n",
    "display(pv.T)\n",
    "\n",
    "# score plots\n",
    "cor = pd.DataFrame(pca_cor, columns=['pc1','pc2'])\n",
    "cor.plot(x='pc1',y='pc2',kind='scatter', grid=True, legend=True)\n",
    "plt.show()\n",
    "\n"
   ]
  },
  {
   "cell_type": "code",
   "execution_count": 77,
   "metadata": {},
   "outputs": [
    {
     "data": {
      "text/html": [
       "<div>\n",
       "<style scoped>\n",
       "    .dataframe tbody tr th:only-of-type {\n",
       "        vertical-align: middle;\n",
       "    }\n",
       "\n",
       "    .dataframe tbody tr th {\n",
       "        vertical-align: top;\n",
       "    }\n",
       "\n",
       "    .dataframe thead th {\n",
       "        text-align: right;\n",
       "    }\n",
       "</style>\n",
       "<table border=\"1\" class=\"dataframe\">\n",
       "  <thead>\n",
       "    <tr style=\"text-align: right;\">\n",
       "      <th></th>\n",
       "      <th>PC1</th>\n",
       "      <th>PC2</th>\n",
       "    </tr>\n",
       "  </thead>\n",
       "  <tbody>\n",
       "    <tr>\n",
       "      <th>0</th>\n",
       "      <td>0.768860</td>\n",
       "      <td>1.293944</td>\n",
       "    </tr>\n",
       "    <tr>\n",
       "      <th>1</th>\n",
       "      <td>1.837197</td>\n",
       "      <td>0.805761</td>\n",
       "    </tr>\n",
       "    <tr>\n",
       "      <th>2</th>\n",
       "      <td>3.546678</td>\n",
       "      <td>0.587298</td>\n",
       "    </tr>\n",
       "    <tr>\n",
       "      <th>3</th>\n",
       "      <td>-0.323526</td>\n",
       "      <td>-0.814928</td>\n",
       "    </tr>\n",
       "    <tr>\n",
       "      <th>4</th>\n",
       "      <td>2.923337</td>\n",
       "      <td>3.161055</td>\n",
       "    </tr>\n",
       "    <tr>\n",
       "      <th>5</th>\n",
       "      <td>-0.697661</td>\n",
       "      <td>-2.190586</td>\n",
       "    </tr>\n",
       "    <tr>\n",
       "      <th>6</th>\n",
       "      <td>4.125327</td>\n",
       "      <td>-0.290230</td>\n",
       "    </tr>\n",
       "    <tr>\n",
       "      <th>7</th>\n",
       "      <td>-0.442272</td>\n",
       "      <td>0.904383</td>\n",
       "    </tr>\n",
       "    <tr>\n",
       "      <th>8</th>\n",
       "      <td>2.746798</td>\n",
       "      <td>-1.983142</td>\n",
       "    </tr>\n",
       "    <tr>\n",
       "      <th>9</th>\n",
       "      <td>4.471490</td>\n",
       "      <td>0.585153</td>\n",
       "    </tr>\n",
       "    <tr>\n",
       "      <th>10</th>\n",
       "      <td>-3.003664</td>\n",
       "      <td>-0.508597</td>\n",
       "    </tr>\n",
       "    <tr>\n",
       "      <th>11</th>\n",
       "      <td>-1.641171</td>\n",
       "      <td>0.972063</td>\n",
       "    </tr>\n",
       "    <tr>\n",
       "      <th>12</th>\n",
       "      <td>-4.410756</td>\n",
       "      <td>2.613570</td>\n",
       "    </tr>\n",
       "    <tr>\n",
       "      <th>13</th>\n",
       "      <td>-0.350391</td>\n",
       "      <td>-1.363786</td>\n",
       "    </tr>\n",
       "    <tr>\n",
       "      <th>14</th>\n",
       "      <td>-4.130071</td>\n",
       "      <td>-0.203441</td>\n",
       "    </tr>\n",
       "    <tr>\n",
       "      <th>15</th>\n",
       "      <td>0.199949</td>\n",
       "      <td>-2.453963</td>\n",
       "    </tr>\n",
       "    <tr>\n",
       "      <th>16</th>\n",
       "      <td>-0.882120</td>\n",
       "      <td>-2.145365</td>\n",
       "    </tr>\n",
       "    <tr>\n",
       "      <th>17</th>\n",
       "      <td>-0.913049</td>\n",
       "      <td>0.347226</td>\n",
       "    </tr>\n",
       "    <tr>\n",
       "      <th>18</th>\n",
       "      <td>-1.329724</td>\n",
       "      <td>-0.226959</td>\n",
       "    </tr>\n",
       "    <tr>\n",
       "      <th>19</th>\n",
       "      <td>-2.495232</td>\n",
       "      <td>0.910545</td>\n",
       "    </tr>\n",
       "  </tbody>\n",
       "</table>\n",
       "</div>"
      ],
      "text/plain": [
       "         PC1       PC2\n",
       "0   0.768860  1.293944\n",
       "1   1.837197  0.805761\n",
       "2   3.546678  0.587298\n",
       "3  -0.323526 -0.814928\n",
       "4   2.923337  3.161055\n",
       "5  -0.697661 -2.190586\n",
       "6   4.125327 -0.290230\n",
       "7  -0.442272  0.904383\n",
       "8   2.746798 -1.983142\n",
       "9   4.471490  0.585153\n",
       "10 -3.003664 -0.508597\n",
       "11 -1.641171  0.972063\n",
       "12 -4.410756  2.613570\n",
       "13 -0.350391 -1.363786\n",
       "14 -4.130071 -0.203441\n",
       "15  0.199949 -2.453963\n",
       "16 -0.882120 -2.145365\n",
       "17 -0.913049  0.347226\n",
       "18 -1.329724 -0.226959\n",
       "19 -2.495232  0.910545"
      ]
     },
     "execution_count": 77,
     "metadata": {},
     "output_type": "execute_result"
    }
   ],
   "source": [
    "cor"
   ]
  },
  {
   "cell_type": "markdown",
   "metadata": {},
   "source": [
    "###  celluloseの面間隔のデータを読み込んで同じ操作をやってみる。データは４次元\n",
    "\n",
    "Next we extend above process to see Cellulose d-spacings data. Now data has 4 variables."
   ]
  },
  {
   "cell_type": "code",
   "execution_count": null,
   "metadata": {},
   "outputs": [],
   "source": [
    "# load data from excel file エクセルファイルからデータを読む\n",
    "import pandas as pd\n",
    "\n",
    "df = pd.read_excel('wada_MG1995_xraydata.xlsx', index_col=0)\n",
    "df.head(10)"
   ]
  },
  {
   "cell_type": "code",
   "execution_count": null,
   "metadata": {},
   "outputs": [],
   "source": [
    "# 分散共分散行列　（variance-covariance matrix）\n",
    "import numpy as np\n",
    "df.cov()"
   ]
  },
  {
   "cell_type": "code",
   "execution_count": null,
   "metadata": {},
   "outputs": [],
   "source": [
    "# 固有値と固有ベクトル　eigenvalue and eigen vectors\n",
    "res=df.cov()\n",
    "# \n",
    "a_eig = np.linalg.eig(res)\n",
    "# 固有値を表示　eigenvalue\n",
    "print(\"固有値 eigenvalues {}\\n\".format(a_eig[0]))\n",
    "# 固有ベクトルを表示 eigenvector\n",
    "print(\"固有ベクトル eigenvectors \\n{}\".format(a_eig[1]))"
   ]
  },
  {
   "cell_type": "code",
   "execution_count": null,
   "metadata": {},
   "outputs": [],
   "source": [
    "# 第一主成分から成分まで計算　score of 1st to 3rd principal components\n",
    "pc1=np.dot(df.iloc[:,2:],a_eig[1][:,0])\n",
    "pc2=np.dot(df.iloc[:,2:],a_eig[1][:,1])\n",
    "pc3=np.dot(df.iloc[:,2:],a_eig[1][:,2])\n",
    "df['pc1']=pc1\n",
    "df['pc2']=pc2\n",
    "df['pc3']=pc3"
   ]
  },
  {
   "cell_type": "code",
   "execution_count": null,
   "metadata": {},
   "outputs": [],
   "source": [
    "import matplotlib.pyplot as plt\n",
    "import seaborn as sns\n",
    "sns.pairplot(df,hue='mark',vars=['pc1', 'pc2'])\n",
    "plt.show()"
   ]
  },
  {
   "cell_type": "markdown",
   "metadata": {},
   "source": [
    "## すべて scikit-learn でやってみる"
   ]
  },
  {
   "cell_type": "markdown",
   "metadata": {},
   "source": [
    "### 2組の数値８個のデータを作って、２次元の平面にプロットする。"
   ]
  },
  {
   "cell_type": "code",
   "execution_count": null,
   "metadata": {},
   "outputs": [],
   "source": [
    "import numpy as np\n",
    "import matplotlib.pyplot as plt\n",
    "import pandas as pd\n",
    "%matplotlib inline\n",
    "\n",
    "data=[[-5,2],[-2,1],[2,0],[4,-2],[5,-1],[-3,2],[3,-3],[5,2]]\n",
    "data=np.array(data)\n",
    "df=pd.DataFrame(data)\n",
    "plt.scatter(data[:,0],data[:,1])\n",
    "plt.show()\n",
    "df"
   ]
  },
  {
   "cell_type": "code",
   "execution_count": null,
   "metadata": {},
   "outputs": [],
   "source": [
    "# 行列の標準化\n",
    "# 標準化してない\n",
    "from sklearn.decomposition import PCA   #主成分分析器\n",
    "from sklearn.preprocessing import StandardScaler\n",
    "\n",
    "\n",
    "#主成分分析の実行\n",
    "pca = PCA()\n",
    "pca.fit(df)\n",
    "# データを主成分空間に写像\n",
    "pca_cor = pca.transform(df)\n",
    "\n",
    "# 固有ベクトルのマトリックス表示\n",
    "eig_vec = pd.DataFrame(pca.components_.T, index = df.columns, \\\n",
    "                          columns = [\"PC{}\".format(x + 1) for x in range(len(df.columns))])\n",
    "display(eig_vec)\n",
    "\n",
    "# 固有値\n",
    "eig = pd.DataFrame(pca.explained_variance_, index=[\"PC{}\".format(x + 1) for x in range(len(df.columns))], columns=['固有値']).T\n",
    "display(eig)\n",
    "\n",
    "# Rによるソースコードだと、固有値（分散）ではなく標準偏差を求めている。\n",
    "# 主成分の標準偏差\n",
    "dv = np.sqrt(eig)\n",
    "dv = dv.rename(index = {'固有値':'主成分の標準偏差'})\n",
    "display(dv)\n",
    "\n",
    "# 寄与率\n",
    "ev = pd.DataFrame(pca.explained_variance_ratio_, index=[\"PC{}\".format(x + 1) for x in range(len(df.columns))], columns=['寄与率']).T\n",
    "display(ev)\n",
    "\n",
    "# 累積寄与率\n",
    "t_ev = pd.DataFrame(pca.explained_variance_ratio_.cumsum(), index=[\"PC{}\".format(x + 1) for x in range(len(df.columns))], columns=['累積寄与率']).T\n",
    "display(t_ev)\n",
    "\n",
    "# 主成分得点\n",
    "print('主成分得点')\n",
    "cor = pd.DataFrame(pca_cor, columns=[\"PC{}\".format(x + 1) for x in range(len(df.columns))])\n",
    "display(cor)\n"
   ]
  },
  {
   "cell_type": "code",
   "execution_count": null,
   "metadata": {},
   "outputs": [],
   "source": []
  },
  {
   "cell_type": "markdown",
   "metadata": {},
   "source": [
    "###  celluloseの面間隔のデータを読み込んで同じ操作をやってみる。データは４次元"
   ]
  },
  {
   "cell_type": "code",
   "execution_count": null,
   "metadata": {},
   "outputs": [],
   "source": [
    "# load data from excel file エクセルファイルからデータを読む\n",
    "import pandas as pd\n",
    "\n",
    "df = pd.read_excel('wada_MG1995_xraydata.xlsx', index_col=0)\n",
    "df.head(10)"
   ]
  },
  {
   "cell_type": "code",
   "execution_count": null,
   "metadata": {},
   "outputs": [],
   "source": [
    "#主成分分析の実行\n",
    "pca = PCA()\n",
    "pca.fit(df.iloc[:,2:])\n",
    "# データを主成分空間に写像\n",
    "pca_cor = pca.transform(df.iloc[:,2:])\n",
    "\n",
    "#eigen values　（固有値）\n",
    "eig = pd.DataFrame(pca.explained_variance_, index=[\"PC{}\".format(x + 1) \\\n",
    "                                                   for x in range(len(df.iloc[:,2:].columns))], columns=['固有値']).T\n",
    "display(eig)\n",
    "\n",
    "# eigenvectors　（固有ベクトル）\n",
    "eig_vec = pd.DataFrame(pca.components_.T, index = df.iloc[:,2:].columns, \\\n",
    "                          columns = [\"PC{}\".format(x + 1) for x in range(len(df.iloc[:,2:].columns))])\n",
    "display(eig_vec)\n",
    "\n",
    "# proportion of the variance　(寄与率）\n",
    "pv = pd.DataFrame(pca.explained_variance_ratio_, index=[\"PC{}\".format(x + 1)\\\n",
    "                                                        for x in range(len(df.iloc[:,2:].columns))], columns=['寄与率']).T\n",
    "display(pv)\n",
    "\n",
    "# score plots\n",
    "cor = pd.DataFrame(pca_cor, columns=[\"PC{}\".format(x + 1) for x in range(len(df.iloc[:,2:].T))])\n",
    "#display(cor)\n",
    "\n",
    "cor['mark']=df['mark'].values\n",
    "import seaborn as sns\n",
    "sns.pairplot(cor, hue='mark')  # 1,2 components only\n",
    "\n",
    "plt.show()\n",
    "\n"
   ]
  }
 ],
 "metadata": {
  "kernelspec": {
   "display_name": "Python 3",
   "language": "python",
   "name": "python3"
  },
  "language_info": {
   "codemirror_mode": {
    "name": "ipython",
    "version": 3
   },
   "file_extension": ".py",
   "mimetype": "text/x-python",
   "name": "python",
   "nbconvert_exporter": "python",
   "pygments_lexer": "ipython3",
   "version": "3.8.9"
  }
 },
 "nbformat": 4,
 "nbformat_minor": 4
}
