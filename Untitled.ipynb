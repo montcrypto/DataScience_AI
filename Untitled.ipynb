{
 "cells": [
  {
   "cell_type": "code",
   "execution_count": 8,
   "metadata": {},
   "outputs": [
    {
     "name": "stdout",
     "output_type": "stream",
     "text": [
      "1番 都道府県名 滋賀 県庁所在地 大津市 県の木 モミジ\n",
      "2番 都道府県名 京都 県庁所在地 京都市 県の木 北山スギ\n",
      "3番 都道府県名 大阪 県庁所在地 大阪市 県の木 イチョウ\n",
      "4番 都道府県名 兵庫 県庁所在地 神戸市 県の木 クスノキ\n",
      "5番 都道府県名 奈良 県庁所在地 奈良市 県の木 スギ\n",
      "6番 都道府県名 和歌山 県庁所在地 和歌山市 県の木 ウバメガシ\n"
     ]
    }
   ],
   "source": [
    ">>> prefecture=['滋賀','京都','大阪','兵庫','奈良','和歌山']\n",
    ">>> city=['大津市','京都市','大阪市','神戸市','奈良市','和歌山市']\n",
    ">>> tree=['モミジ','北山スギ','イチョウ','クスノキ','スギ','ウバメガシ']\n",
    "\n",
    ">>> for i,p in enumerate(zip(prefecture,city,tree)):\n",
    "...     print(str(i+1)+'番'+' 都道府県名 '+p[0]+' 県庁所在地 '+p[1]+' 県の木 '+p[2])"
   ]
  },
  {
   "cell_type": "code",
   "execution_count": 48,
   "metadata": {},
   "outputs": [
    {
     "data": {
      "text/plain": [
       "array([[0.5043002 , 0.37382591, 0.01861786, 0.77352815, 0.72587279],\n",
       "       [0.67650871, 0.77427006, 0.7668957 , 0.06823305, 0.43429725],\n",
       "       [0.26136469, 0.12931472, 0.70292283, 0.68489985, 0.54586013],\n",
       "       [0.54013191, 0.07269366, 0.61483121, 0.81358582, 0.30430211],\n",
       "       [0.25950663, 0.77727233, 0.96121003, 0.55419164, 0.03502402],\n",
       "       [0.7634411 , 0.22957565, 0.47430193, 0.53136687, 0.04776636]])"
      ]
     },
     "execution_count": 48,
     "metadata": {},
     "output_type": "execute_result"
    }
   ],
   "source": [
    "import numpy as np\n",
    "mat=np.random.rand(6,5)\n",
    "mat\n"
   ]
  },
  {
   "cell_type": "code",
   "execution_count": 30,
   "metadata": {},
   "outputs": [
    {
     "data": {
      "text/plain": [
       "array([[0.13504302, 0.54144137],\n",
       "       [0.08206899, 0.54896378]])"
      ]
     },
     "execution_count": 30,
     "metadata": {},
     "output_type": "execute_result"
    }
   ],
   "source": [
    "mat[1:3,2:4]"
   ]
  },
  {
   "cell_type": "code",
   "execution_count": 31,
   "metadata": {},
   "outputs": [
    {
     "data": {
      "text/plain": [
       "array([[0.93987159, 0.755175  , 0.25051673, 0.91663363, 0.6494    ],\n",
       "       [0.50657243, 0.17434289, 0.        , 0.        , 0.22875137],\n",
       "       [0.09517721, 0.43037945, 0.        , 0.        , 0.33087475],\n",
       "       [0.17262683, 0.51725863, 0.83124545, 0.70180956, 0.35399325],\n",
       "       [0.30247671, 0.52517184, 0.92602194, 0.01585037, 0.26942446]])"
      ]
     },
     "execution_count": 31,
     "metadata": {},
     "output_type": "execute_result"
    }
   ],
   "source": [
    "mat[1:3,2:4]=0\n",
    "mat"
   ]
  },
  {
   "cell_type": "code",
   "execution_count": 45,
   "metadata": {},
   "outputs": [
    {
     "data": {
      "text/plain": [
       "(0.939871591660584,\n",
       " 0.0,\n",
       " 0.0963984685876449,\n",
       " 0.31048102774186526,\n",
       " 0.3957429631622778,\n",
       " 0,\n",
       " 7)"
      ]
     },
     "execution_count": 45,
     "metadata": {},
     "output_type": "execute_result"
    }
   ],
   "source": [
    "mat.max(),mat.min(),mat.var(),mat.std(),mat.mean(),mat.argmax(),mat.argmin()"
   ]
  },
  {
   "cell_type": "code",
   "execution_count": 47,
   "metadata": {},
   "outputs": [
    {
     "data": {
      "text/plain": [
       "array([3.51159695, 0.90966669, 0.85643142, 2.57693371, 2.03894532])"
      ]
     },
     "execution_count": 47,
     "metadata": {},
     "output_type": "execute_result"
    }
   ],
   "source": [
    "mat.sum(axis=1)"
   ]
  }
 ],
 "metadata": {
  "kernelspec": {
   "display_name": "Python 3",
   "language": "python",
   "name": "python3"
  },
  "language_info": {
   "codemirror_mode": {
    "name": "ipython",
    "version": 3
   },
   "file_extension": ".py",
   "mimetype": "text/x-python",
   "name": "python",
   "nbconvert_exporter": "python",
   "pygments_lexer": "ipython3",
   "version": "3.8.9"
  }
 },
 "nbformat": 4,
 "nbformat_minor": 4
}
