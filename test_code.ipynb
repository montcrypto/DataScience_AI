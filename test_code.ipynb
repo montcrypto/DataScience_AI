{
 "cells": [
  {
   "cell_type": "code",
   "execution_count": 3,
   "id": "658786aa-09eb-4768-8c62-054dbc75e94a",
   "metadata": {},
   "outputs": [
    {
     "name": "stdout",
     "output_type": "stream",
     "text": [
      "(34.950215, 135.773187)\n"
     ]
    }
   ],
   "source": [
    "univ_dic={'Kyoto University':(35.026244,135.780822),'Kyoto University of Education':(34.950215,135.773187),'Kyoto Institute of Technology':(35.049664,135.782046)}\n",
    "print(univ_dic['Kyoto University of Education'])"
   ]
  },
  {
   "cell_type": "code",
   "execution_count": 4,
   "id": "ab34d4d5-f930-4b18-bdb7-d69ac8e36556",
   "metadata": {},
   "outputs": [
    {
     "data": {
      "text/html": [
       "<div>\n",
       "<style scoped>\n",
       "    .dataframe tbody tr th:only-of-type {\n",
       "        vertical-align: middle;\n",
       "    }\n",
       "\n",
       "    .dataframe tbody tr th {\n",
       "        vertical-align: top;\n",
       "    }\n",
       "\n",
       "    .dataframe thead th {\n",
       "        text-align: right;\n",
       "    }\n",
       "</style>\n",
       "<table border=\"1\" class=\"dataframe\">\n",
       "  <thead>\n",
       "    <tr style=\"text-align: right;\">\n",
       "      <th></th>\n",
       "      <th>latitude</th>\n",
       "      <th>longitude</th>\n",
       "    </tr>\n",
       "  </thead>\n",
       "  <tbody>\n",
       "    <tr>\n",
       "      <th>Kyoto University</th>\n",
       "      <td>35.026244</td>\n",
       "      <td>135.780822</td>\n",
       "    </tr>\n",
       "    <tr>\n",
       "      <th>Kyoto University of Education</th>\n",
       "      <td>34.950215</td>\n",
       "      <td>135.773187</td>\n",
       "    </tr>\n",
       "    <tr>\n",
       "      <th>Kyoto Institute of Technology</th>\n",
       "      <td>35.049664</td>\n",
       "      <td>135.782046</td>\n",
       "    </tr>\n",
       "  </tbody>\n",
       "</table>\n",
       "</div>"
      ],
      "text/plain": [
       "                                latitude   longitude\n",
       "Kyoto University               35.026244  135.780822\n",
       "Kyoto University of Education  34.950215  135.773187\n",
       "Kyoto Institute of Technology  35.049664  135.782046"
      ]
     },
     "execution_count": 4,
     "metadata": {},
     "output_type": "execute_result"
    }
   ],
   "source": [
    "import pandas as pd\n",
    "df=pd.DataFrame(univ_dic, index=['latitude','longitude'])\n",
    "df.T"
   ]
  },
  {
   "cell_type": "code",
   "execution_count": 5,
   "id": "39e676d8-4ef1-425a-ac59-a6f6d36daea2",
   "metadata": {},
   "outputs": [
    {
     "data": {
      "image/png": "[encoded data removed]",
      "text/plain": [
       "<Figure size 432x288 with 1 Axes>"
      ]
     },
     "metadata": {
      "needs_background": "light"
     },
     "output_type": "display_data"
    }
   ],
   "source": [
    "import matplotlib.pyplot as plt\n",
    "df.T.plot.scatter(y='latitude',x='longitude',grid=True, legend=True)\n",
    "plt.axis('square')\n",
    "plt.show()\n"
   ]
  },
  {
   "cell_type": "code",
   "execution_count": 8,
   "id": "2f67f464-b0c8-4e6f-bacf-2ebcd7710581",
   "metadata": {},
   "outputs": [
    {
     "data": {
      "text/plain": [
       "{'Kyoto University': (35.026244, 135.780822),\n",
       " 'Kyoto University of Education': (34.950215, 135.773187),\n",
       " 'Kyoto Institute of Technology': (35.049664, 135.782046)}"
      ]
     },
     "execution_count": 8,
     "metadata": {},
     "output_type": "execute_result"
    }
   ],
   "source": [
    "univ_dic={'Kyoto University':(35.026244,135.780822)}\n",
    "d_add1={'Kyoto University of Education':(34.950215,135.773187),'Kyoto Institute of Technology':(35.049664,135.782046)}\n",
    "univ_dic.update(d_add1)\n",
    "univ_dic\n",
    "print(univ_dic['Kyoto University of Education'])"
   ]
  },
  {
   "cell_type": "code",
   "execution_count": 10,
   "id": "1aa77882-5117-4a3f-9e8f-33d6b37325c3",
   "metadata": {},
   "outputs": [
    {
     "data": {
      "text/plain": [
       "{'osaka': (34.68639, 135.52), 'kyoto': (35.02139, 135.75556)}"
      ]
     },
     "execution_count": 10,
     "metadata": {},
     "output_type": "execute_result"
    }
   ],
   "source": [
    "kyoto=35.02139,135.75556\n",
    "osaka=34.68639,135.52\n",
    "yakusho_dic={'osaka':osaka,'kyoto':kyoto}\n",
    "yakusho_dic"
   ]
  },
  {
   "cell_type": "code",
   "execution_count": 25,
   "id": "7be95c99-52e9-4cbe-8d49-1c7ee15d599e",
   "metadata": {},
   "outputs": [],
   "source": [
    "x=list(range(1000))\n",
    "def gen(x):\n",
    "    tmp=[]\n",
    "    for i in x:\n",
    "        tmp.append(i)\n",
    "        if i%7==0:  #### ここが問題\n",
    "            yield tmp"
   ]
  },
  {
   "cell_type": "code",
   "execution_count": 26,
   "id": "a8bf4511-251d-4b31-8e20-cdaa6f4a5a5f",
   "metadata": {},
   "outputs": [],
   "source": [
    "mygen=gen(x)"
   ]
  },
  {
   "cell_type": "code",
   "execution_count": 32,
   "id": "67b6d5e3-470f-4b5f-a3e4-d7718867fab2",
   "metadata": {},
   "outputs": [
    {
     "data": {
      "text/plain": [
       "[0,\n",
       " 1,\n",
       " 2,\n",
       " 3,\n",
       " 4,\n",
       " 5,\n",
       " 6,\n",
       " 7,\n",
       " 8,\n",
       " 9,\n",
       " 10,\n",
       " 11,\n",
       " 12,\n",
       " 13,\n",
       " 14,\n",
       " 15,\n",
       " 16,\n",
       " 17,\n",
       " 18,\n",
       " 19,\n",
       " 20,\n",
       " 21,\n",
       " 22,\n",
       " 23,\n",
       " 24,\n",
       " 25,\n",
       " 26,\n",
       " 27,\n",
       " 28,\n",
       " 29,\n",
       " 30,\n",
       " 31,\n",
       " 32,\n",
       " 33,\n",
       " 34,\n",
       " 35]"
      ]
     },
     "execution_count": 32,
     "metadata": {},
     "output_type": "execute_result"
    }
   ],
   "source": [
    "next(mygen)"
   ]
  },
  {
   "cell_type": "code",
   "execution_count": null,
   "id": "9e4c792e-9c2e-42da-ad7b-d61538efa579",
   "metadata": {},
   "outputs": [],
   "source": []
  }
 ],
 "metadata": {
  "kernelspec": {
   "display_name": "Python 3 (ipykernel)",
   "language": "python",
   "name": "python3"
  },
  "language_info": {
   "codemirror_mode": {
    "name": "ipython",
    "version": 3
   },
   "file_extension": ".py",
   "mimetype": "text/x-python",
   "name": "python",
   "nbconvert_exporter": "python",
   "pygments_lexer": "ipython3",
   "version": "3.8.10"
  }
 },
 "nbformat": 4,
 "nbformat_minor": 5
}
